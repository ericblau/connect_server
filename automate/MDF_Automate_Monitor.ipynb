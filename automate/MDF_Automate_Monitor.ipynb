{
 "cells": [
  {
   "cell_type": "code",
   "execution_count": null,
   "metadata": {},
   "outputs": [],
   "source": [
    "from copy import deepcopy\n",
    "import json\n",
    "import time\n",
    "import globus_automate_client\n",
    "import mdf_toolbox\n",
    "import os\n",
    "os.environ['FLASK_ENV']='development'\n",
    "from aws.globus_automate_flow import GlobusAutomateFlow, FlowAction\n",
    "from globus_sdk import ClientCredentialsAuthorizer, AccessTokenAuthorizer\n",
    "\n",
    "import globus_sdk\n",
    "from globus_automate_client import FlowsClient\n",
    "\n"
   ]
  },
  {
   "cell_type": "code",
   "execution_count": null,
   "metadata": {},
   "outputs": [],
   "source": [
    "MANAGE_FLOWS_SCOPE = \"https://auth.globus.org/scopes/eec9b274-0c81-4334-bdc2-54e90e689b9a/manage_flows\"\n",
    "\n",
    "\n",
    "def authorizer_callback(*args, **kwargs):\n",
    "    auth = AccessTokenAuthorizer(\n",
    "        tokens.by_resource_server[mdf_flow.flow_id]['access_token']\n",
    "    )\n",
    "    return auth\n",
    "\n",
    "with open(\".mdfsecrets\", 'r') as f:\n",
    "    globus_secrets = json.load(f)\n",
    "    \n",
    "mdf_flow = GlobusAutomateFlow.from_existing_flow(\"mdf_flow_info.json\")\n",
    "conf_client = globus_sdk.ConfidentialAppAuthClient(\n",
    "            globus_secrets['API_CLIENT_ID'],\n",
    "            globus_secrets['API_CLIENT_SECRET'])\n",
    "\n",
    "requested_scopes = [\n",
    "    \"https://auth.globus.org/scopes/eec9b274-0c81-4334-bdc2-54e90e689b9a/manage_flows\",\n",
    "    \"https://auth.globus.org/scopes/eec9b274-0c81-4334-bdc2-54e90e689b9a/view_flows\",\n",
    "    \"https://auth.globus.org/scopes/eec9b274-0c81-4334-bdc2-54e90e689b9a/run\",\n",
    "    \"https://auth.globus.org/scopes/eec9b274-0c81-4334-bdc2-54e90e689b9a/run_status\",\n",
    "    mdf_flow.flow_scope\n",
    "]\n",
    "\n",
    "tokens = conf_client.oauth2_client_credentials_tokens(\n",
    "    requested_scopes=requested_scopes)\n",
    "\n",
    "cca = ClientCredentialsAuthorizer(\n",
    "    conf_client,\n",
    "    MANAGE_FLOWS_SCOPE,\n",
    "    tokens.by_resource_server['flows_automated_tests']['access_token'],\n",
    "    tokens.by_resource_server['flows_automated_tests']['expires_at_seconds']\n",
    ")\n",
    "\n",
    "flows_client = FlowsClient.new_client(\n",
    "    client_id=globus_secrets['API_CLIENT_ID'],\n",
    "    authorizer_callback=authorizer_callback,\n",
    "    authorizer=cca)\n"
   ]
  },
  {
   "cell_type": "code",
   "execution_count": null,
   "metadata": {},
   "outputs": [],
   "source": [
    "flow = GlobusAutomateFlow.from_existing_flow(\"mdf_flow_info.json\")\n",
    "action = FlowAction(flow, \"096382b6-a820-4b6a-a1bc-5b188db3d82b\")\n",
    "flow.set_client(flows_client)"
   ]
  },
  {
   "cell_type": "code",
   "execution_count": null,
   "metadata": {},
   "outputs": [],
   "source": [
    "action.get_status()"
   ]
  },
  {
   "cell_type": "code",
   "execution_count": null,
   "metadata": {},
   "outputs": [],
   "source": [
    "# Get test input for Flow\n",
    "with open(\"mdf_flow_input.json\") as f:\n",
    "    flow_input = json.load(f)\n",
    "\n",
    "# Add credentials to input\n",
    "flow_input[\"_private_feedstock_auth_header\"] = feedstock_auth_header\n",
    "flow_input[\"_tokens\"] = {\"MDFUser\": run_as_token}\n",
    "\n",
    "# Create unique source_id for submission (source_id must be unique except for updates)\n",
    "source_id = \"mdf_flow_test_\" + str(int(time.time())) + \"_v1.1\"\n",
    "flow_input[\"source_id\"] = source_id"
   ]
  },
  {
   "cell_type": "code",
   "execution_count": null,
   "metadata": {},
   "outputs": [],
   "source": [
    "# Initiate Flow\n",
    "# Careful to run this cell only once per test - the first Flow's Action ID will be overwritten and lost\n",
    "# if this is run a second time\n",
    "flow_res = flows_client.run_flow(flow_id, flow_scope, flow_input)\n",
    "flow_res.data"
   ]
  },
  {
   "cell_type": "code",
   "execution_count": null,
   "metadata": {},
   "outputs": [],
   "source": [
    "# If looking at a flow started elsewhere\n",
    "# Alternatively, to keep the same Flow ID and scope, update the Flow\n",
    "# Deploying recommended over updating - Automate Flow updates are not stable\n",
    "with open(\"mdf_flow_info.json\") as f:\n",
    "    flow_info = json.load(f)\n",
    "    flow_id = flow_info[\"flow_id\"]\n",
    "    flow_scope = flow_info[\"flow_scope\"]\n",
    "\n",
    "action_id = \"69a7cff3-9ca8-41e0-a998-e4378051f5df\"\n",
    "print(flow_info)"
   ]
  },
  {
   "cell_type": "code",
   "execution_count": null,
   "metadata": {
    "scrolled": true
   },
   "outputs": [],
   "source": [
    "# Check status of Flow\n",
    "# This cell should be run multiple times, to check the status until the Flow succeeds or fails\n",
    "status = flows_client.flow_action_status(flow_id, flow_scope, action_id).data\n",
    "print(json.dumps(status, indent=4, sort_keys=True))"
   ]
  },
  {
   "cell_type": "code",
   "execution_count": null,
   "metadata": {
    "scrolled": true
   },
   "outputs": [],
   "source": [
    "# Check the Flow Log\n",
    "# The Log is very verbose and only necessary when debugging errors in Flow execution\n",
    "flows_client.flow_action_log(flow_id, flow_scope, flow_res[\"action_id\"], limit=100).data"
   ]
  },
  {
   "cell_type": "code",
   "execution_count": null,
   "metadata": {},
   "outputs": [],
   "source": []
  }
 ],
 "metadata": {
  "kernelspec": {
   "display_name": "Python 3",
   "language": "python",
   "name": "python3"
  },
  "language_info": {
   "codemirror_mode": {
    "name": "ipython",
    "version": 3
   },
   "file_extension": ".py",
   "mimetype": "text/x-python",
   "name": "python",
   "nbconvert_exporter": "python",
   "pygments_lexer": "ipython3",
   "version": "3.7.10"
  }
 },
 "nbformat": 4,
 "nbformat_minor": 4
}
