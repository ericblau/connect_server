{
 "cells": [
  {
   "cell_type": "code",
   "execution_count": 3,
   "metadata": {},
   "outputs": [],
   "source": [
    "import os\n",
    "os.environ[\"FLASK_ENV\"]='development'\n",
    "\n",
    "import globus_automate_client\n",
    "from mdf_connect_server.automate.globus_automate_flow import GlobusAutomateFlow\n",
    "import mdf_toolbox\n",
    "import json\n",
    "import time"
   ]
  },
  {
   "cell_type": "code",
   "execution_count": 5,
   "metadata": {},
   "outputs": [
    {
     "name": "stdout",
     "output_type": "stream",
     "text": [
      "Globus Automate Flow: id=cc7d1112-104c-419b-a159-81c9887d420d, scope=https://auth.globus.org/scopes/cc7d1112-104c-419b-a159-81c9887d420d/flow_cc7d1112_104c_419b_a159_81c9887d420d_user\n"
     ]
    }
   ],
   "source": [
    "from mdf_connect_server.automate.globus_automate_flow import GlobusAutomateFlow  # NOQA\n",
    "\n",
    "native_app_id = \"417301b1-5101-456a-8a27-423e71a2ae26\"\n",
    "client = globus_automate_client.create_flows_client(native_app_id)\n",
    "mdf_flow = GlobusAutomateFlow.from_existing_flow(client, \"mdf_flow_info.json\")\n",
    "\n",
    "print(mdf_flow)"
   ]
  },
  {
   "cell_type": "code",
   "execution_count": 7,
   "metadata": {},
   "outputs": [],
   "source": [
    "# Generate input credentials\n",
    "# The feedstock auth header is shorter-lived, so it's not set in the Flow defintition.\n",
    "# However, the header must be from an identity with access to the Xtract output location (currently Petrel)\n",
    "petrel_auth = mdf_toolbox.login(services=[\"petrel\"], make_clients=False)[\"petrel\"]\n",
    "feedstock_auth_header = {}\n",
    "petrel_auth.set_authorization_header(feedstock_auth_header)\n",
    "feedstock_auth_header = feedstock_auth_header[\"Authorization\"]\n",
    "\n",
    "# The RunAs token is used to Transfer data from the user as the user's identity.\n",
    "# It will be given by the MDF user (by logging in with MDF).\n",
    "# NOTE: Currently, RunAs is not used on the Transfer.\n",
    "run_as_auth = mdf_flow.get_runas_auth()\n",
    "run_as_token = run_as_auth.refresh_token"
   ]
  },
  {
   "cell_type": "code",
   "execution_count": 8,
   "metadata": {},
   "outputs": [
    {
     "data": {
      "text/plain": [
       "'mdf_flow_test_1607114852_v1.1'"
      ]
     },
     "execution_count": 8,
     "metadata": {},
     "output_type": "execute_result"
    }
   ],
   "source": [
    "# Get test input for Flow\n",
    "with open(\"mdf_flow_input.json\") as f:\n",
    "    flow_input = json.load(f)\n",
    "\n",
    "# Add credentials to input\n",
    "flow_input[\"_private_feedstock_auth_header\"] = feedstock_auth_header\n",
    "flow_input[\"_tokens\"] = {\"MDFUser\": run_as_token}\n",
    "\n",
    "# Create unique source_id for submission (source_id must be unique except for updates)\n",
    "source_id = \"mdf_flow_test_\" + str(int(time.time())) + \"_v1.1\"\n",
    "flow_input[\"source_id\"] = source_id\n",
    "source_id"
   ]
  },
  {
   "cell_type": "code",
   "execution_count": 9,
   "metadata": {},
   "outputs": [],
   "source": [
    "flow = mdf_flow.run_flow(flow_input)"
   ]
  },
  {
   "cell_type": "code",
   "execution_count": 10,
   "metadata": {},
   "outputs": [
    {
     "name": "stdout",
     "output_type": "stream",
     "text": [
      "{\n",
      "    \"action_id\": \"8702f9bf-bd69-46fe-a7e4-650eea98f409\",\n",
      "    \"completion_time\": \"2020-12-04T20:49:37.987000+00:00\",\n",
      "    \"created_by\": \"urn:globus:auth:identity:8dd693cf-f1a0-4ee4-8079-b69705523e6b\",\n",
      "    \"details\": {\n",
      "        \"output\": {\n",
      "            \"UndoUserPermissionResult\": {},\n",
      "            \"UserPermissionResult\": {},\n",
      "            \"UserTransferResult\": {\n",
      "                \"action_id\": \"09a9ae3f-0615-4afd-8904-110c0ecf740e\",\n",
      "                \"completion_time\": \"2020-12-04T20:49:25.394000+00:00\",\n",
      "                \"created_by\": \"urn:globus:auth:identity:8dd693cf-f1a0-4ee4-8079-b69705523e6b\",\n",
      "                \"details\": {\n",
      "                    \"output\": {\n",
      "                        \"TransferResult\": {\n",
      "                            \"action_id\": \"1MOrQctV78G74\",\n",
      "                            \"completion_time\": \"2020-12-04T20:49:24.188486+00:00\",\n",
      "                            \"creator_id\": \"urn:globus:auth:identity:8dd693cf-f1a0-4ee4-8079-b69705523e6b\",\n",
      "                            \"details\": {\n",
      "                                \"bytes_checksummed\": 0,\n",
      "                                \"bytes_transferred\": 6560146724,\n",
      "                                \"canceled_by_admin\": null,\n",
      "                                \"canceled_by_admin_message\": null,\n",
      "                                \"command\": \"API 0.10\",\n",
      "                                \"completion_time\": \"2020-12-04T20:49:11+00:00\",\n",
      "                                \"deadline\": \"2020-12-05T20:48:51+00:00\",\n",
      "                                \"delete_destination_extra\": false,\n",
      "                                \"destination_endpoint\": \"petrel#researchdataanalytics\",\n",
      "                                \"destination_endpoint_display_name\": \"petrel#researchdataanalytics\",\n",
      "                                \"destination_endpoint_id\": \"e38ee745-6d04-11e5-ba46-22000b92c6ec\",\n",
      "                                \"directories\": 1976,\n",
      "                                \"effective_bytes_per_second\": 323873608,\n",
      "                                \"encrypt_data\": false,\n",
      "                                \"event_list\": [\n",
      "                                    {\n",
      "                                        \"DATA_TYPE\": \"event\",\n",
      "                                        \"code\": \"SUCCEEDED\",\n",
      "                                        \"description\": \"succeeded\",\n",
      "                                        \"details\": {\n",
      "                                            \"files_succeeded\": 4119\n",
      "                                        },\n",
      "                                        \"is_error\": false,\n",
      "                                        \"time\": \"2020-12-04T20:49:11+00:00\"\n",
      "                                    },\n",
      "                                    {\n",
      "                                        \"DATA_TYPE\": \"event\",\n",
      "                                        \"code\": \"PROGRESS\",\n",
      "                                        \"description\": \"progress\",\n",
      "                                        \"details\": {\n",
      "                                            \"bytes_transferred\": 5828894490,\n",
      "                                            \"duration\": 7.48,\n",
      "                                            \"mbps\": 6231.68\n",
      "                                        },\n",
      "                                        \"is_error\": false,\n",
      "                                        \"time\": \"2020-12-04T20:49:11+00:00\"\n",
      "                                    },\n",
      "                                    {\n",
      "                                        \"DATA_TYPE\": \"event\",\n",
      "                                        \"code\": \"SUCCEEDED\",\n",
      "                                        \"description\": \"succeeded\",\n",
      "                                        \"details\": {\n",
      "                                            \"files_succeeded\": 410\n",
      "                                        },\n",
      "                                        \"is_error\": false,\n",
      "                                        \"time\": \"2020-12-04T20:49:03+00:00\"\n",
      "                                    },\n",
      "                                    {\n",
      "                                        \"DATA_TYPE\": \"event\",\n",
      "                                        \"code\": \"PROGRESS\",\n",
      "                                        \"description\": \"progress\",\n",
      "                                        \"details\": {\n",
      "                                            \"bytes_transferred\": 731252234,\n",
      "                                            \"duration\": 2.23,\n",
      "                                            \"mbps\": 2628.4\n",
      "                                        },\n",
      "                                        \"is_error\": false,\n",
      "                                        \"time\": \"2020-12-04T20:49:03+00:00\"\n",
      "                                    },\n",
      "                                    {\n",
      "                                        \"DATA_TYPE\": \"event\",\n",
      "                                        \"code\": \"STARTED\",\n",
      "                                        \"description\": \"started\",\n",
      "                                        \"details\": {\n",
      "                                            \"concurrency\": 32,\n",
      "                                            \"parallelism\": 4,\n",
      "                                            \"pipelining\": 20,\n",
      "                                            \"type\": \"GridFTP Transfer\"\n",
      "                                        },\n",
      "                                        \"is_error\": false,\n",
      "                                        \"time\": \"2020-12-04T20:49:01+00:00\"\n",
      "                                    }\n",
      "                                ],\n",
      "                                \"fatal_error\": null,\n",
      "                                \"faults\": 0,\n",
      "                                \"files\": 4529,\n",
      "                                \"files_skipped\": 0,\n",
      "                                \"files_transferred\": 4529,\n",
      "                                \"history_deleted\": false,\n",
      "                                \"is_ok\": null,\n",
      "                                \"is_paused\": false,\n",
      "                                \"key\": \"complete,2020-12-04T20:49:10.908370\",\n",
      "                                \"label\": \"MDF Flow Test Transfer1\",\n",
      "                                \"nice_status\": null,\n",
      "                                \"nice_status_details\": null,\n",
      "                                \"nice_status_expires_in\": null,\n",
      "                                \"nice_status_short_description\": null,\n",
      "                                \"owner_id\": \"8dd693cf-f1a0-4ee4-8079-b69705523e6b\",\n",
      "                                \"preserve_timestamp\": false,\n",
      "                                \"recursive_symlinks\": \"ignore\",\n",
      "                                \"request_time\": \"2020-12-04T20:48:51+00:00\",\n",
      "                                \"source_endpoint\": \"petrel#researchdataanalytics\",\n",
      "                                \"source_endpoint_display_name\": \"petrel#researchdataanalytics\",\n",
      "                                \"source_endpoint_id\": \"e38ee745-6d04-11e5-ba46-22000b92c6ec\",\n",
      "                                \"status\": \"SUCCEEDED\",\n",
      "                                \"subtasks_canceled\": 0,\n",
      "                                \"subtasks_expired\": 0,\n",
      "                                \"subtasks_failed\": 0,\n",
      "                                \"subtasks_pending\": 0,\n",
      "                                \"subtasks_retrying\": 0,\n",
      "                                \"subtasks_succeeded\": 6506,\n",
      "                                \"subtasks_total\": 6506,\n",
      "                                \"symlinks\": 0,\n",
      "                                \"sync_level\": null,\n",
      "                                \"task_id\": \"1cdcc31c-3672-11eb-b54a-02d9497ca481\",\n",
      "                                \"type\": \"TRANSFER\",\n",
      "                                \"username\": \"u_rxljht7rubhojadzw2lqkur6nm\",\n",
      "                                \"verify_checksum\": false\n",
      "                            },\n",
      "                            \"release_after\": 2592000,\n",
      "                            \"start_time\": \"2020-12-04T20:48:49.480670+00:00\",\n",
      "                            \"state_name\": \"TransferAction\",\n",
      "                            \"status\": \"SUCCEEDED\"\n",
      "                        },\n",
      "                        \"action_inputs\": [\n",
      "                            {\n",
      "                                \"destination_endpoint_id\": \"e38ee745-6d04-11e5-ba46-22000b92c6ec\",\n",
      "                                \"label\": \"MDF Flow Test Transfer1\",\n",
      "                                \"source_endpoint_id\": \"e38ee745-6d04-11e5-ba46-22000b92c6ec\",\n",
      "                                \"transfer_items\": [\n",
      "                                    {\n",
      "                                        \"destination_path\": \"/MDF/mdf_connect/test_files/deleteme/data/test123/\",\n",
      "                                        \"recursive\": true,\n",
      "                                        \"source_path\": \"/MDF/mdf_connect/test_files/canonical_datasets/dft/\"\n",
      "                                    }\n",
      "                                ]\n",
      "                            }\n",
      "                        ],\n",
      "                        \"inputs\": {\n",
      "                            \"action_id\": \"WE1waCR2YCuU\",\n",
      "                            \"completion_time\": \"2020-12-04T20:49:24.746756\",\n",
      "                            \"creator_id\": \"urn:globus:auth:identity:8dd693cf-f1a0-4ee4-8079-b69705523e6b\",\n",
      "                            \"details\": {\n",
      "                                \"action_inputs\": []\n",
      "                            },\n",
      "                            \"release_after\": \"2592000\",\n",
      "                            \"start_time\": \"2020-12-04T20:49:24.746445\",\n",
      "                            \"state_name\": \"RemoveInput\",\n",
      "                            \"status\": \"SUCCEEDED\"\n",
      "                        },\n",
      "                        \"loop_info\": {\n",
      "                            \"action_id\": \"DFs9T54zhevk\",\n",
      "                            \"completion_time\": \"2020-12-04T20:49:25.098939\",\n",
      "                            \"creator_id\": \"urn:globus:auth:identity:8dd693cf-f1a0-4ee4-8079-b69705523e6b\",\n",
      "                            \"details\": {\n",
      "                                \"loop_finished\": true\n",
      "                            },\n",
      "                            \"release_after\": \"2592000\",\n",
      "                            \"start_time\": \"2020-12-04T20:49:25.098199\",\n",
      "                            \"state_name\": \"CheckInputs\",\n",
      "                            \"status\": \"SUCCEEDED\"\n",
      "                        }\n",
      "                    }\n",
      "                },\n",
      "                \"start_time\": \"2020-12-04T20:48:42.196000+00:00\",\n",
      "                \"state_name\": \"UserTransfer\",\n",
      "                \"status\": \"SUCCEEDED\"\n",
      "            },\n",
      "            \"citrine\": false,\n",
      "            \"curation_input\": false,\n",
      "            \"data_destinations\": [],\n",
      "            \"data_permissions\": {},\n",
      "            \"dataset_acl\": [\n",
      "                \"urn:globus:auth:identity:117e8833-68f5-4cb2-afb3-05b25db69be1\"\n",
      "            ],\n",
      "            \"dataset_mdata\": {},\n",
      "            \"feedstock_https_domain\": \"https://e38ee745-6d04-11e5-ba46-22000b92c6ec.e.globus.org\",\n",
      "            \"group_by_dir\": false,\n",
      "            \"mdf_dataset_path\": \"/MDF/mdf_connect/test_files/deleteme/data/test123/\",\n",
      "            \"mdf_portal_link\": \"https://example.com/example_link\",\n",
      "            \"mdf_publish\": false,\n",
      "            \"mdf_storage_ep\": \"e38ee745-6d04-11e5-ba46-22000b92c6ec\",\n",
      "            \"mrr\": false,\n",
      "            \"search_index\": \"aeccc263-f083-45f5-ab1d-08ee702b3384\",\n",
      "            \"source_id\": \"mdf_flow_test_1607114852_v1.1\",\n",
      "            \"user_transfer_inputs\": [\n",
      "                {\n",
      "                    \"destination_endpoint_id\": \"e38ee745-6d04-11e5-ba46-22000b92c6ec\",\n",
      "                    \"label\": \"MDF Flow Test Transfer1\",\n",
      "                    \"source_endpoint_id\": \"e38ee745-6d04-11e5-ba46-22000b92c6ec\",\n",
      "                    \"transfer_items\": [\n",
      "                        {\n",
      "                            \"destination_path\": \"/MDF/mdf_connect/test_files/deleteme/data/test123/\",\n",
      "                            \"recursive\": true,\n",
      "                            \"source_path\": \"/MDF/mdf_connect/test_files/canonical_datasets/dft/\"\n",
      "                        }\n",
      "                    ]\n",
      "                }\n",
      "            ],\n",
      "            \"validator_params\": {}\n",
      "        }\n",
      "    },\n",
      "    \"start_time\": \"2020-12-04T20:48:36.004000+00:00\",\n",
      "    \"status\": \"SUCCEEDED\"\n",
      "}\n"
     ]
    }
   ],
   "source": [
    "print(json.dumps(flow.get_status(), indent=4, sort_keys=True))"
   ]
  },
  {
   "cell_type": "code",
   "execution_count": 11,
   "metadata": {},
   "outputs": [
    {
     "data": {
      "text/plain": [
       "[]"
      ]
     },
     "execution_count": 11,
     "metadata": {},
     "output_type": "execute_result"
    }
   ],
   "source": [
    "flow.get_error_msgs()"
   ]
  },
  {
   "cell_type": "code",
   "execution_count": 8,
   "metadata": {},
   "outputs": [
    {
     "data": {
      "text/plain": [
       "'a141115e-f938-4111-8b6f-769af74c9f94'"
      ]
     },
     "execution_count": 8,
     "metadata": {},
     "output_type": "execute_result"
    }
   ],
   "source": [
    "flow.action_id"
   ]
  },
  {
   "cell_type": "code",
   "execution_count": 9,
   "metadata": {},
   "outputs": [
    {
     "data": {
      "text/plain": [
       "<mdf_connect_server.automate.globus_automate_flow.GlobusAutomateFlow at 0x111691ed0>"
      ]
     },
     "execution_count": 9,
     "metadata": {},
     "output_type": "execute_result"
    }
   ],
   "source": [
    "automate"
   ]
  },
  {
   "cell_type": "code",
   "execution_count": 10,
   "metadata": {},
   "outputs": [
    {
     "name": "stdout",
     "output_type": "stream",
     "text": [
      "Globus Automate Flow: id=33af393f-4c5d-4031-ba2d-0c898de7c4fd, scope=https://auth.globus.org/scopes/33af393f-4c5d-4031-ba2d-0c898de7c4fd/flow_33af393f_4c5d_4031_ba2d_0c898de7c4fd_user\n"
     ]
    }
   ],
   "source": [
    "print(automate)"
   ]
  },
  {
   "cell_type": "code",
   "execution_count": null,
   "metadata": {},
   "outputs": [],
   "source": []
  }
 ],
 "metadata": {
  "kernelspec": {
   "display_name": "Python 3",
   "language": "python",
   "name": "python3"
  },
  "language_info": {
   "codemirror_mode": {
    "name": "ipython",
    "version": 3
   },
   "file_extension": ".py",
   "mimetype": "text/x-python",
   "name": "python",
   "nbconvert_exporter": "python",
   "pygments_lexer": "ipython3",
   "version": "3.7.6"
  }
 },
 "nbformat": 4,
 "nbformat_minor": 4
}
