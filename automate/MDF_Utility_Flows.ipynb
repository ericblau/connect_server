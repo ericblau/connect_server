{
 "cells": [
  {
   "cell_type": "code",
   "execution_count": null,
   "metadata": {},
   "outputs": [],
   "source": [
    "import globus_automate_client\n",
    "import mdf_toolbox\n",
    "import json"
   ]
  },
  {
   "cell_type": "code",
   "execution_count": null,
   "metadata": {},
   "outputs": [],
   "source": [
    "native_app_id = \"417301b1-5101-456a-8a27-423e71a2ae26\"  # Premade native app ID\n",
    "flows_client = globus_automate_client.create_flows_client(native_app_id)"
   ]
  },
  {
   "cell_type": "code",
   "execution_count": null,
   "metadata": {},
   "outputs": [],
   "source": []
  },
  {
   "cell_type": "code",
   "execution_count": null,
   "metadata": {},
   "outputs": [],
   "source": [
    "# Required secret keys for testing the Curation Flow\n",
    "# Not required for deployment, or for testing of the Transfer Flow\n",
    "from getpass import getpass\n",
    "smtp_user = getpass(\"SMTP Username: \")\n",
    "smtp_pass = getpass(\"SMTP Password: \")\n",
    "smtp_hostname = \"email-smtp.us-east-1.amazonaws.com\""
   ]
  },
  {
   "cell_type": "code",
   "execution_count": null,
   "metadata": {},
   "outputs": [],
   "source": []
  },
  {
   "cell_type": "code",
   "execution_count": null,
   "metadata": {},
   "outputs": [],
   "source": [
    "# Load Transfer Loop Flow definition from JSON\n",
    "with open(\"transfer_loop_flow_def.json\") as f:\n",
    "    transfer_flow_def = json.load(f)"
   ]
  },
  {
   "cell_type": "code",
   "execution_count": null,
   "metadata": {},
   "outputs": [],
   "source": [
    "transfer_deploy_res = flows_client.deploy_flow(\n",
    "    flow_definition=transfer_flow_def[\"definition\"],\n",
    "    title=transfer_flow_def[\"title\"],\n",
    "    description=transfer_flow_def[\"description\"],\n",
    "    visible_to=transfer_flow_def[\"visible_to\"],\n",
    "    runnable_by=transfer_flow_def[\"runnable_by\"],\n",
    "    administered_by=transfer_flow_def[\"administered_by\"],\n",
    "    # TODO: Make JSONSchema\n",
    "    input_schema={},\n",
    "    validate_definition=True,\n",
    "    validate_input_schema=True\n",
    ")\n",
    "transfer_flow_id = transfer_deploy_res[\"id\"]\n",
    "transfer_flow_scope = transfer_deploy_res[\"globus_auth_scope\"]\n",
    "\n",
    "# Save Flow ID/scope for future use\n",
    "with open(\"transfer_loop_flow_info.json\", 'w') as f:\n",
    "    transfer_flow_info = {\n",
    "        \"flow_id\": transfer_flow_id,\n",
    "        \"flow_scope\": transfer_flow_scope\n",
    "    }\n",
    "    json.dump(transfer_flow_info, f, indent=4)"
   ]
  },
  {
   "cell_type": "code",
   "execution_count": null,
   "metadata": {},
   "outputs": [],
   "source": [
    "# Alternatively, to keep the same Flow ID and scope, update the Flow\n",
    "# Deploying recommended over updating - Automate Flow updates are not stable\n",
    "with open(\"transfer_loop_flow_info.json\") as f:\n",
    "    transfer_flow_info = json.load(f)\n",
    "    transfer_flow_id = transfer_flow_info[\"flow_id\"]\n",
    "    transfer_flow_scope = transfer_flow_info[\"flow_scope\"]\n",
    "\n",
    "transfer_update_res = flows_client.update_flow(\n",
    "    transfer_flow_id,\n",
    "    flow_definition=transfer_flow_def[\"definition\"],\n",
    "    title=transfer_flow_def[\"title\"],\n",
    "    description=transfer_flow_def[\"description\"],\n",
    "    visible_to=transfer_flow_def[\"visible_to\"],\n",
    "    runnable_by=transfer_flow_def[\"runnable_by\"],\n",
    "    administered_by=transfer_flow_def[\"administered_by\"],\n",
    "    # TODO\n",
    "    input_schema={},\n",
    "    validate_definition=True,\n",
    "    validate_input_schema=True\n",
    ")"
   ]
  },
  {
   "cell_type": "code",
   "execution_count": null,
   "metadata": {},
   "outputs": [],
   "source": [
    "# Print the ID and scope, which is useful for debugging purposes.\n",
    "print(transfer_flow_id)\n",
    "print(transfer_flow_scope)"
   ]
  },
  {
   "cell_type": "code",
   "execution_count": null,
   "metadata": {
    "scrolled": true
   },
   "outputs": [],
   "source": [
    "# Get test input for Flow\n",
    "# NOTE: You may need to change the test input if you don't have permissions on all testing endpoints\n",
    "with open(\"transfer_loop_flow_input.json\") as f:\n",
    "    transfer_flow_input = json.load(f)"
   ]
  },
  {
   "cell_type": "code",
   "execution_count": null,
   "metadata": {
    "scrolled": true
   },
   "outputs": [],
   "source": [
    "# Initiate Flow as you\n",
    "# Careful to run this cell only once per test - the first Flow's Action ID will be overwritten and lost\n",
    "# if this is run a second time.\n",
    "transfer_flow_res = flows_client.run_flow(transfer_flow_id, transfer_flow_scope, transfer_flow_input)\n",
    "transfer_flow_res.data"
   ]
  },
  {
   "cell_type": "code",
   "execution_count": null,
   "metadata": {
    "scrolled": true
   },
   "outputs": [],
   "source": [
    "# Check status of Flow\n",
    "# This cell should be run multiple times, to check the status until the Flow succeeds or fails\n",
    "transfer_status = flows_client.flow_action_status(transfer_flow_id, transfer_flow_scope, transfer_flow_res[\"action_id\"]).data\n",
    "print(json.dumps(transfer_status, indent=4, sort_keys=True))"
   ]
  },
  {
   "cell_type": "code",
   "execution_count": null,
   "metadata": {},
   "outputs": [],
   "source": [
    "# Check the Flow Log\n",
    "# The Log is very verbose and only necessary when debugging errors in Flow execution\n",
    "flows_client.flow_action_log(transfer_flow_id, transfer_flow_scope, transfer_flow_res[\"action_id\"], limit=100).data"
   ]
  },
  {
   "cell_type": "code",
   "execution_count": null,
   "metadata": {},
   "outputs": [],
   "source": []
  },
  {
   "cell_type": "code",
   "execution_count": null,
   "metadata": {},
   "outputs": [],
   "source": [
    "# Load Curation Flow from JSON\n",
    "with open(\"curation_flow_def.json\") as f:\n",
    "    curation_flow_def = json.load(f)"
   ]
  },
  {
   "cell_type": "code",
   "execution_count": null,
   "metadata": {},
   "outputs": [],
   "source": [
    "# Load other configuration variables\n",
    "# Please set these in the configuration file, not in-line here\n",
    "with open(\"curation_flow_config.json\") as f:\n",
    "    curation_config = json.load(f)\n",
    "\n",
    "# Default templates for emails\n",
    "curation_flow_def[\"definition\"][\"States\"][\"SendCuratorEmails\"][\"Parameters\"][\"body_template.=\"] = \\\n",
    "        (\"`$.curator_template` or '\" + curation_config[\"curator_email_template\"] + \"'\")\n",
    "curation_flow_def[\"definition\"][\"States\"][\"SendAuthorEmail\"][\"Parameters\"][\"body_template.=\"] = \\\n",
    "        (\"`$.author_template` or '\" + curation_config[\"author_email_template\"] + \"'\")\n",
    "\n",
    "# Curation text box prompt and default preamble\n",
    "curation_flow_def[\"definition\"][\"States\"][\"CurateData\"][\"Parameters\"][\"landing_page\"][\"text_input_form_prompt\"] = \\\n",
    "        curation_config[\"text_box_prompt\"]\n",
    "curation_flow_def[\"definition\"][\"States\"][\"CurateData\"][\"Parameters\"][\"landing_page\"][\"preamble_text.=\"] = \\\n",
    "        (\"`$.curation_text` or '\" + curation_config[\"preamble_text\"] + \"'\")"
   ]
  },
  {
   "cell_type": "code",
   "execution_count": null,
   "metadata": {
    "scrolled": true
   },
   "outputs": [],
   "source": [
    "curation_flow_deploy_res = flows_client.deploy_flow(\n",
    "    flow_definition=curation_flow_def[\"definition\"],\n",
    "    title=curation_flow_def[\"title\"],\n",
    "    description=curation_flow_def[\"description\"],\n",
    "    visible_to=curation_flow_def[\"visible_to\"],\n",
    "    runnable_by=curation_flow_def[\"runnable_by\"],\n",
    "    administered_by=curation_flow_def[\"administered_by\"],\n",
    "    # TODO: Make rough schema outline into JSONSchema\n",
    "    input_schema={}, #  curation_flow_def[\"schema\"],\n",
    "    validate_definition=True,\n",
    "    validate_input_schema=True\n",
    ")\n",
    "curation_flow_id = curation_flow_deploy_res[\"id\"]\n",
    "curation_flow_scope = curation_flow_deploy_res[\"globus_auth_scope\"]\n",
    "\n",
    "# Save Flow ID/scope for future use\n",
    "with open(\"curation_flow_info.json\", 'w') as f:\n",
    "    curation_flow_info = {\n",
    "        \"flow_id\": curation_flow_id,\n",
    "        \"flow_scope\": curation_flow_scope\n",
    "    }\n",
    "    json.dump(curation_flow_info, f, indent=4)"
   ]
  },
  {
   "cell_type": "code",
   "execution_count": null,
   "metadata": {},
   "outputs": [],
   "source": [
    "print(curation_flow_id)\n",
    "print(curation_flow_deploy_res[\"action_url\"])\n",
    "print(curation_flow_scope)"
   ]
  },
  {
   "cell_type": "code",
   "execution_count": null,
   "metadata": {},
   "outputs": [],
   "source": [
    "# Get test input\n",
    "with open(\"curation_flow_input.json\") as f:\n",
    "    curation_flow_input = json.load(f)\n",
    "    \n",
    "# Add private credentials\n",
    "curation_flow_input[\"_private_send_credentials\"] = [{\n",
    "    \"credential_type\": \"smtp\",\n",
    "    \"credential_value\": {\n",
    "        \"hostname\": smtp_hostname,\n",
    "        \"username\": smtp_user,\n",
    "        \"password\": smtp_pass\n",
    "\n",
    "    }\n",
    "}]"
   ]
  },
  {
   "cell_type": "code",
   "execution_count": null,
   "metadata": {},
   "outputs": [],
   "source": [
    "# Initiate Flow as you\n",
    "# Careful to run this cell only once per test - the first Flow's Action ID will be overwritten and lost\n",
    "# if this is run a second time.\n",
    "curation_flow_res = flows_client.run_flow(curation_flow_id, curation_flow_scope, curation_flow_input)\n",
    "curation_flow_res.data"
   ]
  },
  {
   "cell_type": "code",
   "execution_count": null,
   "metadata": {
    "scrolled": true
   },
   "outputs": [],
   "source": [
    "# Check status of Flow\n",
    "# This cell should be run multiple times, to check the status until the Flow succeeds or fails\n",
    "curation_status = flows_client.flow_action_status(curation_flow_id, curation_flow_scope, curation_flow_res[\"action_id\"]).data\n",
    "print(json.dumps(curation_status, indent=4, sort_keys=True))"
   ]
  },
  {
   "cell_type": "code",
   "execution_count": null,
   "metadata": {},
   "outputs": [],
   "source": [
    "# Check the Flow Log\n",
    "# The Log is very verbose and only necessary when debugging errors in Flow execution\n",
    "flows_client.flow_action_log(curation_flow_id, curation_flow_scope, curation_flow_res[\"action_id\"], limit=100).data"
   ]
  },
  {
   "cell_type": "code",
   "execution_count": null,
   "metadata": {},
   "outputs": [],
   "source": []
  }
 ],
 "metadata": {
  "kernelspec": {
   "display_name": "Python 3",
   "language": "python",
   "name": "python3"
  },
  "language_info": {
   "codemirror_mode": {
    "name": "ipython",
    "version": 3
   },
   "file_extension": ".py",
   "mimetype": "text/x-python",
   "name": "python",
   "nbconvert_exporter": "python",
   "pygments_lexer": "ipython3",
   "version": "3.8.1"
  }
 },
 "nbformat": 4,
 "nbformat_minor": 4
}
