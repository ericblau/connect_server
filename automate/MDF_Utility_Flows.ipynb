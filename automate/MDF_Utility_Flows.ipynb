{
 "cells": [
  {
   "cell_type": "code",
   "execution_count": null,
   "metadata": {},
   "outputs": [],
   "source": [
    "import globus_automate_client\n",
    "import mdf_toolbox\n",
    "import json"
   ]
  },
  {
   "cell_type": "code",
   "execution_count": null,
   "metadata": {},
   "outputs": [],
   "source": [
    "native_app_id = \"417301b1-5101-456a-8a27-423e71a2ae26\"  # Premade native app ID\n",
    "flows_client = globus_automate_client.create_flows_client(native_app_id)"
   ]
  },
  {
   "cell_type": "code",
   "execution_count": null,
   "metadata": {},
   "outputs": [],
   "source": []
  },
  {
   "cell_type": "code",
   "execution_count": null,
   "metadata": {},
   "outputs": [],
   "source": [
    "# Required secret keys for testing the Curation Flow\n",
    "# Not required for deployment, or for testing of the Transfer Flow\n",
    "from getpass import getpass\n",
    "smtp_user = getpass(\"SMTP Username: \")\n",
    "smtp_pass = getpass(\"SMTP Password: \")\n",
    "smtp_hostname = \"email-smtp.us-east-1.amazonaws.com\""
   ]
  },
  {
   "cell_type": "code",
   "execution_count": null,
   "metadata": {},
   "outputs": [],
   "source": []
  },
  {
   "cell_type": "code",
   "execution_count": null,
   "metadata": {},
   "outputs": [],
   "source": [
    "# Load Transfer Loop Flow definition from JSON\n",
    "with open(\"transfer_loop_flow_def.json\") as f:\n",
    "    transfer_flow_def = json.load(f)"
   ]
  },
  {
   "cell_type": "code",
   "execution_count": null,
   "metadata": {},
   "outputs": [],
   "source": [
    "flow_deploy_res = flows_client.deploy_flow(\n",
    "    flow_definition=transfer_flow_def[\"definition\"],\n",
    "    title=transfer_flow_def[\"title\"],\n",
    "    description=transfer_flow_def[\"description\"],\n",
    "    visible_to=transfer_flow_def[\"visible_to\"],\n",
    "    runnable_by=transfer_flow_def[\"runnable_by\"],\n",
    "    administered_by=transfer_flow_def[\"administered_by\"],\n",
    "    # TODO: Make JSONSchema\n",
    "    input_schema={},\n",
    "    validate_definition=True,\n",
    "    validate_input_schema=True\n",
    ")\n",
    "transfer_flow_id = flow_deploy_res[\"id\"]\n",
    "transfer_flow_scope = flow_deploy_res[\"globus_auth_scope\"]\n",
    "\n",
    "# Save Flow ID/scope for future use\n",
    "with open(\"transfer_loop_flow_info.json\", 'w') as f:\n",
    "    transfer_flow_info = {\n",
    "        \"flow_id\": transfer_flow_id,\n",
    "        \"flow_scope\": transfer_flow_scope\n",
    "    }\n",
    "    json.dump(transfer_flow_info, f, indent=4)"
   ]
  },
  {
   "cell_type": "code",
   "execution_count": null,
   "metadata": {},
   "outputs": [],
   "source": [
    "# Alternatively, to keep the same Flow ID and scope, update the Flow\n",
    "# Deploying recommended over updating - Automate Flow updates are not stable\n",
    "with open(\"transfer_loop_flow_info.json\") as f:\n",
    "    transfer_flow_info = json.load(f)\n",
    "    transfer_flow_id = transfer_flow_info[\"flow_id\"]\n",
    "    transfer_flow_scope = transfer_flow_info[\"flow_scope\"]\n",
    "\n",
    "flow_update_res = flows_client.update_flow(\n",
    "    transfer_flow_id,\n",
    "    flow_definition=transfer_flow_def[\"definition\"],\n",
    "    title=transfer_flow_def[\"title\"],\n",
    "    description=transfer_flow_def[\"description\"],\n",
    "    visible_to=transfer_flow_def[\"visible_to\"],\n",
    "    runnable_by=transfer_flow_def[\"runnable_by\"],\n",
    "    administered_by=transfer_flow_def[\"administered_by\"],\n",
    "    # TODO\n",
    "    input_schema={},\n",
    "    validate_definition=True,\n",
    "    validate_input_schema=True\n",
    ")"
   ]
  },
  {
   "cell_type": "code",
   "execution_count": null,
   "metadata": {},
   "outputs": [],
   "source": [
    "# Print the ID and scope, which is useful for debugging purposes.\n",
    "print(transfer_flow_id)\n",
    "print(transfer_flow_scope)"
   ]
  },
  {
   "cell_type": "code",
   "execution_count": null,
   "metadata": {
    "scrolled": true
   },
   "outputs": [],
   "source": [
    "# Get test input for Flow\n",
    "# NOTE: You may need to change the test input if you don't have permissions on all testing endpoints\n",
    "with open(\"transfer_loop_flow_input.json\") as f:\n",
    "    transfer_flow_input = json.load(f)"
   ]
  },
  {
   "cell_type": "code",
   "execution_count": null,
   "metadata": {
    "scrolled": true
   },
   "outputs": [],
   "source": [
    "# Initiate Flow as you\n",
    "# Careful to run this cell only once per test - the first Flow's Action ID will be overwritten and lost\n",
    "# if this is run a second time.\n",
    "transfer_flow_res = flows_client.run_flow(transfer_flow_id, transfer_flow_scope, transfer_flow_input)\n",
    "transfer_flow_res.data"
   ]
  },
  {
   "cell_type": "code",
   "execution_count": null,
   "metadata": {
    "scrolled": true
   },
   "outputs": [],
   "source": [
    "# Check status of Flow\n",
    "# This cell should be run multiple times, to check the status until the Flow succeeds or fails\n",
    "transfer_status = flows_client.flow_action_status(transfer_flow_id, transfer_flow_scope, transfer_flow_res[\"action_id\"]).data\n",
    "print(json.dumps(transfer_status, indent=4, sort_keys=True))"
   ]
  },
  {
   "cell_type": "code",
   "execution_count": null,
   "metadata": {},
   "outputs": [],
   "source": []
  },
  {
   "cell_type": "code",
   "execution_count": null,
   "metadata": {},
   "outputs": [],
   "source": [
    "# Templates cannot contain newlines\n",
    "curator_email_template = (\"A new submission is available for curation. \"\n",
    "\"Please visit this webpage to curate the submission: $landing_page \"\n",
    "\"(If this link leads to a 404 Not Found page after one minute, it has already been curated.)\")\n",
    "author_email_template = (\"Your submission has been $decision by a curator \"\n",
    "\"for the following reason: $reason\")\n",
    "preamble_text = \"Please review the submission and accept or reject it using the buttons below. You must also provide a reason for your decision.\"\n",
    "text_box_prompt = \"Please enter a reason for your decision. This will be stored and provided to the submitter.\"\n"
   ]
  },
  {
   "cell_type": "code",
   "execution_count": null,
   "metadata": {},
   "outputs": [],
   "source": [
    "curation_flow_def = {\n",
    "    \"definition\": {\n",
    "        \"StartAt\": \"StartFlow\",\n",
    "        \"States\": {\n",
    "            \"StartFlow\": {\n",
    "                \"Type\": \"Pass\",\n",
    "                \"Next\": \"ChooseNotifyCurator\"\n",
    "            },\n",
    "            \"ChooseNotifyCurator\": {\n",
    "                \"Type\": \"Choice\",\n",
    "                \"Choices\": [{\n",
    "                    \"Variable\": \"$.curator_emails\",\n",
    "                    \"BooleanEquals\": False,\n",
    "                    \"Next\": \"CurateData\"\n",
    "                }],\n",
    "                #\"Default\": \"EmailVarsStart\"\n",
    "                \"Default\": \"SendCuratorEmails\"\n",
    "            },\n",
    "            \"SendCuratorEmails\": {\n",
    "                \"Type\": \"Action\",\n",
    "                #\"ActionUrl\": deploy_res[\"Send Email\"][\"flow_url\"],\n",
    "                #\"ActionScope\": deploy_res[\"Send Email\"][\"flow_scope\"],\n",
    "                \"ActionUrl\": \"https://actions.globus.org/notification/notify\",\n",
    "                \"ExceptionOnActionFailure\": True,\n",
    "                \"Parameters\": {\n",
    "                    #\"action_inputs.$\": \"$.inputs.details.email_inputs\"\n",
    "                    # \"body_mimetype\": \"\",\n",
    "                    \"body_template.=\": (\"`$.curator_template` or '\"\n",
    "                                        + curator_email_template + \"'\"),\n",
    "                    \"body_variables\": {\n",
    "                        \"landing_page.=\": (\"'https://actions.globus.org/weboption/landing_page/' \"\n",
    "                                           \"+ `$._context.action_id`\")\n",
    "                    },\n",
    "                    \"destination.$\": \"$.curator_emails\",\n",
    "                    # \"notification_method\": \"\",\n",
    "                    # \"notification_priority\": \"low\",\n",
    "                    \"send_credentials.$\": \"$._private_send_credentials\",\n",
    "                    \"sender.$\": \"$.email_sender\",\n",
    "                    \"subject\": \"Curation Task Available\",\n",
    "                    \"__Private_Parameters\": [\"_private_send_credentials\"]\n",
    "                },\n",
    "                \"ResultPath\": \"$.CuratorEmailsResult\",\n",
    "                \"WaitTime\": 86400,\n",
    "                \"Next\": \"CurateData\"\n",
    "            },\n",
    "            \"CurateData\": {\n",
    "                \"Type\": \"Action\",\n",
    "                \"ActionUrl\": \"https://actions.globus.org/weboption/wait_for_option\",\n",
    "                \"ActionScope\": \"https://auth.globus.org/scopes/5fac2e64-c734-4e6b-90ea-ff12ddbf9653/weboption_wait_for_option\",\n",
    "                \"ExceptionOnActionFailure\": True,\n",
    "                \"Parameters\": {\n",
    "                    \"landing_page\": {\n",
    "                        # \"favicon_url\": \"\",\n",
    "                        # \"header_background\": \"\",\n",
    "                        # \"header_icon_link\": \"\",\n",
    "                        # \"header_icon_url\": \"\",\n",
    "                        \"display_options_as\": \"button\",\n",
    "                        \"header_text.=\": \"'Curation for Submission ' + `$._context.action_id`\",\n",
    "                        # \"page_title\": \"\",\n",
    "                        \"preamble_text.=\": (\"`$.curation_text` or '\"\n",
    "                                            + preamble_text + \"'\"),\n",
    "                        \"selectable_by.$\": \"$.curation_permissions\",\n",
    "                        \"include_text_input_form\": True,\n",
    "                        \"text_input_form_prompt\": text_box_prompt,\n",
    "                        \"url_suffix.$\": \"$._context.action_id\"\n",
    "                    },\n",
    "                    \"options\": [{\n",
    "                        \"completed_message\": \"You have accepted this submission. Thank you!\",\n",
    "                        \"description\": \"Accept this submission\",\n",
    "                        \"name\": \"accepted\",\n",
    "                        \"selectable_by.$\": \"$.curation_permissions\",\n",
    "                        \"url_suffix.=\": \"`$._context.action_id` + '_accept'\"\n",
    "                    }, {\n",
    "                        \"completed_message\": \"You have rejected this submission. Thank you!\",\n",
    "                        \"description\": \"Reject this submission\",\n",
    "                        \"name\": \"rejected\",\n",
    "                        \"selectable_by.$\": \"$.curation_permissions\",\n",
    "                        \"url_suffix.=\": \"`$._context.action_id` + '_reject'\"\n",
    "                    }]\n",
    "                },\n",
    "                \"ResultPath\": \"$.CurationResult\",\n",
    "                \"WaitTime\": 86400,\n",
    "                \"Next\": \"ChooseNotifyAuthor\"\n",
    "            },\n",
    "            \"ChooseNotifyAuthor\": {\n",
    "                \"Type\": \"Choice\",\n",
    "                \"Choices\": [{\n",
    "                    \"Variable\": \"$.author_email\",\n",
    "                    \"BooleanEquals\": False,\n",
    "                    \"Next\": \"FinishCuration\"\n",
    "                }],\n",
    "                \"Default\": \"SendAuthorEmail\"\n",
    "            },\n",
    "            \"SendAuthorEmail\": {\n",
    "                \"Type\": \"Action\",\n",
    "                \"ActionUrl\": \"https://actions.globus.org/notification/notify\",\n",
    "                \"ActionScope\": \"https://auth.globus.org/scopes/5fac2e64-c734-4e6b-90ea-ff12ddbf9653/notification_notify\",\n",
    "                \"ExceptionOnActionFailure\": True,\n",
    "                \"Parameters\": {\n",
    "                    # \"body_mimetype\": \"\",\n",
    "                    \"body_template.=\": (\"`$.author_template` or '\"\n",
    "                                        + author_email_template + \"'\"),\n",
    "                    \"body_variables\": {\n",
    "                        \"curation_task_id.$\": \"$._context.action_id\",\n",
    "                        \"decision.$\": \"$.CurationResult.details.name\",\n",
    "                        \"reason.$\": \"$.CurationResult.details.parameters.user_input\"\n",
    "                    },\n",
    "                    \"destination.$\": \"$.author_email\",\n",
    "                    # \"notification_method\": \"\",\n",
    "                    # \"notification_priority\": \"low\",\n",
    "                    \"send_credentials.$\": \"$.send_credentials\",\n",
    "                    \"sender.$\": \"$.email_sender\",\n",
    "                    \"subject\": \"Submission Curated\",\n",
    "                    \"__Private_Parameters\": [\"send_credentials\"]\n",
    "                },\n",
    "                \"ResultPath\": \"$.AuthorEmailResult\",\n",
    "                \"WaitTime\": 86400,\n",
    "                \"Next\": \"FinishCuration\"\n",
    "            },\n",
    "            \"FinishCuration\": {\n",
    "                \"Type\": \"Pass\",\n",
    "                \"End\": True\n",
    "            }\n",
    "        }\n",
    "    },\n",
    "    \"description\": (\"Run a curation flow with email notification. This Flow emails a curator, creates a \"\n",
    "                    \"curation page accessible by the curator(s), and then emails the author the decision.\"),\n",
    "    \"runnable_by\": [\"all_authenticated_users\"],\n",
    "    \"administered_by\": \"urn:globus:groups:id:5fc63928-3752-11e8-9c6f-0e00fd09bf20\",\n",
    "    \"synchronous\": False,\n",
    "    \"title\": \"Curation with Notification\",\n",
    "    \"types\": [\"Action\", \"Choice\"],\n",
    "    \"visible_to\": [\"public\"] #flow_permissions  # Should be flow_permissions but all_auth_users isn't accepted\n",
    "}\n",
    "input_schema = {\n",
    "    \"curator_emails\": \"list of str, or False\",\n",
    "    \"curator_template\": \"str or False\",  # variables: $landing_page\n",
    "    \"curation_permissions\": \"list of str\",\n",
    "    \"curation_text\": \"str or False\",\n",
    "    \"author_email\": \"str or False\",\n",
    "    \"author_template\": \"str or False\",  # variables: $curation_task_id, $decision, $reason\n",
    "    \"email_sender\": \"str\",\n",
    "    \"_private_send_credentials\": [{}]\n",
    "}"
   ]
  },
  {
   "cell_type": "code",
   "execution_count": null,
   "metadata": {
    "scrolled": true
   },
   "outputs": [],
   "source": [
    "curation_flow_deploy_res = flows_client.deploy_flow(\n",
    "    flow_definition=curation_flow_def[\"definition\"],\n",
    "    title=curation_flow_def[\"title\"],\n",
    "    description=curation_flow_def[\"description\"],\n",
    "    visible_to=curation_flow_def[\"visible_to\"],\n",
    "    runnable_by=curation_flow_def[\"runnable_by\"],\n",
    ")\n",
    "curation_flow_deploy_res"
   ]
  },
  {
   "cell_type": "code",
   "execution_count": null,
   "metadata": {},
   "outputs": [],
   "source": [
    "curation_flow_id = curation_flow_deploy_res[\"id\"]\n",
    "curation_flow_scope = curation_flow_deploy_res[\"globus_auth_scope\"]\n",
    "#curation_flow_id = \"a24d39dd-f8b7-4287-ba4d-cdd8e36fcee6\"\n",
    "#curation_flow_scope = \"https://auth.globus.org/scopes/a24d39dd-f8b7-4287-ba4d-cdd8e36fcee6/flow_a24d39dd_f8b7_4287_ba4d_cdd8e36fcee6\"\n",
    "print(curation_flow_id)\n",
    "print(curation_flow_deploy_res[\"action_url\"])\n",
    "print(curation_flow_scope)"
   ]
  },
  {
   "cell_type": "code",
   "execution_count": null,
   "metadata": {},
   "outputs": [],
   "source": [
    "curation_flow_input = {\n",
    "    #\"curator_emails\": [\"jgaff@uchicago.edu\", \"jgaff@globus.org\"],\n",
    "    \"curator_emails\": [\"jgaff@uchicago.edu\"],\n",
    "    \"curator_template\": \"Curator Template test: $landing_page\",\n",
    "    \"curation_text\": \"Here is some sample text. https://example.org\",\n",
    "    \"author_email\": \"jgaff@uchicago.edu\",\n",
    "    \"author_template\": \"This is a test email for '$curation_task_id': Decision: $decision, reason: $reason\",\n",
    "    \"email_sender\": \"materialsdatafacility@uchicago.edu\",\n",
    "    \"curation_permissions\": [\"public\"],  #[\"urn:globus:auth:identity:117e8833-68f5-4cb2-afb3-05b25db69be1\"],\n",
    "    \"_private_send_credentials\": [{\n",
    "        # \"credential_method\": \"\",\n",
    "        \"credential_type\": \"smtp\",\n",
    "        \"credential_value\": {\n",
    "            \"hostname\": smtp_hostname,\n",
    "            \"username\": smtp_user,\n",
    "            \"password\": smtp_pass\n",
    "#        \"credential_type\": \"ses\",\n",
    "#        \"credential_value\": {\n",
    "#            \"aws_access_key_id\": aws_id,\n",
    "#            \"_private_aws_secret_access_key\": aws_secret,\n",
    "#            \"region_name\": aws_region\n",
    "        }\n",
    "    }],\n",
    "    \"__Private_Parameters\": [\"_private_send_credentials\"]\n",
    "}"
   ]
  },
  {
   "cell_type": "code",
   "execution_count": null,
   "metadata": {},
   "outputs": [],
   "source": [
    "curation_flow_res = flows_client.run_flow(curation_flow_id,\n",
    "                                          curation_flow_scope,\n",
    "                                          curation_flow_input)\n",
    "curation_flow_res.data"
   ]
  },
  {
   "cell_type": "code",
   "execution_count": null,
   "metadata": {
    "scrolled": true
   },
   "outputs": [],
   "source": [
    "flows_client.flow_action_status(curation_flow_id,\n",
    "                                curation_flow_scope,\n",
    "                                curation_flow_res[\"action_id\"]).data"
   ]
  },
  {
   "cell_type": "code",
   "execution_count": null,
   "metadata": {},
   "outputs": [],
   "source": [
    "flows_client.flow_action_log(curation_flow_id,\n",
    "                             curation_flow_scope,\n",
    "                             curation_flow_res[\"action_id\"], limit=100).data"
   ]
  },
  {
   "cell_type": "code",
   "execution_count": null,
   "metadata": {},
   "outputs": [],
   "source": []
  },
  {
   "cell_type": "code",
   "execution_count": null,
   "metadata": {},
   "outputs": [],
   "source": [
    "send_credentials = [{\n",
    "                        # \"credential_method\": \"\",\n",
    "                        \"credential_type\": \"smtp\",\n",
    "                        \"credential_value\": {\n",
    "                            \"hostname\": smtp_hostname,\n",
    "                            \"username\": smtp_user,\n",
    "                            \"password\": smtp_pass\n",
    "                        }\n",
    "                    }]"
   ]
  },
  {
   "cell_type": "code",
   "execution_count": null,
   "metadata": {},
   "outputs": [],
   "source": [
    "dumb_flow_def = {\n",
    "    \"StartAt\": \"EmailVarsStart\",\n",
    "    \"States\": {\n",
    "        \"EmailVarsStart\": {\n",
    "            \"Type\": \"Action\",\n",
    "            \"ActionUrl\": \"https://actions.globus.org/expression_eval\",\n",
    "            \"ActionScope\": \"https://auth.globus.org/scopes/5fac2e64-c734-4e6b-90ea-ff12ddbf9653/expression\",\n",
    "            \"ExceptionOnActionFailure\": True,\n",
    "            \"Parameters\": {\n",
    "                \"expressions\": [{\n",
    "                    \"expression\": \"[]\",\n",
    "                    \"result_path\": \"email_inputs\"\n",
    "                }, {\n",
    "                    \"expression\": \"dests\",\n",
    "                    \"arguments\": {\n",
    "                        \"dests\": [\"jgaff@uchicago.edu\", \"jgaff@globus.org\"]\n",
    "                    },\n",
    "                    \"result_path\": \"dests\"\n",
    "                }]\n",
    "            },\n",
    "            \"ResultPath\": \"$.inputs\",\n",
    "            \"WaitTime\": 86400,\n",
    "            \"Next\": \"EmailVarsLoop\"\n",
    "        },\n",
    "        \"EmailVarsLoop\": {\n",
    "            \"Type\": \"Action\",\n",
    "            \"ActionUrl\": \"https://actions.globus.org/expression_eval\",\n",
    "            \"ActionScope\": \"https://auth.globus.org/scopes/5fac2e64-c734-4e6b-90ea-ff12ddbf9653/expression\",\n",
    "            \"ExceptionOnActionFailure\": True,\n",
    "            \"Parameters\": {\n",
    "                \"expressions\": [{\n",
    "                    \"expression\": \"current_inputs + [new_input]\",\n",
    "                    \"arguments\": {\n",
    "                        \"current_inputs.$\": \"$.inputs.details.email_inputs\",\n",
    "                        \"new_input\": {\n",
    "                            # \"body_mimetype\": \"\",\n",
    "                            \"body_template.=\": (\"`$._context.action_id` + '\"\n",
    "                                                + curator_email_template + \"'\"),\n",
    "                            \"body_variables\": {\n",
    "                                \"landing_page.=\": (\"'https://actions.globus.org/weboption/landing_page/' \"\n",
    "                                                   \"+ `$._context.action_id`\")\n",
    "                            },\n",
    "                            \"destination.=\": \"`$.inputs.details.dests`[0]\",\n",
    "                            # \"notification_method\": \"\",\n",
    "                            # \"notification_priority\": \"low\",\n",
    "                            \"send_credentials\": send_credentials,\n",
    "                            \"sender\": \"materialsdatafacility@uchicago.edu\",\n",
    "                            \"subject\": \"Curation Task Available\",\n",
    "                            \"__Private_Parameters\": [\"send_credentials\"]\n",
    "                        }\n",
    "                    },\n",
    "                    \"result_path\": \"email_inputs\"\n",
    "                }, {\n",
    "                    \"expression\": \"dests[1:] if dests[1:] else False\",\n",
    "                    \"arguments\": {\n",
    "                        \"dests.$\": \"$.inputs.details.dests\"\n",
    "                    },\n",
    "                    \"result_path\": \"dests\"\n",
    "                }]\n",
    "            },\n",
    "            \"ResultPath\": \"$.inputs\",\n",
    "            \"WaitTime\": 86400,\n",
    "            \"Next\": \"EmailVarsChoice\"\n",
    "        },\n",
    "        \"EmailVarsChoice\": {\n",
    "            \"Type\": \"Choice\",\n",
    "            \"Choices\": [{\n",
    "                \"Variable\": \"$.inputs.details.dests\",\n",
    "                \"BooleanEquals\": False,\n",
    "                \"Next\": \"EndStep\"\n",
    "            }],\n",
    "            \"Default\": \"EmailVarsLoop\"\n",
    "        },\n",
    "        \"EndStep\": {\n",
    "            \"Type\": \"Action\",\n",
    "            \"ActionUrl\": \"https://actions.globus.org/weboption/wait_for_option\",\n",
    "            \"ActionScope\": \"https://auth.globus.org/scopes/5fac2e64-c734-4e6b-90ea-ff12ddbf9653/weboption_wait_for_option\",\n",
    "            \"ExceptionOnActionFailure\": True,\n",
    "            \"Parameters\": {\n",
    "                \"landing_page\": {\n",
    "                    # \"favicon_url\": \"\",\n",
    "                    # \"header_background\": \"\",\n",
    "                    # \"header_icon_link\": \"\",\n",
    "                    # \"header_icon_url\": \"\",\n",
    "                    \"display_options_as\": \"button\",\n",
    "                    \"header_text.=\": \"'Curation for Submission ' + `$._context.action_id`\",\n",
    "                    # \"page_title\": \"\",\n",
    "                    \"preamble_text\": preamble_text,\n",
    "                    \"selectable_by\": [\"public\"],\n",
    "                    \"include_text_input_form\": True,\n",
    "                    \"text_input_form_prompt\": text_box_prompt,\n",
    "                    \"url_suffix.$\": \"$._context.action_id\"\n",
    "                },\n",
    "                \"options\": [{\n",
    "                    \"completed_message\": \"You have accepted this submission. Thank you!\",\n",
    "                    \"description\": \"Accept this submission\",\n",
    "                    \"name\": \"accepted\",\n",
    "                    \"selectable_by\": [\"public\"],\n",
    "                    \"url_suffix.=\": \"`$._context.action_id` + '_accept'\"\n",
    "                }, {\n",
    "                    \"completed_message\": \"You have rejected this submission. Thank you!\",\n",
    "                    \"description\": \"Reject this submission\",\n",
    "                    \"name\": \"rejected\",\n",
    "                    \"selectable_by\": [\"public\"],\n",
    "                    \"url_suffix.=\": \"`$._context.action_id` + '_reject'\"\n",
    "                }]\n",
    "            },\n",
    "            \"ResultPath\": \"$.CurationResult\",\n",
    "            \"WaitTime\": 86400,\n",
    "            \"End\": True\n",
    "        }\n",
    "    }\n",
    "}"
   ]
  },
  {
   "cell_type": "code",
   "execution_count": null,
   "metadata": {
    "scrolled": true
   },
   "outputs": [],
   "source": [
    "'''\n",
    "dumb_flow_deploy = flows_client.deploy_flow(\n",
    "    flow_definition=dumb_flow_def,\n",
    "    title=\"Testing Flow\",\n",
    "    visible_to=[\"urn:globus:auth:identity:117e8833-68f5-4cb2-afb3-05b25db69be1\"],\n",
    "    runnable_by=[\"urn:globus:auth:identity:117e8833-68f5-4cb2-afb3-05b25db69be1\"],\n",
    ")\n",
    "dumb_flow_deploy\n",
    "'''"
   ]
  },
  {
   "cell_type": "code",
   "execution_count": null,
   "metadata": {},
   "outputs": [],
   "source": [
    "dumb_flow_id = dumb_flow_deploy[\"id\"]\n",
    "dumb_flow_scope = dumb_flow_deploy[\"globus_auth_scope\"]\n",
    "print(dumb_flow_id)\n",
    "print(dumb_flow_scope)"
   ]
  },
  {
   "cell_type": "code",
   "execution_count": null,
   "metadata": {},
   "outputs": [],
   "source": [
    "dumb_flow_input = {\n",
    "    # pass\n",
    "}"
   ]
  },
  {
   "cell_type": "code",
   "execution_count": null,
   "metadata": {
    "scrolled": true
   },
   "outputs": [],
   "source": [
    "dumb_flow_res = flows_client.run_flow(dumb_flow_id,\n",
    "                                      dumb_flow_scope,\n",
    "                                      dumb_flow_input)\n",
    "dumb_flow_res.data"
   ]
  },
  {
   "cell_type": "code",
   "execution_count": null,
   "metadata": {
    "scrolled": false
   },
   "outputs": [],
   "source": [
    "flows_client.flow_action_status(dumb_flow_id,\n",
    "                                dumb_flow_scope,\n",
    "                                dumb_flow_res[\"action_id\"]).data"
   ]
  },
  {
   "cell_type": "code",
   "execution_count": null,
   "metadata": {},
   "outputs": [],
   "source": [
    "flow_permissions"
   ]
  },
  {
   "cell_type": "code",
   "execution_count": null,
   "metadata": {},
   "outputs": [],
   "source": []
  },
  {
   "cell_type": "code",
   "execution_count": null,
   "metadata": {},
   "outputs": [],
   "source": [
    "ref_auth = list(mdf_toolbox.login(services=\"https://auth.globus.org/scopes/5fac2e64-c734-4e6b-90ea-ff12ddbf9653/notification_notify\").values())[0]\n",
    "action_client = globus_automate_client.create_action_client(\"https://actions.globus.org/notification/notify\", ref_auth.access_token)\n"
   ]
  },
  {
   "cell_type": "code",
   "execution_count": null,
   "metadata": {},
   "outputs": [],
   "source": [
    "email_template = \"\"\"A new dataset has been submitted to MDF Connect.\n",
    "Title: $title\n",
    "Submitter: $submitter ($email)\n",
    "Source ID: $source_id\n",
    "Time submitted: $sub_time\n",
    "Curation required: $curation\n",
    "\"\"\"\n",
    "email_template2 = \"Test email\\nTitle: $title\\nSubmitter: $submitter ($email)\\n\\nEnd\"\n",
    "email_creds = {\n",
    "    \"credential_type\": \"smtp\",\n",
    "        \"credential_value\": {\n",
    "            \"hostname\": smtp_hostname,\n",
    "            \"username\": smtp_user,\n",
    "            \"password\": smtp_pass\n",
    "        }\n",
    "}\n",
    "body = {\n",
    "    # \"body_mimetype\": \"\",\n",
    "    \"body_template\": email_template2,\n",
    "    \"body_variables\": {\n",
    "        \"title\": \"Email Test\",\n",
    "        \"submitter\": \"JGaff\",\n",
    "        \"email\": \"foo@bar.com\",\n",
    "        \"source_id\": \"foobar_v99.99\",\n",
    "        \"sub_time\": \"26:98PM\",\n",
    "        \"curation\": str(True)\n",
    "    },\n",
    "    #\"destination\": \"materialsdatafacility@uchicago.edu\",\n",
    "    \"destination\": \"jgaff@uchicago.edu\",\n",
    "    \"send_credentials\": [email_creds],\n",
    "    \"sender\": \"materialsdatafacility@uchicago.edu\",\n",
    "    \"subject\": \"New MDF Connect Submission\",\n",
    "    #\"__Private_Parameters\": [\"send_credentials\"]\n",
    "}"
   ]
  },
  {
   "cell_type": "code",
   "execution_count": null,
   "metadata": {},
   "outputs": [],
   "source": [
    "res = action_client.run(body)"
   ]
  },
  {
   "cell_type": "code",
   "execution_count": null,
   "metadata": {},
   "outputs": [],
   "source": [
    "res"
   ]
  },
  {
   "cell_type": "code",
   "execution_count": null,
   "metadata": {
    "scrolled": true
   },
   "outputs": [],
   "source": [
    "action_client.status(res[\"action_id\"]).data"
   ]
  },
  {
   "cell_type": "code",
   "execution_count": null,
   "metadata": {},
   "outputs": [],
   "source": []
  },
  {
   "cell_type": "code",
   "execution_count": null,
   "metadata": {},
   "outputs": [],
   "source": [
    "from getpass import getpass\n",
    "dc_username = getpass(\"Datacite Username: \")\n",
    "dc_password = getpass(\"Datacite Password: \")"
   ]
  },
  {
   "cell_type": "code",
   "execution_count": null,
   "metadata": {},
   "outputs": [],
   "source": [
    "#action_url = \"http://siap-elb-sandbox-970327309.us-east-1.elb.amazonaws.com/\"\n",
    "#action_scope = \"https://auth.globus.org/scopes/a9b4124f-887a-461e-ba72-fa8ea701a8f2/siap_ingest_scope\"\n",
    "#action_url = \"https://actions.globus.org/search/ingest\"\n",
    "#action_url = \"https://actions.globus.org/datacite/mint/basic_auth\"\n",
    "action_url = \"https://actions.globus.org/datacite/mint/dc_schema\"\n",
    "action_client2 = globus_automate_client.create_action_client(action_url)"
   ]
  },
  {
   "cell_type": "code",
   "execution_count": null,
   "metadata": {
    "scrolled": true
   },
   "outputs": [],
   "source": [
    "#print(json.dumps(action_client2.introspect().data, indent=4, sort_keys=True))\n",
    "action_client2.introspect()"
   ]
  },
  {
   "cell_type": "code",
   "execution_count": null,
   "metadata": {},
   "outputs": [],
   "source": [
    "\"\"\"\n",
    "# SIAP\n",
    "action_input = {\n",
    "    #\"auth_header\": \"\",\n",
    "    \"index\": mdf_toolbox.translate_index(\"mdf-dev\"),\n",
    "    \"locations\": [\"https://317ec.36fe.dn.glob.us/public/mock_feedstock.json\"],\n",
    "    \"require_all_success\": True\n",
    "}\n",
    "action_input\n",
    "\"\"\"\n",
    "\"\"\"\n",
    "# Single-entry SIAP\n",
    "action_input = {\n",
    "    \"subject\": \"https://example.com/foobar\",\n",
    "    \"visible_to\": [\"public\"],\n",
    "    \"content\": {\n",
    "        \"dev_test\": True\n",
    "    },\n",
    "    \"search_index\": mdf_toolbox.translate_index(\"mdf-dev\")\n",
    "}\n",
    "\"\"\"\n",
    "# DOI Mint\n",
    "\"\"\"\n",
    "dc_data = {'data': {'type': 'dois',\n",
    "  'attributes': {'titles': [{'title': 'Base Deploy Testing Dataset'}],\n",
    "   'creators': [{'familyName': '',\n",
    "     'givenName': 'jgaff',\n",
    "     'name': 'jgaff',\n",
    "     'affiliation': ['UChicago']}],\n",
    "   'publisher': 'Materials Data Facility',\n",
    "   'publicationYear': '2020',\n",
    "   'url': 'https://example.com/',\n",
    "   'doi': '10.23677/gl-is-ku-xb-pa',\n",
    "   'identifiers': [{'identifier': '10.23677/gl-is-ku-xb-pa',\n",
    "     'identifierType': 'DOI'}],\n",
    "   'types': {'resourceTypeGeneral': 'Dataset', 'resourceType': 'Dataset'},\n",
    "   'event': 'publish'}}}\n",
    "action_input = {\n",
    "    \"Doi\": dc_data,\n",
    "    \"as_test\": True,\n",
    "    \"username\": dc_username,\n",
    "    \"password\": dc_password\n",
    "}\n",
    "action_input = {\n",
    "    \"as_test\": True,\n",
    "    \"username\": dc_username,\n",
    "    \"password\": dc_password,\n",
    "    \"Doi\": {\n",
    "        \"id\": \"10.23677/mdf_ap_test2\",\n",
    "        \"type\": \"dois\",\n",
    "        \"attributes\": {\n",
    "            \"doi\": \"10.23677/mdf_ap_test2\",\n",
    "            \"creators\": [\n",
    "                {\n",
    "                    \"name\": \"Globus Dev Team\"\n",
    "                }\n",
    "            ],\n",
    "            \"titles\": [\n",
    "                {\n",
    "                    \"title\": \"Test Title\"\n",
    "                }\n",
    "            ],\n",
    "            \"publisher\": \"Globus\",\n",
    "            \"publicationYear\": \"2020\"\n",
    "        }\n",
    "    }\n",
    "}\n",
    "\"\"\"\n",
    "dc_block = {\n",
    "    \"identifier\": {\"identifier\": \"10.23677/mdf_ap_test4\", \"identifierType\": \"DOI\"},\n",
    " 'titles': [{'title': 'Base Deploy Testing Dataset'}],\n",
    " 'creators': [{'creatorName': 'jgaff',\n",
    "   'familyName': '',\n",
    "   'givenName': 'jgaff',\n",
    "   'affiliations': ['UChicago']}],\n",
    " 'publisher': 'Materials Data Facility',\n",
    " 'publicationYear': '2020',\n",
    " 'resourceType': {'resourceTypeGeneral': 'Dataset', 'resourceType': 'Dataset'}}\n",
    "\n",
    "action_input = {\n",
    "    \"as_test\": True,\n",
    "    #\"doi\": \"10.23677/mdf_ap_test3\",\n",
    "    \"username\": dc_username,\n",
    "    \"password\": dc_password,\n",
    "    \"Doi\": {\"dc\": dc_block}\n",
    "}\n",
    "\n",
    "jgaff = \"urn:globus:auth:identity:117e8833-68f5-4cb2-afb3-05b25db69be1\""
   ]
  },
  {
   "cell_type": "code",
   "execution_count": null,
   "metadata": {
    "scrolled": false
   },
   "outputs": [],
   "source": [
    "res = action_client2.run(body=action_input, monitor_by=[jgaff], manage_by=[jgaff])"
   ]
  },
  {
   "cell_type": "code",
   "execution_count": null,
   "metadata": {
    "scrolled": true
   },
   "outputs": [],
   "source": [
    "#res"
   ]
  },
  {
   "cell_type": "code",
   "execution_count": null,
   "metadata": {
    "scrolled": true
   },
   "outputs": [],
   "source": [
    "action_client2.status(res[\"action_id\"]).data"
   ]
  },
  {
   "cell_type": "code",
   "execution_count": null,
   "metadata": {},
   "outputs": [],
   "source": []
  },
  {
   "cell_type": "code",
   "execution_count": null,
   "metadata": {},
   "outputs": [],
   "source": [
    "action_url = \"https://actions.globus.org/transfer/set_permission\"\n",
    "\n",
    "action_client3 = globus_automate_client.create_action_client(action_url)"
   ]
  },
  {
   "cell_type": "code",
   "execution_count": null,
   "metadata": {},
   "outputs": [],
   "source": [
    "action_input = {\n",
    "    \"endpoint_id\": \"ca7550ad-55a9-4762-b558-8f2b15049039\",\n",
    "    \"operation\": \"CREATE\",\n",
    "    \"path\": \"/home/ubuntu/data/deleteme/\",\n",
    "    \"permissions\": \"rw\",\n",
    "    \"principal\": \"117e8833-68f5-4cb2-afb3-05b25db69be1\",\n",
    "    \"principal_type\": \"identity\"\n",
    "}"
   ]
  },
  {
   "cell_type": "code",
   "execution_count": null,
   "metadata": {},
   "outputs": [],
   "source": [
    "res = action_client3.run(action_input)"
   ]
  },
  {
   "cell_type": "code",
   "execution_count": null,
   "metadata": {
    "scrolled": true
   },
   "outputs": [],
   "source": [
    "res"
   ]
  },
  {
   "cell_type": "code",
   "execution_count": null,
   "metadata": {},
   "outputs": [],
   "source": [
    "status = action_client3.status(res[\"action_id\"]).data\n",
    "print(json.dumps(status, indent=4, sort_keys=True))"
   ]
  },
  {
   "cell_type": "code",
   "execution_count": null,
   "metadata": {},
   "outputs": [],
   "source": [
    "delete_input = {\n",
    "    \"endpoint_id\": \"ca7550ad-55a9-4762-b558-8f2b15049039\",\n",
    "    \"operation\": \"DELETE\",\n",
    "    \"rule_id\": res[\"details\"][\"access_id\"]\n",
    "}"
   ]
  },
  {
   "cell_type": "code",
   "execution_count": null,
   "metadata": {},
   "outputs": [],
   "source": [
    "res2 = action_client3.run(delete_input)"
   ]
  },
  {
   "cell_type": "code",
   "execution_count": null,
   "metadata": {},
   "outputs": [],
   "source": [
    "res2"
   ]
  },
  {
   "cell_type": "code",
   "execution_count": null,
   "metadata": {},
   "outputs": [],
   "source": []
  }
 ],
 "metadata": {
  "kernelspec": {
   "display_name": "Python 3",
   "language": "python",
   "name": "python3"
  },
  "language_info": {
   "codemirror_mode": {
    "name": "ipython",
    "version": 3
   },
   "file_extension": ".py",
   "mimetype": "text/x-python",
   "name": "python",
   "nbconvert_exporter": "python",
   "pygments_lexer": "ipython3",
   "version": "3.8.1"
  }
 },
 "nbformat": 4,
 "nbformat_minor": 4
}
