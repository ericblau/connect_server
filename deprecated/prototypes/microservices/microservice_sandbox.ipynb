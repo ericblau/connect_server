{
 "cells": [
  {
   "cell_type": "code",
   "execution_count": 1,
   "metadata": {
    "collapsed": true,
    "deletable": true,
    "editable": true
   },
   "outputs": [],
   "source": [
    "import json\n",
    "import os\n",
    "import search_client\n",
    "from gmeta_utils import gmeta_pop\n",
    "\n",
    "cache_file = \"cache.json\"\n",
    "update_all = False"
   ]
  },
  {
   "cell_type": "code",
   "execution_count": 2,
   "metadata": {
    "collapsed": true,
    "deletable": true,
    "editable": true
   },
   "outputs": [],
   "source": [
    "client = search_client.SearchClient(\"https://search.api.globus.org/\", \"mdf\")"
   ]
  },
  {
   "cell_type": "code",
   "execution_count": 3,
   "metadata": {
    "collapsed": false,
    "deletable": true,
    "editable": true
   },
   "outputs": [
    {
     "name": "stdout",
     "output_type": "stream",
     "text": [
      "{'oqmd': 687394, 'nist_janaf': 1796, 'xafs_sl': 31}\n"
     ]
    }
   ],
   "source": [
    "if os.path.isfile(cache_file):\n",
    "    with open(cache_file) as cache_in:\n",
    "        cache = json.load(cache_in)\n",
    "else:\n",
    "    cache = {}\n",
    "print(cache)"
   ]
  },
  {
   "cell_type": "code",
   "execution_count": 4,
   "metadata": {
    "collapsed": false,
    "deletable": true,
    "editable": true
   },
   "outputs": [
    {
     "name": "stdout",
     "output_type": "stream",
     "text": [
      "Enter mdf_source_name:oqmd\n"
     ]
    }
   ],
   "source": [
    "src_name = input(\"Enter mdf_source_name:\")\n",
    "if src_name not in cache.keys() or update_all:\n",
    "    update = True\n",
    "else:\n",
    "    update = False"
   ]
  },
  {
   "cell_type": "code",
   "execution_count": 5,
   "metadata": {
    "collapsed": false,
    "deletable": true,
    "editable": true
   },
   "outputs": [
    {
     "name": "stdout",
     "output_type": "stream",
     "text": [
      "Using cache\n"
     ]
    }
   ],
   "source": [
    "if update:\n",
    "    print(\"Updating\")\n",
    "    query = {\n",
    "        \"q\": \"mdf-source_name:\" + src_name,\n",
    "        \"advanced\": True,\n",
    "        \"limit\": 1\n",
    "    }\n",
    "    raw_res = client.structured_search(query)\n",
    "    #search_res = gmeta_pop(raw_res, True)\n",
    "    if raw_res[\"total\"] > 0:\n",
    "        cache[src_name] = raw_res[\"total\"] - 1\n",
    "    with open(cache_file, 'w') as cache_out:\n",
    "        json.dump(cache, cache_out)\n",
    "else:\n",
    "    print(\"Using cache\")"
   ]
  },
  {
   "cell_type": "code",
   "execution_count": 6,
   "metadata": {
    "collapsed": false,
    "deletable": true,
    "editable": true
   },
   "outputs": [
    {
     "name": "stdout",
     "output_type": "stream",
     "text": [
      "That dataset has 687394 records.\n"
     ]
    }
   ],
   "source": [
    "if cache.get(src_name, None):\n",
    "    print(\"That dataset has\", cache[src_name], \"records.\")\n",
    "else:\n",
    "    print(\"That dataset was not found.\")"
   ]
  },
  {
   "cell_type": "code",
   "execution_count": null,
   "metadata": {
    "collapsed": false,
    "deletable": true,
    "editable": true
   },
   "outputs": [],
   "source": []
  },
  {
   "cell_type": "code",
   "execution_count": null,
   "metadata": {
    "collapsed": true,
    "deletable": true,
    "editable": true
   },
   "outputs": [],
   "source": []
  }
 ],
 "metadata": {
  "kernelspec": {
   "display_name": "Python 3",
   "language": "python",
   "name": "python3"
  },
  "language_info": {
   "codemirror_mode": {
    "name": "ipython",
    "version": 3
   },
   "file_extension": ".py",
   "mimetype": "text/x-python",
   "name": "python",
   "nbconvert_exporter": "python",
   "pygments_lexer": "ipython3",
   "version": "3.6.0"
  }
 },
 "nbformat": 4,
 "nbformat_minor": 2
}
