{
 "cells": [
  {
   "cell_type": "code",
   "execution_count": 1,
   "metadata": {
    "collapsed": false,
    "deletable": true,
    "editable": true
   },
   "outputs": [],
   "source": [
    "import json\n",
    "from jsonschema import validate\n",
    "\n",
    "from generate_schemas import write_schema\n",
    "\n",
    "VERSION = \"0.4.0\"\n",
    "USER_KEY_LIMIT = 10"
   ]
  },
  {
   "cell_type": "markdown",
   "metadata": {
    "deletable": true,
    "editable": true
   },
   "source": [
    "# Definitions"
   ]
  },
  {
   "cell_type": "code",
   "execution_count": 2,
   "metadata": {
    "collapsed": true,
    "deletable": true,
    "editable": true
   },
   "outputs": [],
   "source": [
    "definitions = {\n",
    "    \"data_link\": {\n",
    "        \"description\": \"RCM: Links to raw data files from the dataset (multiple allowed, field name should be data type)\",\n",
    "        \"type\": \"object\",\n",
    "        \"properties\": {\n",
    "            \"globus_endpoint\": {\n",
    "                \"description\": \"RCM: The ID of the Globus Endpoint hosting the file\",\n",
    "                \"type\": \"string\"\n",
    "            },                \n",
    "            \"http_host\": {\n",
    "                \"description\": \"RCM: The fully-qualified HTTP hostname, including protocol, but without the path (for example, 'https://data.materialsdatafacility.org')\",\n",
    "                \"type\": \"string\",\n",
    "                \"format\": \"uri\"\n",
    "            },\n",
    "            \"path\": {\n",
    "                \"description\": \"REQ: The full path to the data file on the host\",\n",
    "                \"type\": \"string\"\n",
    "            }\n",
    "        },\n",
    "        \"anyOf\": [\n",
    "            {\"required\": [\"path\", \"globus_endpoint\"]},\n",
    "            {\"required\": [\"path\", \"http_host\"]}\n",
    "        ]\n",
    "    },\n",
    "    \"person_author\": {\n",
    "        \"description\": \"Identifying information for an author\",\n",
    "        \"type\": \"object\",\n",
    "        \"properties\": {\n",
    "            \"given_name\": {\n",
    "                \"description\": \"REQ: The person's given (or first) name\",\n",
    "                \"type\": \"string\"\n",
    "            },                \n",
    "            \"family_name\": {\n",
    "                \"description\": \"REQ: The person's family (or last) name\",\n",
    "                \"type\": \"string\"\n",
    "            },\n",
    "            \"full_name\": {\n",
    "                \"description\": \"INTERNAL: Given and family names, concatenated.\",\n",
    "                \"type\": \"string\"\n",
    "            },\n",
    "            \"email\": {\n",
    "                \"description\": \"RCM: The person's email address\",\n",
    "                \"type\": \"string\"\n",
    "            },\n",
    "            \"institution\": {\n",
    "                \"description\": \"RCM: The primary affiliation for the person\",\n",
    "                \"type\": \"string\"\n",
    "            }\n",
    "        },\n",
    "        \"required\": [\n",
    "            \"given_name\",\n",
    "            \"family_name\",\n",
    "            \"full_name\"\n",
    "        ],\n",
    "        \"additionalProperties\": {\n",
    "            \"type\": \"string\"\n",
    "        }\n",
    "    },\n",
    "    \"person_data_contact\": {\n",
    "        \"description\": \"Identifying information for a data contact\",\n",
    "        \"type\": \"object\",\n",
    "        \"properties\": {\n",
    "            \"given_name\": {\n",
    "                \"description\": \"REQ: The person's given (or first) name\",\n",
    "                \"type\": \"string\"\n",
    "            },\n",
    "            \"family_name\": {\n",
    "                \"description\": \"REQ: The person's family (or last) name\",\n",
    "                \"type\": \"string\"\n",
    "            },\n",
    "            \"full_name\": {\n",
    "                \"description\": \"INTERNAL: Given and family names, concatenated.\",\n",
    "                \"type\": \"string\"\n",
    "            },\n",
    "            \"email\": {\n",
    "                \"description\": \"REQ: The person's email address\",\n",
    "                \"type\": \"string\"\n",
    "            },\n",
    "            \"institution\": {\n",
    "                \"description\": \"RCM: The primary affiliation for the person\",\n",
    "                \"type\": \"string\"\n",
    "            }\n",
    "        },\n",
    "        \"required\": [\n",
    "            \"given_name\",\n",
    "            \"family_name\",\n",
    "            \"full_name\",\n",
    "            \"email\"\n",
    "        ],\n",
    "        \"additionalProperties\": {\n",
    "            \"type\": \"string\"\n",
    "        }\n",
    "    },\n",
    "    \"person_data_contributor\": {\n",
    "        \"description\": \"Identifying information for a data contributor\",\n",
    "        \"type\": \"object\",\n",
    "        \"properties\": {\n",
    "            \"given_name\": {\n",
    "                \"description\": \"REQ: The person's given (or first) name\",\n",
    "                \"type\": \"string\"\n",
    "            },\n",
    "            \"family_name\": {\n",
    "                \"description\": \"REQ: The person's family (or last) name\",\n",
    "                \"type\": \"string\"\n",
    "            },\n",
    "            \"full_name\": {\n",
    "                \"description\": \"INTERNAL: Given and family names, concatenated.\",\n",
    "                \"type\": \"string\"\n",
    "            },\n",
    "            \"email\": {\n",
    "                \"description\": \"REQ: The person's email address\",\n",
    "                \"type\": \"string\"\n",
    "            },\n",
    "            \"institution\": {\n",
    "                \"description\": \"RCM: The primary affiliation for the person\",\n",
    "                \"type\": \"string\"\n",
    "            },\n",
    "            \"github\": {\n",
    "                \"description\": \"RCM: The person's GitHub username\",\n",
    "                \"type\": \"string\"\n",
    "            }\n",
    "        },\n",
    "        \"required\": [\n",
    "            \"given_name\",\n",
    "            \"family_name\",\n",
    "            \"full_name\",\n",
    "            \"email\"\n",
    "        ],\n",
    "        \"additionalProperties\": {\n",
    "            \"type\": \"string\"\n",
    "        }\n",
    "    }\n",
    "}"
   ]
  },
  {
   "cell_type": "markdown",
   "metadata": {
    "deletable": true,
    "editable": true
   },
   "source": [
    "# Dataset schema"
   ]
  },
  {
   "cell_type": "markdown",
   "metadata": {
    "deletable": true,
    "editable": true
   },
   "source": [
    "## MDF Block - Dataset"
   ]
  },
  {
   "cell_type": "code",
   "execution_count": 3,
   "metadata": {
    "collapsed": false,
    "deletable": true,
    "editable": true
   },
   "outputs": [],
   "source": [
    "mdf_dataset = {\n",
    "    \"title\": \"MDF Block - Dataset\",\n",
    "    \"description\": \"REQ: MDF-format dataset metadata\",\n",
    "    \"type\": \"object\",\n",
    "    \"properties\": {\n",
    "        \"title\": {\n",
    "            \"description\": \"REQ: The title of the dataset\",\n",
    "            \"type\": \"string\"\n",
    "        },\n",
    "        \"acl\": {\n",
    "            \"description\": \"REQ: The UUIDs allowed to view this metadata, or 'public'\",\n",
    "            \"type\": \"array\",\n",
    "            \"items\": {\n",
    "                \"type\": \"string\"\n",
    "            }\n",
    "        },\n",
    "        \"source_name\": {\n",
    "            \"description\": \"REQ: A short version of the dataset name, for quick reference. Spaces and dashes will be replaced with underscores, and other non-alphanumeric characters will be removed.\",\n",
    "            \"type\": \"string\",\n",
    "            \"not\": {\n",
    "                \"pattern\": \"^mdf\"\n",
    "            }\n",
    "        },\n",
    "        \"data_contact\": {\n",
    "            \"description\": \"REQ: The contact person/steward/custodian for the dataset\",\n",
    "            \"$ref\": \"#/definitions/person_data_contact\"\n",
    "        },\n",
    "        \"data_contributor\": {\n",
    "            \"description\": \"REQ: The person/people contributing the tools (harvester, this converter) to ingest the dataset\",\n",
    "            \"type\": \"array\",\n",
    "            \"items\": {\n",
    "                \"$ref\": \"#/definitions/person_data_contributor\"\n",
    "            }\n",
    "        },\n",
    "        \"citation\": {\n",
    "            \"description\": \"RCM: The full bibliographic citation(s) for the dataset\",\n",
    "            \"type\": \"array\",\n",
    "            \"items\": {\n",
    "                \"type\": \"string\"\n",
    "            }\n",
    "        },\n",
    "        \"author\": {\n",
    "            \"description\": \"RCM: A list of the authors of this dataset\",\n",
    "            \"type\": \"array\",\n",
    "            \"items\": {\n",
    "                \"$ref\": \"#/definitions/person_author\"\n",
    "            }\n",
    "        },\n",
    "        \"license\": {\n",
    "            \"description\": \"RCM: A link to the license for distribution of the dataset\",\n",
    "            \"type\": \"string\"\n",
    "        },\n",
    "        \"repository\": {\n",
    "            \"description\": \"RCM: The repository (that should already be in MDF) holding the dataset\",\n",
    "            \"type\": \"string\"\n",
    "        },\n",
    "        \"collection\": {\n",
    "            \"description\": \"RCM: The collection for the dataset, commonly a portion of the title\",\n",
    "            \"type\": \"string\"\n",
    "        },\n",
    "        \"tags\": {\n",
    "            \"description\": \"RCM: Tags, keywords, or other general descriptors for the dataset\",\n",
    "            \"type\": \"array\",\n",
    "            \"items\": {\n",
    "                \"type\": \"string\"\n",
    "            }\n",
    "        },\n",
    "        \"description\": {\n",
    "            \"description\": \"RCM: A description of the dataset\",\n",
    "            \"type\": \"string\"\n",
    "        },\n",
    "        \"year\": {\n",
    "            \"description\": \"RCM: The year of dataset creation\",\n",
    "            \"type\": \"integer\"\n",
    "        },\n",
    "        \"links\": {\n",
    "            \"description\": \"REQ: Links relating to the dataset\",\n",
    "            \"type\": \"object\",\n",
    "            \"properties\": {\n",
    "                \"landing_page\": {\n",
    "                    \"description\": \"REQ: The human-friendly landing page for the dataset\",\n",
    "                    \"type\": \"string\",\n",
    "                    \"format\": \"uri\"\n",
    "                },\n",
    "                \"publication\": {\n",
    "                    \"description\": \"RCM: The DOI(s) (in link form, ex. 'https://dx.doi.org/10.12345') for publications connected to the dataset\",\n",
    "                    \"type\": \"array\",\n",
    "                    \"items\": {\n",
    "                        \"type\": \"string\",\n",
    "                        \"format\": \"uri\"\n",
    "                    }\n",
    "                },\n",
    "                \"data_doi\": {\n",
    "                    \"description\": \"RCM: The DOI of the dataset itself (in link form)\",\n",
    "                    \"type\": \"string\",\n",
    "                    \"format\": \"uri\"\n",
    "                },\n",
    "                \"related_id\": {\n",
    "                    \"description\": \"OPT: The mdf-id(s) of related entries, not including records from this dataset\",\n",
    "                    \"type\": \"array\",\n",
    "                    \"items\": {\n",
    "                        \"type\": \"string\"\n",
    "                    }\n",
    "                },\n",
    "                \"parent_id\": {\n",
    "                    \"description\": \"INTERNAL: The mdf-id of this dataset's repository, if applicable\",\n",
    "                    \"type\": \"string\"\n",
    "                }\n",
    "            },\n",
    "            \"additionalProperties\": {\n",
    "                \"$ref\": \"#/definitions/data_link\"\n",
    "            },\n",
    "            \"required\": [\n",
    "                \"landing_page\"\n",
    "            ]\n",
    "        },\n",
    "        \"ingest_date\": {\n",
    "            \"description\": \"INTERNAL: The date this entry was created\",\n",
    "            \"type\": \"string\",\n",
    "            \"format\": \"date-time\"\n",
    "        },\n",
    "        \"metadata_version\": {\n",
    "            \"description\": \"INTERNAL: The metadata schema version this entry adheres to\",\n",
    "            \"type\": \"string\"\n",
    "        },\n",
    "        \"mdf_id\": {\n",
    "            \"description\": \"INTERNAL: A unique BSON ID for this entry\",\n",
    "            \"type\": \"string\"\n",
    "        },\n",
    "        \"resource_type\": {\n",
    "            \"description\": \"INTERNAL: The type of entry (dataset)\",\n",
    "            \"type\": \"string\"\n",
    "        },\n",
    "    },\n",
    "    \"required\": [\n",
    "        \"title\",\n",
    "        \"acl\",\n",
    "        \"source_name\",\n",
    "        \"links\",\n",
    "        \"data_contact\",\n",
    "        \"data_contributor\",\n",
    "        \"ingest_date\",\n",
    "        \"metadata_version\",\n",
    "        \"mdf_id\",\n",
    "        \"resource_type\"\n",
    "    ],\n",
    "    \"additionalProperties\": False\n",
    "}"
   ]
  },
  {
   "cell_type": "markdown",
   "metadata": {
    "deletable": true,
    "editable": true
   },
   "source": [
    "## DC Block - Dataset"
   ]
  },
  {
   "cell_type": "code",
   "execution_count": 4,
   "metadata": {
    "collapsed": true,
    "deletable": true,
    "editable": true
   },
   "outputs": [],
   "source": [
    "dc_dataset = {\n",
    "    \"title\": \"DC Block - Dataset\",\n",
    "    \"description\": \"OPT: DataCite-format metadata\",\n",
    "    \"type\": \"object\",\n",
    "    \"properties\": {}\n",
    "}"
   ]
  },
  {
   "cell_type": "markdown",
   "metadata": {
    "deletable": true,
    "editable": true
   },
   "source": [
    "## User-supplied fields"
   ]
  },
  {
   "cell_type": "code",
   "execution_count": 5,
   "metadata": {
    "collapsed": true,
    "deletable": true,
    "editable": true
   },
   "outputs": [],
   "source": [
    "user_dataset = {\n",
    "    \"title\": \"User Block - Dataset\",\n",
    "    \"description\": \"RCM: User-supplied metadata\",\n",
    "    \"type\": \"object\",\n",
    "    \"properties\": {},\n",
    "    \"maxProperties\": USER_KEY_LIMIT\n",
    "}"
   ]
  },
  {
   "cell_type": "markdown",
   "metadata": {
    "deletable": true,
    "editable": true
   },
   "source": [
    "## Full dataset schema"
   ]
  },
  {
   "cell_type": "code",
   "execution_count": 6,
   "metadata": {
    "collapsed": false,
    "deletable": true,
    "editable": true
   },
   "outputs": [],
   "source": [
    "dataset_schema = {\n",
    "    \"$schema\": \"http://json-schema.org/draft-06/schema#\",\n",
    "    \"title\": \"MDF Dataset\",\n",
    "    \"description\": \"A dataset in the Materials Data Facility\",\n",
    "    \"definitions\": definitions,\n",
    "    \"properties\":{\n",
    "        \"mdf\": mdf_dataset,\n",
    "        \"dc\": dc_dataset\n",
    "    },\n",
    "    \"required\": [\n",
    "        \"mdf\",\n",
    "        \"dc\"\n",
    "    ],\n",
    "    \"additionalProperties\": user_dataset,\n",
    "    \"minProperties\": 2,\n",
    "    \"maxProperties\": 3\n",
    "}"
   ]
  },
  {
   "cell_type": "markdown",
   "metadata": {
    "deletable": true,
    "editable": true
   },
   "source": [
    "## Validate an example dataset entry"
   ]
  },
  {
   "cell_type": "code",
   "execution_count": 7,
   "metadata": {
    "collapsed": false,
    "deletable": true,
    "editable": true
   },
   "outputs": [],
   "source": [
    "dataset = {\n",
    "    \"mdf\": {\n",
    "            \"title\":\"test\",\n",
    "            \"acl\":[\"blah\"],\n",
    "            \"source_name\":\"source name\",\n",
    "            \"citation\":[\"abc\"],\n",
    "            \"links\": {\n",
    "                \"landing_page\":\"http://www.globus.org\"\n",
    "            },\n",
    "            \"data_contact\":{\n",
    "                \"given_name\": \"Test\",\n",
    "                \"family_name\": \"McTesterson\",\n",
    "                \"full_name\": \"Test McTesterson\",\n",
    "                \"email\": \"test@example.com\"\n",
    "            },\n",
    "            \"data_contributor\":[{\n",
    "                \"given_name\": \"Test\",\n",
    "                \"family_name\": \"McTesterson\",\n",
    "                \"full_name\": \"Test McTesterson\",\n",
    "                \"email\": \"test@example.com\"\n",
    "            }],\n",
    "            \"ingest_date\":\"Jan 1, 2017\",\n",
    "            \"metadata_version\":\"1.1\",\n",
    "            \"mdf_id\":\"1\",\n",
    "            \"resource_type\":\"dataset\"\n",
    "    },\n",
    "    \"dc\": {},\n",
    "    \"misc\": {}\n",
    "}\n",
    "\n",
    "validate(dataset,dataset_schema)"
   ]
  },
  {
   "cell_type": "markdown",
   "metadata": {
    "deletable": true,
    "editable": true
   },
   "source": [
    "# Record schema"
   ]
  },
  {
   "cell_type": "markdown",
   "metadata": {
    "deletable": true,
    "editable": true
   },
   "source": [
    "## MDF Block - Record"
   ]
  },
  {
   "cell_type": "code",
   "execution_count": 8,
   "metadata": {
    "collapsed": false,
    "deletable": true,
    "editable": true
   },
   "outputs": [],
   "source": [
    "mdf_record = {\n",
    "    \"title\": \"MDF Block - Record\",\n",
    "    \"description\": \"REQ: MDF-format record metadata\",\n",
    "    \"type\": \"object\",\n",
    "    \"properties\": {\n",
    "        \"title\": {\n",
    "            \"description\": \"REQ: The title of the record\",\n",
    "            \"type\": \"string\"\n",
    "        },\n",
    "        \"acl\": {\n",
    "            \"description\": \"RCM: The UUIDs allowed to view this metadata, or 'public' (defaults to the dataset ACL)\",\n",
    "            \"type\": \"array\",\n",
    "            \"items\": {\n",
    "                \"type\": \"string\"\n",
    "            }\n",
    "        },\n",
    "        \"composition\": {\n",
    "            \"description\": \"RCM: Subject material composition, expressed in a chemical formula (ex. Bi2S3)\",\n",
    "            \"type\": \"string\"\n",
    "        },\n",
    "        \"tags\": {\n",
    "            \"description\": \"RCM: Tags, keywords, or other general descriptors for the record\",\n",
    "            \"type\": \"array\",\n",
    "            \"items\": {\n",
    "                \"type\": \"string\"\n",
    "            }\n",
    "        },\n",
    "        \"description\": {\n",
    "            \"description\": \"RCM: A description of the record\",\n",
    "            \"type\": \"string\"\n",
    "        },\n",
    "        \"raw\": {\n",
    "            \"description\": \"RCM: The record as a JSON string (see json.dumps())\",\n",
    "            \"type\": \"string\"\n",
    "        },\n",
    "        \"links\": {\n",
    "            \"description\": \"REQ: Links relating to the record\",\n",
    "            \"type\": \"object\",\n",
    "            \"properties\": {\n",
    "                \"landing_page\": {\n",
    "                    \"description\": \"RCM: The human-friendly landing page for the record (defaults to the dataset landing page)\",\n",
    "                    \"type\": \"string\",\n",
    "                    \"format\": \"uri\"\n",
    "                },\n",
    "                \"publication\": {\n",
    "                    \"description\": \"RCM: The DOI(s) (in link form, ex. 'https://dx.doi.org/10.12345') for publications specific to this record\",\n",
    "                    \"type\": \"array\",\n",
    "                    \"items\": {\n",
    "                        \"type\": \"string\",\n",
    "                        \"format\": \"uri\"\n",
    "                    }\n",
    "                },\n",
    "                \"data_doi\": {\n",
    "                    \"description\": \"RCM: The DOI of the record itself (in link form)\",\n",
    "                    \"type\": \"string\",\n",
    "                    \"format\": \"uri\"\n",
    "                },\n",
    "                \"related_id\": {\n",
    "                    \"description\": \"OPT: The mdf-id(s) of related entries, not including the dataset entry\",\n",
    "                    \"type\": \"array\",\n",
    "                    \"items\": {\n",
    "                        \"type\": \"string\"\n",
    "                    }\n",
    "                },\n",
    "                \"parent_id\": {\n",
    "                    \"description\": \"INTERNAL: The mdf-id of this record's dataset\",\n",
    "                    \"type\": \"string\"\n",
    "                },\n",
    "            },\n",
    "            \"additionalProperties\": {\n",
    "                \"$ref\": \"#/definitions/data_link\"\n",
    "            },\n",
    "            \"required\": [\n",
    "                \"landing_page\",\n",
    "                \"parent_id\"\n",
    "            ]\n",
    "        },\n",
    "        \"citation\": {\n",
    "            \"description\": \"OPT: The full bibliographic citation(s) for the record, if different from the dataset\",\n",
    "            \"type\": \"array\",\n",
    "            \"items\": {\n",
    "                \"type\": \"string\"\n",
    "            }\n",
    "        },\n",
    "        \"data_contact\": {\n",
    "            \"description\": \"OPT: The contact person/steward/custodian for the record, if different from the dataset\",\n",
    "            \"$ref\": \"#/definitions/person_data_contact\"\n",
    "        },\n",
    "        \"author\": {\n",
    "            \"description\": \"OPT: A list of the authors of this record, if different from the dataset\",\n",
    "            \"type\": \"array\",\n",
    "            \"items\": {\n",
    "                \"$ref\": \"#/definitions/person_author\"\n",
    "            }\n",
    "        },\n",
    "        \"year\": {\n",
    "            \"description\": \"OPT: The year of dataset creation, if different from the dataset\",\n",
    "            \"type\": \"integer\"\n",
    "        },\n",
    "        \"processing\": {\n",
    "            \"description\": \"Undefined: Processing information\"\n",
    "        },\n",
    "        \n",
    "        \"structure\": {\n",
    "            \"description\": \"Undefined: Structure information\"\n",
    "        },\n",
    "        \"collection\": {\n",
    "            \"description\": \"INTERNAL: The collection for the dataset, commonly a portion of the title\",\n",
    "            \"type\": \"string\"\n",
    "        },\n",
    "        \"source_name\": {\n",
    "            \"description\": \"INTERNAL: A short version of the dataset name, for quick reference. Spaces and dashes will be replaced with underscores, and other non-alphanumeric characters will be removed.\",\n",
    "            \"type\": \"string\"\n",
    "        },\n",
    "        \"ingest_date\": {\n",
    "            \"description\": \"INTERNAL: The date this entry was created\",\n",
    "            \"type\": \"string\",\n",
    "            \"format\": \"date-time\"\n",
    "        },\n",
    "        \"metadata_version\": {\n",
    "            \"description\": \"INTERNAL: The metadata schema version this entry adheres to\",\n",
    "            \"type\": \"string\"\n",
    "        },\n",
    "        \"mdf_id\": {\n",
    "            \"description\": \"INTERNAL: A unique BSON ID for this entry\",\n",
    "            \"type\": \"string\"\n",
    "        },\n",
    "        \"resource_type\": {\n",
    "            \"description\": \"INTERNAL: The type of entry (dataset)\",\n",
    "            \"type\": \"string\"\n",
    "        },\n",
    "        \"elements\": {\n",
    "            \"description\": \"INTERNAL: A list of the elements in the composition\",\n",
    "            \"type\": \"array\",\n",
    "            \"items\": {\n",
    "                \"type\": \"string\"\n",
    "            }\n",
    "        },\n",
    "        \"scroll_id\": {\n",
    "            \"description\": \"INTERNAL: A sequential, dataset-unique ID number for the record, for aggregation purposes\",\n",
    "            \"type\": \"integer\"\n",
    "        }\n",
    "    },\n",
    "    \"required\": [\n",
    "        \"title\",\n",
    "        \"acl\",\n",
    "        \"links\",\n",
    "        \"source_name\",\n",
    "        \"ingest_date\",\n",
    "        \"metadata_version\",\n",
    "        \"mdf_id\",\n",
    "        \"resource_type\"\n",
    "    ],\n",
    "    \"additionalProperties\": False\n",
    "}"
   ]
  },
  {
   "cell_type": "markdown",
   "metadata": {
    "deletable": true,
    "editable": true
   },
   "source": [
    "## DC Block - Record"
   ]
  },
  {
   "cell_type": "code",
   "execution_count": 9,
   "metadata": {
    "collapsed": true,
    "deletable": true,
    "editable": true
   },
   "outputs": [],
   "source": [
    "dc_record = {\n",
    "    \"title\": \"DC Block - Record\",\n",
    "    \"description\": \"OPT: DataCite-format metadata\",\n",
    "    \"type\": \"object\",\n",
    "    \"properties\": {}\n",
    "}"
   ]
  },
  {
   "cell_type": "markdown",
   "metadata": {
    "deletable": true,
    "editable": true
   },
   "source": [
    "## User-supplied fields"
   ]
  },
  {
   "cell_type": "code",
   "execution_count": 10,
   "metadata": {
    "collapsed": true,
    "deletable": true,
    "editable": true
   },
   "outputs": [],
   "source": [
    "user_dataset = {\n",
    "    \"title\": \"User Block - Record\",\n",
    "    \"description\": \"RCM: User-supplied metadata\",\n",
    "    \"type\": \"object\",\n",
    "    \"properties\": {},\n",
    "    \"maxProperties\": USER_KEY_LIMIT\n",
    "}"
   ]
  },
  {
   "cell_type": "markdown",
   "metadata": {
    "deletable": true,
    "editable": true
   },
   "source": [
    "## Full record schema"
   ]
  },
  {
   "cell_type": "code",
   "execution_count": 11,
   "metadata": {
    "collapsed": false,
    "deletable": true,
    "editable": true
   },
   "outputs": [],
   "source": [
    "record_schema = {\n",
    "    \"$schema\": \"http://json-schema.org/draft-06/schema#\",\n",
    "    \"title\": \"MDF Record\",\n",
    "    \"description\": \"A record in the Materials Data Facility\",\n",
    "    \"definitions\": definitions,\n",
    "    \"properties\":{\n",
    "        \"mdf\": mdf_record,\n",
    "        \"dc\": dc_record\n",
    "    },\n",
    "    \"required\": [\n",
    "        \"mdf\",\n",
    "        \"dc\"\n",
    "    ],\n",
    "    \"additionalProperties\": user_dataset,\n",
    "    \"minProperties\": 2,\n",
    "    \"maxProperties\": 3\n",
    "}"
   ]
  },
  {
   "cell_type": "markdown",
   "metadata": {
    "deletable": true,
    "editable": true
   },
   "source": [
    "## Validate an example record "
   ]
  },
  {
   "cell_type": "code",
   "execution_count": 12,
   "metadata": {
    "collapsed": false,
    "deletable": true,
    "editable": true
   },
   "outputs": [],
   "source": [
    "record = {\n",
    "    \"mdf\": {\n",
    "            \"title\":\"test\",\n",
    "            \"acl\":[\"blah\"],\n",
    "            \"source_name\":\"source name\",\n",
    "            \"citation\":[\"abc\"],\n",
    "            \"links\": {\n",
    "                \"landing_page\":\"http://www.globus.org\",\n",
    "                \"parent_id\":\"abc\"\n",
    "            },\n",
    "            \"ingest_date\":\"Jan 1, 2017\",\n",
    "            \"metadata_version\":\"1.1\",\n",
    "            \"mdf_id\":\"1\",\n",
    "            \"resource_type\":\"dataset\"\n",
    "    },\n",
    "    \"dc\": {},\n",
    "    \"misc\": {}\n",
    "}\n",
    "\n",
    "validate(record,record_schema)"
   ]
  },
  {
   "cell_type": "code",
   "execution_count": null,
   "metadata": {
    "collapsed": true,
    "deletable": true,
    "editable": true
   },
   "outputs": [],
   "source": []
  },
  {
   "cell_type": "markdown",
   "metadata": {
    "deletable": true,
    "editable": true
   },
   "source": [
    "# Write schemas to file and generate templates"
   ]
  },
  {
   "cell_type": "code",
   "execution_count": 13,
   "metadata": {
    "collapsed": false,
    "deletable": true,
    "editable": true
   },
   "outputs": [
    {
     "name": "stdout",
     "output_type": "stream",
     "text": [
      "{'success': True}\n",
      "{'success': True}\n",
      "{'success': True}\n"
     ]
    }
   ],
   "source": [
    "# Dataset\n",
    "print(write_schema(dataset_schema, \"dataset\", VERSION))\n",
    "# Record\n",
    "print(write_schema(record_schema, \"record\", VERSION))\n",
    "# Repository is effectively a dataset containing datasets, can use same schema\n",
    "repo_schema = json.loads(json.dumps(dataset_schema).replace(\"dataset\", \"repository\"))\n",
    "print(write_schema(repo_schema, \"repository\", VERSION))"
   ]
  },
  {
   "cell_type": "code",
   "execution_count": null,
   "metadata": {
    "collapsed": false,
    "deletable": true,
    "editable": true
   },
   "outputs": [],
   "source": []
  }
 ],
 "metadata": {
  "kernelspec": {
   "display_name": "Python 3",
   "language": "python",
   "name": "python3"
  },
  "language_info": {
   "codemirror_mode": {
    "name": "ipython",
    "version": 3
   },
   "file_extension": ".py",
   "mimetype": "text/x-python",
   "name": "python",
   "nbconvert_exporter": "python",
   "pygments_lexer": "ipython3",
   "version": "3.6.0"
  }
 },
 "nbformat": 4,
 "nbformat_minor": 2
}
