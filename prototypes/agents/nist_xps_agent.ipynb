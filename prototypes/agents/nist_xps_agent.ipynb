{
 "cells": [
  {
   "cell_type": "markdown",
   "metadata": {
    "deletable": true,
    "editable": true
   },
   "source": [
    "# Agent prototype: nist_xps_db aggregation"
   ]
  },
  {
   "cell_type": "markdown",
   "metadata": {
    "deletable": true,
    "editable": true
   },
   "source": [
    "Agent to aggregate binding energies from the NIST XPS database, combine the data into a histogram, and update the nist_xps_db dataset entry with the histogram."
   ]
  },
  {
   "cell_type": "code",
   "execution_count": 1,
   "metadata": {
    "collapsed": false,
    "deletable": true,
    "editable": true
   },
   "outputs": [],
   "source": [
    "import json\n",
    "import pandas as pd\n",
    "from io import StringIO\n",
    "import matplotlib as plt\n",
    "import search_client\n",
    "from gmeta_utils import gmeta_pop, format_gmeta\n",
    "\n",
    "%matplotlib inline"
   ]
  },
  {
   "cell_type": "code",
   "execution_count": 2,
   "metadata": {
    "collapsed": true,
    "deletable": true,
    "editable": true
   },
   "outputs": [],
   "source": [
    "client = search_client.SearchClient(\"https://search.api.globus.org/\", \"mdf\")"
   ]
  },
  {
   "cell_type": "markdown",
   "metadata": {
    "deletable": true,
    "editable": true
   },
   "source": [
    "# Fetch and aggregate records"
   ]
  },
  {
   "cell_type": "code",
   "execution_count": 3,
   "metadata": {
    "collapsed": false,
    "deletable": true,
    "editable": true
   },
   "outputs": [
    {
     "name": "stdout",
     "output_type": "stream",
     "text": [
      "23302 / 29189 | -5887\n",
      "Max: 3939.9 \n",
      "Min: 2.4\n"
     ]
    }
   ],
   "source": [
    "count = 0\n",
    "num_processed = 0\n",
    "data_list = []\n",
    "while True:\n",
    "    query = {\n",
    "        \"q\": (\"mdf.source_name:nist_xps_db AND mdf.resource_type:record AND \"\n",
    "        \"mdf.scroll_id:(>=\" + str(count) + \" AND <\" + str(count + 10000) + \")\"),\n",
    "        \"advanced\": True,\n",
    "        \"limit\": 10000\n",
    "    }\n",
    "    raw_res = client.structured_search(query)\n",
    "    search_res = gmeta_pop(raw_res)\n",
    "    for res in search_res:\n",
    "        data_dict = json.loads(res[\"mdf\"].get(\"raw\", \"{}\"))\n",
    "        if data_dict.get(\"Binding Energy (eV)\", None):\n",
    "            data_list.append({\n",
    "                \"composition\": res[\"mdf\"][\"composition\"],\n",
    "                \"binding_energy\": float(data_dict.get(\"Binding Energy (eV)\", \"nan\"))\n",
    "    #            \"excitation_energy\": float(data_dict.get(\"Excitation Energy\", \"nan\"))\n",
    "            })\n",
    "    num_ret = len(search_res)\n",
    "    if num_ret:\n",
    "        num_processed += num_ret\n",
    "        count += 10000\n",
    "    else:\n",
    "        break\n",
    "print(len(data_list), \"/\", num_processed, \"|\", len(data_list) - num_processed)\n",
    "bind_en_list = [d[\"binding_energy\"] for d in data_list]\n",
    "print(\"Max:\", max(bind_en_list), \"\\nMin:\", min(bind_en_list))"
   ]
  },
  {
   "cell_type": "code",
   "execution_count": 4,
   "metadata": {
    "collapsed": false,
    "deletable": true,
    "editable": true
   },
   "outputs": [],
   "source": [
    "df = pd.DataFrame(data_list)\n",
    "buckets = list(range(0, 4000, 100))\n",
    "df['bucket'] = pd.cut(df['binding_energy'], buckets, labels=buckets[:-1])\n",
    "hist = df.sort_values(\"bucket\").groupby(\"bucket\").bucket.count()"
   ]
  },
  {
   "cell_type": "code",
   "execution_count": 5,
   "metadata": {
    "collapsed": false,
    "deletable": true,
    "editable": true
   },
   "outputs": [],
   "source": [
    "df2 = pd.DataFrame(hist)\n",
    "df2.columns = [\"count\"]\n",
    "df2.reset_index(inplace=True)\n",
    "df2.columns = [\"binding energy (eV)\", \"count\"]\n",
    "data = df2.as_matrix().tolist()\n",
    "headers = [\"binding energy (eV)\", \"count\"]"
   ]
  },
  {
   "cell_type": "markdown",
   "metadata": {
    "collapsed": true,
    "deletable": true,
    "editable": true
   },
   "source": [
    "# Update dataset entry"
   ]
  },
  {
   "cell_type": "code",
   "execution_count": 6,
   "metadata": {
    "collapsed": false,
    "deletable": true,
    "editable": true
   },
   "outputs": [],
   "source": [
    "query = {\n",
    "    \"q\": \"mdf.source_name:nist_xps_db AND mdf.resource_type:dataset\",\n",
    "    \"advanced\": True\n",
    "}\n",
    "raw_res = client.structured_search(query)\n",
    "search_res = gmeta_pop(raw_res)\n",
    "if len(search_res) != 1:\n",
    "    raise ValueError(\"Incorrect number of results: \" + str(len(search_res)))\n",
    "ingest = search_res[0]\n",
    "ingest[\"globus_subject\"] = raw_res[\"gmeta\"][0][\"subject\"]\n",
    "ingest[\"mdf\"][\"acl\"] = [\"public\"]\n",
    "ingest[\"nist_xps_db\"] = {}\n",
    "ingest[\"nist_xps_db\"][\"histogram\"] = {\"headers\": headers, \"matrix\": data}\n",
    "#ingest[\"http://materialsdatafacility.org/#nist_xps_db:histogram\"] = {\"http://globus.org/#fieldthing\": \"otherthing\"}\n",
    "#ingest[\"http://materialsdatafacility.org/#nist_xps_db:histogram\"] = \"12345\"\n",
    "#ingest[\"https://google.com/#testingthing\"] = \"thingthing\"\n",
    "gmeta = format_gmeta([format_gmeta(ingest)])"
   ]
  },
  {
   "cell_type": "code",
   "execution_count": 7,
   "metadata": {
    "collapsed": false,
    "deletable": true,
    "editable": true
   },
   "outputs": [
    {
     "ename": "GlobusAPIError",
     "evalue": "(403, 'Forbidden.Generic', 'Ingest request denied by service')",
     "output_type": "error",
     "traceback": [
      "\u001b[0;31m---------------------------------------------------------------------------\u001b[0m",
      "\u001b[0;31mGlobusAPIError\u001b[0m                            Traceback (most recent call last)",
      "\u001b[0;32m<ipython-input-7-04ad3da640ba>\u001b[0m in \u001b[0;36m<module>\u001b[0;34m()\u001b[0m\n\u001b[0;32m----> 1\u001b[0;31m \u001b[0mclient\u001b[0m\u001b[0;34m.\u001b[0m\u001b[0mingest\u001b[0m\u001b[0;34m(\u001b[0m\u001b[0mgmeta\u001b[0m\u001b[0;34m)\u001b[0m\u001b[0;34m\u001b[0m\u001b[0m\n\u001b[0m",
      "\u001b[0;32m/Users/jonathongaff/MDF/mdf-harvesters/prototypes/agents/search_client.py\u001b[0m in \u001b[0;36mingest\u001b[0;34m(self, data, index, **params)\u001b[0m\n\u001b[1;32m    121\u001b[0m         \"\"\"\n\u001b[1;32m    122\u001b[0m         \u001b[0muri\u001b[0m \u001b[0;34m=\u001b[0m \u001b[0mself\u001b[0m\u001b[0;34m.\u001b[0m\u001b[0m_resolve_uri\u001b[0m\u001b[0;34m(\u001b[0m\u001b[0;34m'/v1/ingest'\u001b[0m\u001b[0;34m,\u001b[0m \u001b[0mindex\u001b[0m\u001b[0;34m)\u001b[0m\u001b[0;34m\u001b[0m\u001b[0m\n\u001b[0;32m--> 123\u001b[0;31m         \u001b[0;32mreturn\u001b[0m \u001b[0mself\u001b[0m\u001b[0;34m.\u001b[0m\u001b[0mpost\u001b[0m\u001b[0;34m(\u001b[0m\u001b[0muri\u001b[0m\u001b[0;34m,\u001b[0m \u001b[0mjson_body\u001b[0m\u001b[0;34m=\u001b[0m\u001b[0mdata\u001b[0m\u001b[0;34m,\u001b[0m \u001b[0mparams\u001b[0m\u001b[0;34m=\u001b[0m\u001b[0mparams\u001b[0m\u001b[0;34m)\u001b[0m\u001b[0;34m\u001b[0m\u001b[0m\n\u001b[0m",
      "\u001b[0;32m/Library/Frameworks/Python.framework/Versions/3.6/lib/python3.6/site-packages/globus_sdk/base.py\u001b[0m in \u001b[0;36mpost\u001b[0;34m(self, path, json_body, params, headers, text_body, response_class, retry_401)\u001b[0m\n\u001b[1;32m    191\u001b[0m                              \u001b[0mheaders\u001b[0m\u001b[0;34m=\u001b[0m\u001b[0mheaders\u001b[0m\u001b[0;34m,\u001b[0m \u001b[0mtext_body\u001b[0m\u001b[0;34m=\u001b[0m\u001b[0mtext_body\u001b[0m\u001b[0;34m,\u001b[0m\u001b[0;34m\u001b[0m\u001b[0m\n\u001b[1;32m    192\u001b[0m                              \u001b[0mresponse_class\u001b[0m\u001b[0;34m=\u001b[0m\u001b[0mresponse_class\u001b[0m\u001b[0;34m,\u001b[0m\u001b[0;34m\u001b[0m\u001b[0m\n\u001b[0;32m--> 193\u001b[0;31m                              retry_401=retry_401)\n\u001b[0m\u001b[1;32m    194\u001b[0m \u001b[0;34m\u001b[0m\u001b[0m\n\u001b[1;32m    195\u001b[0m     def delete(self, path, params=None, headers=None,\n",
      "\u001b[0;32m/Library/Frameworks/Python.framework/Versions/3.6/lib/python3.6/site-packages/globus_sdk/base.py\u001b[0m in \u001b[0;36m_request\u001b[0;34m(self, method, path, params, headers, json_body, text_body, response_class, retry_401)\u001b[0m\n\u001b[1;32m    365\u001b[0m         self.logger.debug('request completed with (error) response code: {}'\n\u001b[1;32m    366\u001b[0m                           .format(r.status_code))\n\u001b[0;32m--> 367\u001b[0;31m         \u001b[0;32mraise\u001b[0m \u001b[0mself\u001b[0m\u001b[0;34m.\u001b[0m\u001b[0merror_class\u001b[0m\u001b[0;34m(\u001b[0m\u001b[0mr\u001b[0m\u001b[0;34m)\u001b[0m\u001b[0;34m\u001b[0m\u001b[0m\n\u001b[0m\u001b[1;32m    368\u001b[0m \u001b[0;34m\u001b[0m\u001b[0m\n\u001b[1;32m    369\u001b[0m \u001b[0;34m\u001b[0m\u001b[0m\n",
      "\u001b[0;31mGlobusAPIError\u001b[0m: (403, 'Forbidden.Generic', 'Ingest request denied by service')"
     ]
    }
   ],
   "source": [
    "client.ingest(gmeta)"
   ]
  },
  {
   "cell_type": "markdown",
   "metadata": {
    "deletable": true,
    "editable": true
   },
   "source": [
    "# Check ingest"
   ]
  },
  {
   "cell_type": "code",
   "execution_count": null,
   "metadata": {
    "collapsed": false,
    "deletable": true,
    "editable": true
   },
   "outputs": [],
   "source": [
    "query = {\n",
    "    \"q\": \"mdf-source_name:nist_xps_db AND mdf-node_type:dataset\",\n",
    "    \"advanced\": True\n",
    "}\n",
    "raw_res = client.structured_search(query)\n",
    "search_res = gmeta_pop(raw_res)\n",
    "#print(json.dumps(search_res[0], sort_keys=True, indent=4, separators=(',', ': ')))"
   ]
  },
  {
   "cell_type": "code",
   "execution_count": null,
   "metadata": {
    "collapsed": false,
    "deletable": true,
    "editable": true,
    "scrolled": true
   },
   "outputs": [],
   "source": [
    "hist = search_res[0][\"nist_xps-histogram\"]\n",
    "df2 = pd.DataFrame(hist[\"matrix\"], columns=hist[\"headers\"])"
   ]
  },
  {
   "cell_type": "code",
   "execution_count": null,
   "metadata": {
    "collapsed": false,
    "deletable": true,
    "editable": true
   },
   "outputs": [],
   "source": [
    "df2"
   ]
  },
  {
   "cell_type": "code",
   "execution_count": null,
   "metadata": {
    "collapsed": true,
    "deletable": true,
    "editable": true
   },
   "outputs": [],
   "source": []
  }
 ],
 "metadata": {
  "kernelspec": {
   "display_name": "Python 3",
   "language": "python",
   "name": "python3"
  },
  "language_info": {
   "codemirror_mode": {
    "name": "ipython",
    "version": 3
   },
   "file_extension": ".py",
   "mimetype": "text/x-python",
   "name": "python",
   "nbconvert_exporter": "python",
   "pygments_lexer": "ipython3",
   "version": "3.6.0"
  }
 },
 "nbformat": 4,
 "nbformat_minor": 2
}
