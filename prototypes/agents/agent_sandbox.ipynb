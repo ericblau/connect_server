{
 "cells": [
  {
   "cell_type": "code",
   "execution_count": 13,
   "metadata": {
    "collapsed": false,
    "deletable": true,
    "editable": true
   },
   "outputs": [],
   "source": [
    "import json\n",
    "from search_client import SearchClient\n",
    "from gmeta_utils import gmeta_pop, format_gmeta"
   ]
  },
  {
   "cell_type": "code",
   "execution_count": 14,
   "metadata": {
    "collapsed": false,
    "deletable": true,
    "editable": true
   },
   "outputs": [],
   "source": [
    "client = SearchClient(\"https://search.api.globus.org/\", \"mdf\")"
   ]
  },
  {
   "cell_type": "code",
   "execution_count": 15,
   "metadata": {
    "collapsed": true,
    "deletable": true,
    "editable": true
   },
   "outputs": [],
   "source": [
    "query = {\n",
    "    \"q\": \"mdf.source_name:cip\",\n",
    "    \"advanced\": True,\n",
    "    \"limit\": 9999\n",
    "}"
   ]
  },
  {
   "cell_type": "code",
   "execution_count": 16,
   "metadata": {
    "collapsed": false,
    "deletable": true,
    "editable": true
   },
   "outputs": [],
   "source": [
    "search_res = gmeta_pop(client.structured_search(query))"
   ]
  },
  {
   "cell_type": "code",
   "execution_count": 17,
   "metadata": {
    "collapsed": false,
    "deletable": true,
    "editable": true
   },
   "outputs": [
    {
     "data": {
      "text/plain": [
       "3292"
      ]
     },
     "execution_count": 17,
     "metadata": {},
     "output_type": "execute_result"
    }
   ],
   "source": [
    "len(search_res)"
   ]
  },
  {
   "cell_type": "code",
   "execution_count": 18,
   "metadata": {
    "collapsed": false,
    "deletable": true,
    "editable": true
   },
   "outputs": [
    {
     "data": {
      "text/plain": [
       "{'mdf': {'collection': 'NIST Classical Interatomic Potentials',\n",
       "  'composition': 'Si24 O48',\n",
       "  'elements': ['Si', 'O'],\n",
       "  'ingest_date': '2017-07-07T21:40:04.507143Z',\n",
       "  'links': {'landing_page': 'https://www.ctcms.nist.gov/~knc6/periodic.html#300',\n",
       "   'parent_id': '595fffb1d0a0d31254745f45'},\n",
       "  'mdf-id': '595fffb4d0a0d31254746071',\n",
       "  'metadata_version': '0.3.0',\n",
       "  'raw': '{\"Gv\": \"33.0\", \"search\": \"O-Si\", \"mpid\": \"mp-6930\", \"totenergy\": \"-482.25123\", \"energy\": \"-6.7\", \"case-number\": \"Calc-300\", \"ehull\": \"0.0108565366667\", \"elastic_matrix\": {\"c3\": [39.9, 39.9, 88.0, 0.0, 0.0, 0.0], \"c2\": [36.7, 100.5, 39.9, 6.7, 0.0, 0.0], \"c1\": [100.5, 36.7, 39.9, -6.7, -1.9, 9.2], \"c6\": [9.2, 0.0, 0.0, -0.0, -6.7, 31.9], \"c5\": [-1.9, 0.0, 0.0, 0.0, 37.9, -6.7], \"c4\": [-6.7, 6.7, 0.0, 37.9, 0.0, -0.0]}, \"Bv\": \"58.0\", \"forcefield\": \"SiO.tersoff\", \"composition\": \"Si24 O48\", \"structure\": \"Si3O6\"}',\n",
       "  'resource_type': 'record',\n",
       "  'scroll_id': 300,\n",
       "  'source_name': 'cip',\n",
       "  'title': 'NIST Classical Interatomic Potential - SiO.tersoff, Si24 O48'}}"
      ]
     },
     "execution_count": 18,
     "metadata": {},
     "output_type": "execute_result"
    }
   ],
   "source": [
    "search_res[0]"
   ]
  },
  {
   "cell_type": "code",
   "execution_count": 26,
   "metadata": {
    "collapsed": false,
    "deletable": true,
    "editable": true
   },
   "outputs": [],
   "source": [
    "glist = []\n",
    "for res in search_res:\n",
    "    res[\"data_acquisition_method\"] = \"XAFS\"\n",
    "    res[\"globus_subject\"] = res[\"http://datacite.org/schema/kernel-3#identifier\"]\n",
    "    res[\"acl\"] = [\"public\"]\n",
    "    glist.append(format_gmeta(res))\n",
    "gmeta = format_gmeta(glist)\n",
    "gmeta = json.loads(json.dumps(gmeta).replace(\"mdf-publish.publication.community\", \"https://materialsdatafacility.org/#mdf-publish.publication.community\"))"
   ]
  },
  {
   "cell_type": "code",
   "execution_count": 27,
   "metadata": {
    "collapsed": false,
    "deletable": true,
    "editable": true
   },
   "outputs": [
    {
     "data": {
      "text/plain": [
       "GlobusHTTPResponse({'success': True})"
      ]
     },
     "execution_count": 27,
     "metadata": {},
     "output_type": "execute_result"
    }
   ],
   "source": [
    "client.ingest(gmeta)"
   ]
  },
  {
   "cell_type": "code",
   "execution_count": null,
   "metadata": {
    "collapsed": false,
    "deletable": true,
    "editable": true
   },
   "outputs": [],
   "source": []
  },
  {
   "cell_type": "code",
   "execution_count": null,
   "metadata": {
    "collapsed": true,
    "deletable": true,
    "editable": true
   },
   "outputs": [],
   "source": []
  }
 ],
 "metadata": {
  "kernelspec": {
   "display_name": "Python 3",
   "language": "python",
   "name": "python3"
  },
  "language_info": {
   "codemirror_mode": {
    "name": "ipython",
    "version": 3
   },
   "file_extension": ".py",
   "mimetype": "text/x-python",
   "name": "python",
   "nbconvert_exporter": "python",
   "pygments_lexer": "ipython3",
   "version": "3.6.0"
  }
 },
 "nbformat": 4,
 "nbformat_minor": 2
}
