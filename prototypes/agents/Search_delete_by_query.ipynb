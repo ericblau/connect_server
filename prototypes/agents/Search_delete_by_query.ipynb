{
 "cells": [
  {
   "cell_type": "code",
   "execution_count": 1,
   "metadata": {
    "collapsed": true
   },
   "outputs": [],
   "source": [
    "import search_client\n",
    "from tqdm import tqdm_notebook\n",
    "client = search_client.SearchClient(\"https://search.api.globus.org/\", \"mdf\")"
   ]
  },
  {
   "cell_type": "code",
   "execution_count": 2,
   "metadata": {
    "collapsed": true
   },
   "outputs": [],
   "source": [
    "dataset_to_delete = \"fe_cr_al_oxidation\""
   ]
  },
  {
   "cell_type": "code",
   "execution_count": 3,
   "metadata": {
    "collapsed": false
   },
   "outputs": [
    {
     "name": "stdout",
     "output_type": "stream",
     "text": [
      "1247\n"
     ]
    }
   ],
   "source": [
    "query = {\n",
    "    \"q\": \"mdf.source_name:\" + dataset_to_delete,\n",
    "    \"advanced\": True,\n",
    "    \"limit\": 9999\n",
    "}\n",
    "res = client.structured_search(query)\n",
    "print(len(res[\"gmeta\"]))"
   ]
  },
  {
   "cell_type": "code",
   "execution_count": 4,
   "metadata": {
    "collapsed": false
   },
   "outputs": [
    {
     "name": "stdout",
     "output_type": "stream",
     "text": [
      "\n"
     ]
    }
   ],
   "source": [
    "success = 0\n",
    "total = len(res[\"gmeta\"])\n",
    "for entry in tqdm_notebook(res[\"gmeta\"], desc=\"Deleting records\"):\n",
    "    r = client.remove(entry[\"subject\"])\n",
    "    if r[\"removed\"]:\n",
    "        success += 1\n",
    "    else:\n",
    "        print(\"Error:\", r)"
   ]
  },
  {
   "cell_type": "code",
   "execution_count": null,
   "metadata": {
    "collapsed": true
   },
   "outputs": [],
   "source": []
  }
 ],
 "metadata": {
  "kernelspec": {
   "display_name": "Python 3",
   "language": "python",
   "name": "python3"
  },
  "language_info": {
   "codemirror_mode": {
    "name": "ipython",
    "version": 3
   },
   "file_extension": ".py",
   "mimetype": "text/x-python",
   "name": "python",
   "nbconvert_exporter": "python",
   "pygments_lexer": "ipython3",
   "version": "3.6.0"
  },
  "widgets": {
   "state": {
    "ca4db6453fa04733ac03f539e2c3276b": {
     "views": [
      {
       "cell_index": 3
      }
     ]
    }
   },
   "version": "1.2.0"
  }
 },
 "nbformat": 4,
 "nbformat_minor": 2
}
