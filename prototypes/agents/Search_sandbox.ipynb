{
 "cells": [
  {
   "cell_type": "code",
   "execution_count": 1,
   "metadata": {
    "collapsed": false,
    "deletable": true,
    "editable": true
   },
   "outputs": [],
   "source": [
    "import json\n",
    "import search_client\n",
    "from gmeta_utils import gmeta_pop, format_gmeta"
   ]
  },
  {
   "cell_type": "code",
   "execution_count": 2,
   "metadata": {
    "collapsed": false,
    "deletable": true,
    "editable": true
   },
   "outputs": [],
   "source": [
    "client = search_client.SearchClient(\"https://search.api.globus.org/\", \"mdf\")"
   ]
  },
  {
   "cell_type": "code",
   "execution_count": 22,
   "metadata": {
    "collapsed": false,
    "deletable": true,
    "editable": true
   },
   "outputs": [
    {
     "data": {
      "text/plain": [
       "[{'mdf': {'collection': 'OQMD',\n",
       "   'composition': 'Mg1U1Yb1',\n",
       "   'elements': ['Mg', 'U', 'Yb'],\n",
       "   'ingest_date': '2017-07-12T19:19:29.596508Z',\n",
       "   'links': {'landing_page': 'http://oqmd.org/analysis/calculation/2114975',\n",
       "    'metadata': {'globus_endpoint': '82f1b5c6-6e9b-11e5-ba47-22000b92c6ec',\n",
       "     'http_host': 'https://data.materialsdatafacility.org',\n",
       "     'path': '/collections/oqmd/data/home/oqmd/libraries/prototypes/ternaries/half_heusler/Mg/U_Yb/static/metadata.json'},\n",
       "    'outcar': {'globus_endpoint': '82f1b5c6-6e9b-11e5-ba47-22000b92c6ec',\n",
       "     'http_host': 'https://data.materialsdatafacility.org',\n",
       "     'path': '/collections/oqmd/data/home/oqmd/libraries/prototypes/ternaries/half_heusler/Mg/U_Yb/static'},\n",
       "    'parent_id': '596670e4f2c0041b5cbb00aa'},\n",
       "   'mdf-id': '59667641f2c0041b5cbc874a',\n",
       "   'metadata_version': '0.3.0',\n",
       "   'resource_type': 'record',\n",
       "   'scroll_id': 100000,\n",
       "   'source_name': 'oqmd',\n",
       "   'title': 'OQMD - Mg1U1Yb1'},\n",
       "  'oqmd': {'band_gap': 0.0,\n",
       "   'configuration': 'static',\n",
       "   'converged': True,\n",
       "   'magnetic_moment': {'units': 'bohr/atom', 'value': 1.252773},\n",
       "   'total_energy': {'units': 'eV/atom', 'value': -3.65477261666667}}}]"
      ]
     },
     "execution_count": 22,
     "metadata": {},
     "output_type": "execute_result"
    }
   ],
   "source": [
    "query = {\n",
    "    \"q\": \"data AND mdf.scroll_id:100000 AND mdf.metadata_version:0.3.0\",\n",
    "    \"advanced\": True,\n",
    "    \"limit\": 10\n",
    "}\n",
    "res = client.structured_search(query)\n",
    "gmeta_pop(res)"
   ]
  },
  {
   "cell_type": "code",
   "execution_count": 20,
   "metadata": {
    "collapsed": false,
    "deletable": true,
    "editable": true
   },
   "outputs": [],
   "source": [
    "for entry in res[\"gmeta\"]:\n",
    "    client.remove(entry[\"subject\"])"
   ]
  },
  {
   "cell_type": "code",
   "execution_count": 5,
   "metadata": {
    "collapsed": false,
    "deletable": true,
    "editable": true
   },
   "outputs": [
    {
     "data": {
      "text/plain": [
       "'https%3A//figshare.com/articles/HOPV15_Dataset/1610063/4%231'"
      ]
     },
     "execution_count": 5,
     "metadata": {},
     "output_type": "execute_result"
    }
   ],
   "source": [
    "from urllib.parse import quote\n",
    "quote(\"https://figshare.com/articles/HOPV15_Dataset/1610063/4#1\")"
   ]
  },
  {
   "cell_type": "markdown",
   "metadata": {
    "deletable": true,
    "editable": true
   },
   "source": [
    "# General Search"
   ]
  },
  {
   "cell_type": "code",
   "execution_count": 3,
   "metadata": {
    "collapsed": false,
    "deletable": true,
    "editable": true
   },
   "outputs": [
    {
     "name": "stdout",
     "output_type": "stream",
     "text": [
      "10\n",
      "[{'mdf-author': [{'email': 'robert.zarr@nist.gov', 'family_name': 'Zarr', 'given_name': 'Robert', 'institution': 'National Institute of Standards and Technology'}], 'mdf-citation': ['Robert R. Zarr, Josue A. Chavez, Angela Y. Lee, Geraldine Dalton, and Shari L. Young, NIST Heat Transmission Properties of Insulating and Building Materials, NIST Standard Reference Database Number 81, National Institute of Standards and Technology, Gaithersburg MD, 20899, http://srdata.nist.gov/Insulation/.'], 'mdf-collection': 'NIST Heat Transmission Materials', 'mdf-composition': 'Cellular Polystyrene, Extruded', 'mdf-data_contact': {'email': 'robert.zarr@nist.gov', 'family_name': 'Zarr', 'given_name': 'Robert', 'institution': 'National Institute of Standards and Technology'}, 'mdf-data_contributor': [{'email': 'jgaff@uchicago.edu', 'family_name': 'Gaff', 'github': 'jgaff', 'given_name': 'Jonathon', 'institution': 'The University of Chicago'}], 'mdf-data_format': ['json'], 'mdf-data_type': ['text'], 'mdf-description': 'Dow Q 103.9 by Dow Chemical Co.', 'mdf-id': '594d56d6d0a0d316131e9ae2', 'mdf-ingest_date': '2017-06-23T17:58:46.303136Z', 'mdf-links': {'mdf-landing_page': 'https://srdata.nist.gov/insulation/Search/detail/422', 'mdf-parent_id': '594d56d4d0a0d316131e9a05'}, 'mdf-metadata_version': '0.2.0', 'mdf-node_type': 'record', 'mdf-raw': '{\"ID\": 422, \"Material\": \"Cellular Polystyrene, Extruded\", \"InsulMaterialID\": 21, \"manufacturer\": \"Dow Chemical Co.\", \"InsulManufacturerID\": 49, \"tradename\": \"Dow Q 103.9\", \"InsulTradenameID\": 44, \"Density\": 40.0462, \"Delta_X\": 25.6108, \"Mean_Temp\": 31.1722, \"Delta_T\": 10.0278, \"k\": 0.0385, \"Date\": \"4/24/1945\", \"DensitySI\": \" (kg\\\\u00b7m<sup>-3</sup>)\", \"ThicknessSI\": \" (mm)\", \"MeanTemperatureSI\": \" (\\\\u00b0C)\", \"ThermalConductivitySI\": \" (W\\\\u00b7m<sup>-1</sup>\\\\u00b7K<sup>-1</sup>)\", \"ThermalConductanceSI\": \" (W\\\\u00b7m<sup>-2</sup>\\\\u00b7K<sup>-1</sup>)\", \"ThermalResistivitySI\": \" (m\\\\u00b7K\\\\u00b7W<sup>-1</sup>)\", \"ThermalResistanceSI\": \" (m<sup>2</sup>\\\\u00b7K\\\\u00b7W<sup>-1</sup>)\", \"DeltaTSI\": \" (K)\", \"getMinDensitySI\": 4.19, \"getMaxDensitySI\": 2991, \"getMinThicknessSI\": 0.71, \"getMaxThicknessSI\": 51.95, \"getMinMeanTemperatureSI\": -19.02, \"getMaxMeanTemperatureSI\": 58.6, \"getMinConductivitySI\": 0.016, \"getMaxConductivitySI\": 2.3, \"getMinResistivitySI\": 0.44, \"getMaxResistivitySI\": 61.09, \"getMinConductanceSI\": 0.624, \"getMaxConductanceSI\": 224, \"getMinResistanceSI\": 0.004, \"getMaxResistanceSI\": 1.602, \"DensityIP\": \" (lb\\\\u00b7ft<sup>-3</sup>)\", \"ThicknessIP\": \" (in)\", \"MeanTemperatureIP\": \" (\\\\u00b0F)\", \"ThermalConductivityIP\": \" (Btu\\\\u00b7in\\\\u00b7h<sup>-1</sup>\\\\u00b7ft<sup>-2</sup>\\\\u00b7\\\\u00b0F<sup>-1</sup>)\", \"ThermalConductanceIP\": \" (Btu\\\\u00b7h<sup>-1</sup>\\\\u00b7ft<sup>-2</sup>\\\\u00b7\\\\u00b0F<sup>-1</sup>)\", \"ThermalResistivityIP\": \" (h\\\\u00b7ft<sup>2</sup>\\\\u00b7\\\\u00b0F\\\\u00b7Btu<sup>-1</sup>\\\\u00b7in<sup>-1</sup>)\", \"ThermalResistanceIP\": \" (h\\\\u00b7ft<sup>2</sup>\\\\u00b7\\\\u00b0F\\\\u00b7Btu<sup>-1</sup>)\", \"DeltaTIP\": \" (\\\\u00b0F)\", \"getMinDensityIP\": 0.26, \"getMaxDensityIP\": 186.8, \"getMinThicknessIP\": 0.028, \"getMaxThicknessIP\": 2.05, \"getMinMeanTemperatureIP\": -2.3, \"getMaxMeanTemperatureIP\": 137.5, \"getMinConductivityIP\": 0.11, \"getMaxConductivityIP\": 15.45, \"getMinResistivityIP\": 0.06, \"getMaxResistivityIP\": 8.82, \"getMinConductanceIP\": 0.1, \"getMaxConductanceIP\": 39.45, \"getMinResistanceIP\": 0.025, \"getMaxResistanceIP\": 9.1}', 'mdf-scroll_id': 220, 'mdf-source_name': 'nist_heat_transmission', 'mdf-tags': ['insulation', 'heat conductivity'], 'mdf-title': 'Heat Transmission Properties - Cellular Polystyrene, Extruded', 'mdf-year': 2015}, {'mdf-author': [{'email': 'robert.zarr@nist.gov', 'family_name': 'Zarr', 'given_name': 'Robert', 'institution': 'National Institute of Standards and Technology'}], 'mdf-citation': ['Robert R. Zarr, Josue A. Chavez, Angela Y. Lee, Geraldine Dalton, and Shari L. Young, NIST Heat Transmission Properties of Insulating and Building Materials, NIST Standard Reference Database Number 81, National Institute of Standards and Technology, Gaithersburg MD, 20899, http://srdata.nist.gov/Insulation/.'], 'mdf-collection': 'NIST Heat Transmission Materials', 'mdf-composition': 'Cellular Polystyrene, Extruded', 'mdf-data_contact': {'email': 'robert.zarr@nist.gov', 'family_name': 'Zarr', 'given_name': 'Robert', 'institution': 'National Institute of Standards and Technology'}, 'mdf-data_contributor': [{'email': 'jgaff@uchicago.edu', 'family_name': 'Gaff', 'github': 'jgaff', 'given_name': 'Jonathon', 'institution': 'The University of Chicago'}], 'mdf-data_format': ['json'], 'mdf-data_type': ['text'], 'mdf-description': 'Dow Q 103.7 by Dow Chemical Co.', 'mdf-id': '594d56d6d0a0d316131e9ac9', 'mdf-ingest_date': '2017-06-23T17:58:46.153628Z', 'mdf-links': {'mdf-landing_page': 'https://srdata.nist.gov/insulation/Search/detail/681', 'mdf-parent_id': '594d56d4d0a0d316131e9a05'}, 'mdf-metadata_version': '0.2.0', 'mdf-node_type': 'record', 'mdf-raw': '{\"ID\": 681, \"Material\": \"Cellular Polystyrene, Extruded\", \"InsulMaterialID\": 21, \"manufacturer\": \"Dow Chemical Co.\", \"InsulManufacturerID\": 49, \"tradename\": \"Dow Q 103.7\", \"InsulTradenameID\": 42, \"Density\": 25.2291, \"Delta_X\": 26.9164, \"Mean_Temp\": 21.6667, \"Delta_T\": 13.2167, \"k\": 0.0476, \"Date\": \"6/22/1949\", \"DensitySI\": \" (kg\\\\u00b7m<sup>-3</sup>)\", \"ThicknessSI\": \" (mm)\", \"MeanTemperatureSI\": \" (\\\\u00b0C)\", \"ThermalConductivitySI\": \" (W\\\\u00b7m<sup>-1</sup>\\\\u00b7K<sup>-1</sup>)\", \"ThermalConductanceSI\": \" (W\\\\u00b7m<sup>-2</sup>\\\\u00b7K<sup>-1</sup>)\", \"ThermalResistivitySI\": \" (m\\\\u00b7K\\\\u00b7W<sup>-1</sup>)\", \"ThermalResistanceSI\": \" (m<sup>2</sup>\\\\u00b7K\\\\u00b7W<sup>-1</sup>)\", \"DeltaTSI\": \" (K)\", \"getMinDensitySI\": 4.19, \"getMaxDensitySI\": 2991, \"getMinThicknessSI\": 0.71, \"getMaxThicknessSI\": 51.95, \"getMinMeanTemperatureSI\": -19.02, \"getMaxMeanTemperatureSI\": 58.6, \"getMinConductivitySI\": 0.016, \"getMaxConductivitySI\": 2.3, \"getMinResistivitySI\": 0.44, \"getMaxResistivitySI\": 61.09, \"getMinConductanceSI\": 0.624, \"getMaxConductanceSI\": 224, \"getMinResistanceSI\": 0.004, \"getMaxResistanceSI\": 1.602, \"DensityIP\": \" (lb\\\\u00b7ft<sup>-3</sup>)\", \"ThicknessIP\": \" (in)\", \"MeanTemperatureIP\": \" (\\\\u00b0F)\", \"ThermalConductivityIP\": \" (Btu\\\\u00b7in\\\\u00b7h<sup>-1</sup>\\\\u00b7ft<sup>-2</sup>\\\\u00b7\\\\u00b0F<sup>-1</sup>)\", \"ThermalConductanceIP\": \" (Btu\\\\u00b7h<sup>-1</sup>\\\\u00b7ft<sup>-2</sup>\\\\u00b7\\\\u00b0F<sup>-1</sup>)\", \"ThermalResistivityIP\": \" (h\\\\u00b7ft<sup>2</sup>\\\\u00b7\\\\u00b0F\\\\u00b7Btu<sup>-1</sup>\\\\u00b7in<sup>-1</sup>)\", \"ThermalResistanceIP\": \" (h\\\\u00b7ft<sup>2</sup>\\\\u00b7\\\\u00b0F\\\\u00b7Btu<sup>-1</sup>)\", \"DeltaTIP\": \" (\\\\u00b0F)\", \"getMinDensityIP\": 0.26, \"getMaxDensityIP\": 186.8, \"getMinThicknessIP\": 0.028, \"getMaxThicknessIP\": 2.05, \"getMinMeanTemperatureIP\": -2.3, \"getMaxMeanTemperatureIP\": 137.5, \"getMinConductivityIP\": 0.11, \"getMaxConductivityIP\": 15.45, \"getMinResistivityIP\": 0.06, \"getMaxResistivityIP\": 8.82, \"getMinConductanceIP\": 0.1, \"getMaxConductanceIP\": 39.45, \"getMinResistanceIP\": 0.025, \"getMaxResistanceIP\": 9.1}', 'mdf-scroll_id': 195, 'mdf-source_name': 'nist_heat_transmission', 'mdf-tags': ['insulation', 'heat conductivity'], 'mdf-title': 'Heat Transmission Properties - Cellular Polystyrene, Extruded', 'mdf-year': 2015}, {'mdf-author': [{'email': 'robert.zarr@nist.gov', 'family_name': 'Zarr', 'given_name': 'Robert', 'institution': 'National Institute of Standards and Technology'}], 'mdf-citation': ['Robert R. Zarr, Josue A. Chavez, Angela Y. Lee, Geraldine Dalton, and Shari L. Young, NIST Heat Transmission Properties of Insulating and Building Materials, NIST Standard Reference Database Number 81, National Institute of Standards and Technology, Gaithersburg MD, 20899, http://srdata.nist.gov/Insulation/.'], 'mdf-collection': 'NIST Heat Transmission Materials', 'mdf-composition': 'Cellular Polystyrene, Extruded', 'mdf-data_contact': {'email': 'robert.zarr@nist.gov', 'family_name': 'Zarr', 'given_name': 'Robert', 'institution': 'National Institute of Standards and Technology'}, 'mdf-data_contributor': [{'email': 'jgaff@uchicago.edu', 'family_name': 'Gaff', 'github': 'jgaff', 'given_name': 'Jonathon', 'institution': 'The University of Chicago'}], 'mdf-data_format': ['json'], 'mdf-data_type': ['text'], 'mdf-description': 'Dow Q 103.8 by Dow Chemical Co.', 'mdf-id': '594d56d6d0a0d316131e9ae3', 'mdf-ingest_date': '2017-06-23T17:58:46.308309Z', 'mdf-links': {'mdf-landing_page': 'https://srdata.nist.gov/insulation/Search/detail/423', 'mdf-parent_id': '594d56d4d0a0d316131e9a05'}, 'mdf-metadata_version': '0.2.0', 'mdf-node_type': 'record', 'mdf-raw': '{\"ID\": 423, \"Material\": \"Cellular Polystyrene, Extruded\", \"InsulMaterialID\": 21, \"manufacturer\": \"Dow Chemical Co.\", \"InsulManufacturerID\": 49, \"tradename\": \"Dow Q 103.8\", \"InsulTradenameID\": 43, \"Density\": 32.0369, \"Delta_X\": 24.826, \"Mean_Temp\": 31.5778, \"Delta_T\": 10.4167, \"k\": 0.0492, \"Date\": \"4/26/1945\", \"DensitySI\": \" (kg\\\\u00b7m<sup>-3</sup>)\", \"ThicknessSI\": \" (mm)\", \"MeanTemperatureSI\": \" (\\\\u00b0C)\", \"ThermalConductivitySI\": \" (W\\\\u00b7m<sup>-1</sup>\\\\u00b7K<sup>-1</sup>)\", \"ThermalConductanceSI\": \" (W\\\\u00b7m<sup>-2</sup>\\\\u00b7K<sup>-1</sup>)\", \"ThermalResistivitySI\": \" (m\\\\u00b7K\\\\u00b7W<sup>-1</sup>)\", \"ThermalResistanceSI\": \" (m<sup>2</sup>\\\\u00b7K\\\\u00b7W<sup>-1</sup>)\", \"DeltaTSI\": \" (K)\", \"getMinDensitySI\": 4.19, \"getMaxDensitySI\": 2991, \"getMinThicknessSI\": 0.71, \"getMaxThicknessSI\": 51.95, \"getMinMeanTemperatureSI\": -19.02, \"getMaxMeanTemperatureSI\": 58.6, \"getMinConductivitySI\": 0.016, \"getMaxConductivitySI\": 2.3, \"getMinResistivitySI\": 0.44, \"getMaxResistivitySI\": 61.09, \"getMinConductanceSI\": 0.624, \"getMaxConductanceSI\": 224, \"getMinResistanceSI\": 0.004, \"getMaxResistanceSI\": 1.602, \"DensityIP\": \" (lb\\\\u00b7ft<sup>-3</sup>)\", \"ThicknessIP\": \" (in)\", \"MeanTemperatureIP\": \" (\\\\u00b0F)\", \"ThermalConductivityIP\": \" (Btu\\\\u00b7in\\\\u00b7h<sup>-1</sup>\\\\u00b7ft<sup>-2</sup>\\\\u00b7\\\\u00b0F<sup>-1</sup>)\", \"ThermalConductanceIP\": \" (Btu\\\\u00b7h<sup>-1</sup>\\\\u00b7ft<sup>-2</sup>\\\\u00b7\\\\u00b0F<sup>-1</sup>)\", \"ThermalResistivityIP\": \" (h\\\\u00b7ft<sup>2</sup>\\\\u00b7\\\\u00b0F\\\\u00b7Btu<sup>-1</sup>\\\\u00b7in<sup>-1</sup>)\", \"ThermalResistanceIP\": \" (h\\\\u00b7ft<sup>2</sup>\\\\u00b7\\\\u00b0F\\\\u00b7Btu<sup>-1</sup>)\", \"DeltaTIP\": \" (\\\\u00b0F)\", \"getMinDensityIP\": 0.26, \"getMaxDensityIP\": 186.8, \"getMinThicknessIP\": 0.028, \"getMaxThicknessIP\": 2.05, \"getMinMeanTemperatureIP\": -2.3, \"getMaxMeanTemperatureIP\": 137.5, \"getMinConductivityIP\": 0.11, \"getMaxConductivityIP\": 15.45, \"getMinResistivityIP\": 0.06, \"getMaxResistivityIP\": 8.82, \"getMinConductanceIP\": 0.1, \"getMaxConductanceIP\": 39.45, \"getMinResistanceIP\": 0.025, \"getMaxResistanceIP\": 9.1}', 'mdf-scroll_id': 221, 'mdf-source_name': 'nist_heat_transmission', 'mdf-tags': ['insulation', 'heat conductivity'], 'mdf-title': 'Heat Transmission Properties - Cellular Polystyrene, Extruded', 'mdf-year': 2015}, {'mdf-author': [{'email': 'robert.zarr@nist.gov', 'family_name': 'Zarr', 'given_name': 'Robert', 'institution': 'National Institute of Standards and Technology'}], 'mdf-citation': ['Robert R. Zarr, Josue A. Chavez, Angela Y. Lee, Geraldine Dalton, and Shari L. Young, NIST Heat Transmission Properties of Insulating and Building Materials, NIST Standard Reference Database Number 81, National Institute of Standards and Technology, Gaithersburg MD, 20899, http://srdata.nist.gov/Insulation/.'], 'mdf-collection': 'NIST Heat Transmission Materials', 'mdf-composition': 'Cellular Polystyrene, Extruded', 'mdf-data_contact': {'email': 'robert.zarr@nist.gov', 'family_name': 'Zarr', 'given_name': 'Robert', 'institution': 'National Institute of Standards and Technology'}, 'mdf-data_contributor': [{'email': 'jgaff@uchicago.edu', 'family_name': 'Gaff', 'github': 'jgaff', 'given_name': 'Jonathon', 'institution': 'The University of Chicago'}], 'mdf-data_format': ['json'], 'mdf-data_type': ['text'], 'mdf-description': 'Dow Q 103.7 by Dow Chemical Co.', 'mdf-id': '594d56d6d0a0d316131e9ae4', 'mdf-ingest_date': '2017-06-23T17:58:46.313389Z', 'mdf-links': {'mdf-landing_page': 'https://srdata.nist.gov/insulation/Search/detail/424', 'mdf-parent_id': '594d56d4d0a0d316131e9a05'}, 'mdf-metadata_version': '0.2.0', 'mdf-node_type': 'record', 'mdf-raw': '{\"ID\": 424, \"Material\": \"Cellular Polystyrene, Extruded\", \"InsulMaterialID\": 21, \"manufacturer\": \"Dow Chemical Co.\", \"InsulManufacturerID\": 49, \"tradename\": \"Dow Q 103.7\", \"InsulTradenameID\": 42, \"Density\": 25.6295, \"Delta_X\": 27.4015, \"Mean_Temp\": 31.3611, \"Delta_T\": 10.2, \"k\": 0.0406, \"Date\": \"5/1/1945\", \"DensitySI\": \" (kg\\\\u00b7m<sup>-3</sup>)\", \"ThicknessSI\": \" (mm)\", \"MeanTemperatureSI\": \" (\\\\u00b0C)\", \"ThermalConductivitySI\": \" (W\\\\u00b7m<sup>-1</sup>\\\\u00b7K<sup>-1</sup>)\", \"ThermalConductanceSI\": \" (W\\\\u00b7m<sup>-2</sup>\\\\u00b7K<sup>-1</sup>)\", \"ThermalResistivitySI\": \" (m\\\\u00b7K\\\\u00b7W<sup>-1</sup>)\", \"ThermalResistanceSI\": \" (m<sup>2</sup>\\\\u00b7K\\\\u00b7W<sup>-1</sup>)\", \"DeltaTSI\": \" (K)\", \"getMinDensitySI\": 4.19, \"getMaxDensitySI\": 2991, \"getMinThicknessSI\": 0.71, \"getMaxThicknessSI\": 51.95, \"getMinMeanTemperatureSI\": -19.02, \"getMaxMeanTemperatureSI\": 58.6, \"getMinConductivitySI\": 0.016, \"getMaxConductivitySI\": 2.3, \"getMinResistivitySI\": 0.44, \"getMaxResistivitySI\": 61.09, \"getMinConductanceSI\": 0.624, \"getMaxConductanceSI\": 224, \"getMinResistanceSI\": 0.004, \"getMaxResistanceSI\": 1.602, \"DensityIP\": \" (lb\\\\u00b7ft<sup>-3</sup>)\", \"ThicknessIP\": \" (in)\", \"MeanTemperatureIP\": \" (\\\\u00b0F)\", \"ThermalConductivityIP\": \" (Btu\\\\u00b7in\\\\u00b7h<sup>-1</sup>\\\\u00b7ft<sup>-2</sup>\\\\u00b7\\\\u00b0F<sup>-1</sup>)\", \"ThermalConductanceIP\": \" (Btu\\\\u00b7h<sup>-1</sup>\\\\u00b7ft<sup>-2</sup>\\\\u00b7\\\\u00b0F<sup>-1</sup>)\", \"ThermalResistivityIP\": \" (h\\\\u00b7ft<sup>2</sup>\\\\u00b7\\\\u00b0F\\\\u00b7Btu<sup>-1</sup>\\\\u00b7in<sup>-1</sup>)\", \"ThermalResistanceIP\": \" (h\\\\u00b7ft<sup>2</sup>\\\\u00b7\\\\u00b0F\\\\u00b7Btu<sup>-1</sup>)\", \"DeltaTIP\": \" (\\\\u00b0F)\", \"getMinDensityIP\": 0.26, \"getMaxDensityIP\": 186.8, \"getMinThicknessIP\": 0.028, \"getMaxThicknessIP\": 2.05, \"getMinMeanTemperatureIP\": -2.3, \"getMaxMeanTemperatureIP\": 137.5, \"getMinConductivityIP\": 0.11, \"getMaxConductivityIP\": 15.45, \"getMinResistivityIP\": 0.06, \"getMaxResistivityIP\": 8.82, \"getMinConductanceIP\": 0.1, \"getMaxConductanceIP\": 39.45, \"getMinResistanceIP\": 0.025, \"getMaxResistanceIP\": 9.1}', 'mdf-scroll_id': 222, 'mdf-source_name': 'nist_heat_transmission', 'mdf-tags': ['insulation', 'heat conductivity'], 'mdf-title': 'Heat Transmission Properties - Cellular Polystyrene, Extruded', 'mdf-year': 2015}, {'mdf-author': [{'email': 'robert.zarr@nist.gov', 'family_name': 'Zarr', 'given_name': 'Robert', 'institution': 'National Institute of Standards and Technology'}], 'mdf-citation': ['Robert R. Zarr, Josue A. Chavez, Angela Y. Lee, Geraldine Dalton, and Shari L. Young, NIST Heat Transmission Properties of Insulating and Building Materials, NIST Standard Reference Database Number 81, National Institute of Standards and Technology, Gaithersburg MD, 20899, http://srdata.nist.gov/Insulation/.'], 'mdf-collection': 'NIST Heat Transmission Materials', 'mdf-composition': 'Cellular Polystyrene, Extruded', 'mdf-data_contact': {'email': 'robert.zarr@nist.gov', 'family_name': 'Zarr', 'given_name': 'Robert', 'institution': 'National Institute of Standards and Technology'}, 'mdf-data_contributor': [{'email': 'jgaff@uchicago.edu', 'family_name': 'Gaff', 'github': 'jgaff', 'given_name': 'Jonathon', 'institution': 'The University of Chicago'}], 'mdf-data_format': ['json'], 'mdf-data_type': ['text'], 'mdf-description': 'Dow Q 103.13 by Dow Chemical Co.', 'mdf-id': '594d56d6d0a0d316131e9ad0', 'mdf-ingest_date': '2017-06-23T17:58:46.194361Z', 'mdf-links': {'mdf-landing_page': 'https://srdata.nist.gov/insulation/Search/detail/679', 'mdf-parent_id': '594d56d4d0a0d316131e9a05'}, 'mdf-metadata_version': '0.2.0', 'mdf-node_type': 'record', 'mdf-raw': '{\"ID\": 679, \"Material\": \"Cellular Polystyrene, Extruded\", \"InsulMaterialID\": 21, \"manufacturer\": \"Dow Chemical Co.\", \"InsulManufacturerID\": 49, \"tradename\": \"Dow Q 103.13\", \"InsulTradenameID\": 41, \"Density\": 31.3161, \"Delta_X\": 25.6438, \"Mean_Temp\": 21.7111, \"Delta_T\": 13.2611, \"k\": 0.0436, \"Date\": \"6/20/1949\", \"DensitySI\": \" (kg\\\\u00b7m<sup>-3</sup>)\", \"ThicknessSI\": \" (mm)\", \"MeanTemperatureSI\": \" (\\\\u00b0C)\", \"ThermalConductivitySI\": \" (W\\\\u00b7m<sup>-1</sup>\\\\u00b7K<sup>-1</sup>)\", \"ThermalConductanceSI\": \" (W\\\\u00b7m<sup>-2</sup>\\\\u00b7K<sup>-1</sup>)\", \"ThermalResistivitySI\": \" (m\\\\u00b7K\\\\u00b7W<sup>-1</sup>)\", \"ThermalResistanceSI\": \" (m<sup>2</sup>\\\\u00b7K\\\\u00b7W<sup>-1</sup>)\", \"DeltaTSI\": \" (K)\", \"getMinDensitySI\": 4.19, \"getMaxDensitySI\": 2991, \"getMinThicknessSI\": 0.71, \"getMaxThicknessSI\": 51.95, \"getMinMeanTemperatureSI\": -19.02, \"getMaxMeanTemperatureSI\": 58.6, \"getMinConductivitySI\": 0.016, \"getMaxConductivitySI\": 2.3, \"getMinResistivitySI\": 0.44, \"getMaxResistivitySI\": 61.09, \"getMinConductanceSI\": 0.624, \"getMaxConductanceSI\": 224, \"getMinResistanceSI\": 0.004, \"getMaxResistanceSI\": 1.602, \"DensityIP\": \" (lb\\\\u00b7ft<sup>-3</sup>)\", \"ThicknessIP\": \" (in)\", \"MeanTemperatureIP\": \" (\\\\u00b0F)\", \"ThermalConductivityIP\": \" (Btu\\\\u00b7in\\\\u00b7h<sup>-1</sup>\\\\u00b7ft<sup>-2</sup>\\\\u00b7\\\\u00b0F<sup>-1</sup>)\", \"ThermalConductanceIP\": \" (Btu\\\\u00b7h<sup>-1</sup>\\\\u00b7ft<sup>-2</sup>\\\\u00b7\\\\u00b0F<sup>-1</sup>)\", \"ThermalResistivityIP\": \" (h\\\\u00b7ft<sup>2</sup>\\\\u00b7\\\\u00b0F\\\\u00b7Btu<sup>-1</sup>\\\\u00b7in<sup>-1</sup>)\", \"ThermalResistanceIP\": \" (h\\\\u00b7ft<sup>2</sup>\\\\u00b7\\\\u00b0F\\\\u00b7Btu<sup>-1</sup>)\", \"DeltaTIP\": \" (\\\\u00b0F)\", \"getMinDensityIP\": 0.26, \"getMaxDensityIP\": 186.8, \"getMinThicknessIP\": 0.028, \"getMaxThicknessIP\": 2.05, \"getMinMeanTemperatureIP\": -2.3, \"getMaxMeanTemperatureIP\": 137.5, \"getMinConductivityIP\": 0.11, \"getMaxConductivityIP\": 15.45, \"getMinResistivityIP\": 0.06, \"getMaxResistivityIP\": 8.82, \"getMinConductanceIP\": 0.1, \"getMaxConductanceIP\": 39.45, \"getMinResistanceIP\": 0.025, \"getMaxResistanceIP\": 9.1}', 'mdf-scroll_id': 202, 'mdf-source_name': 'nist_heat_transmission', 'mdf-tags': ['insulation', 'heat conductivity'], 'mdf-title': 'Heat Transmission Properties - Cellular Polystyrene, Extruded', 'mdf-year': 2015}, {'mdf': {'collection': 'NIST XPS DB', 'composition': 'Bi/Si', 'description': '~ 3ML Bi were deposited onto Si(111) and annealed to 603 K. LEED pattern was (1x1). The Si wafer was cleaned by flashing to ~ 1273 K. Branching ratio = 0.50. The spectra were recorded at normal emission and 33 degrees. The thickness was measured using a q', 'elements': ['Bi', 'Si'], 'ingest_date': '2017-07-10T14:08:10.196201Z', 'links': {'landing_page': 'https://srdata.nist.gov/xps/XPSDetailPage.aspx?AllDataNo=93873', 'parent_id': '5963890fd0a0d303397e2d34'}, 'mdf-id': '59638a4ad0a0d303397e9dcf', 'metadata_version': '0.3.0', 'raw': '{\"General\": null, \"Element\": \"Si\", \"Formula\": \"Bi/Si\", \"XPS Formula\": \"\", \"Name\": \"bismuth/silicon\", \"CAS Registry No\": \"7440-21-3\", \"Classes\": \"element\", \"Citation\": null, \"Author Name(s)\": \"Herman G.S., Woicik J.C., Andrews A.B., Erskine J.L.\", \"Journal\": \"Surf. Sci. 290, L643 (1993)\", \"Data Processing\": null, \"Data Type\": \"Surface Core-level Shift\", \"Line Designation\": \"SS-2p3/2\", \"Quality of Data\": \"Adequate\", \"Core-Level Shift (eV)\": \"0.0\", \"Energy Uncertainty\": \"\", \"Background Subtraction Method\": \"other\", \"Peak Location Method\": \"mixed Gaussian/Lorentzian\", \"Full Width at Half-maximum Intensity (eV)\": \"\", \"Gaussian Width (eV)\": \"0.190\", \"Lorentzian Width (eV)\": \"0.083\", \"Measurement Information\": null, \"Use of X-ray Monochromator\": \"No\", \"Excitation Energy\": \"other source\", \"X-ray Energy\": \"110, 130\", \"Overal Energy Resolution (eV)\": \"\", \"Calibration\": \"\", \"Charge Reference\": \"Element\", \"Energy Scale Evalution\": \"Reliable (reported energy within 300 eV of a reference energy)\", \"Specimen Information\": null, \"Specimen\": \"vapor deposited and heated, wafer\", \"Method of Determining Specimen Composition\": \"\", \"Method of Determining Specimen Crystallinity\": \"Low-energy Electron Diffraction\", \"Specimen Temperature (K)\": \"300\", \"Sample Quality\": \"Good\", \"Comment\": null, \"Notes\": \"~ 3ML Bi were deposited onto Si(111) and annealed to 603 K. LEED pattern was (1x1). The Si wafer was cleaned by flashing to ~ 1273 K. Branching ratio = 0.50. The spectra were recorded at normal emission and 33 degrees. The thickness was measured using a q\"}', 'resource_type': 'record', 'scroll_id': 28827, 'source_name': 'nist_xps_db', 'title': 'NIST XPS DB - bismuth/silicon'}}, {'mdf': {'collection': 'NIST XPS DB', 'composition': 'Bi/Si', 'description': '~ 3ML Bi were deposited onto Si(111) and annealed to 603 K. LEED pattern was (1x1). The Si wafer was cleaned by flashing to ~ 1273 K. Branching ratio = 0.50. The spectra were recorded at normal emission and 33 degrees. The thickness was measured using a q', 'elements': ['Bi', 'Si'], 'ingest_date': '2017-07-10T14:08:10.164274Z', 'links': {'landing_page': 'https://srdata.nist.gov/xps/XPSDetailPage.aspx?AllDataNo=93870', 'parent_id': '5963890fd0a0d303397e2d34'}, 'mdf-id': '59638a4ad0a0d303397e9dcc', 'metadata_version': '0.3.0', 'raw': '{\"General\": null, \"Element\": \"Si\", \"Formula\": \"Bi/Si\", \"XPS Formula\": \"bulk component\", \"Name\": \"bismuth/silicon\", \"CAS Registry No\": \"7440-21-3\", \"Classes\": \"element\", \"Citation\": null, \"Author Name(s)\": \"Herman G.S., Woicik J.C., Andrews A.B., Erskine J.L.\", \"Journal\": \"Surf. Sci. 290, L643 (1993)\", \"Data Processing\": null, \"Data Type\": \"Interface Core-Level Shift\", \"Line Designation\": \"INT-2p3/2\", \"Quality of Data\": \"Adequate\", \"Core-Level Shift (eV)\": \"-0.11\", \"Energy Uncertainty\": \"\", \"Background Subtraction Method\": \"other\", \"Peak Location Method\": \"mixed Gaussian/Lorentzian\", \"Full Width at Half-maximum Intensity (eV)\": \"\", \"Gaussian Width (eV)\": \"0.190\", \"Lorentzian Width (eV)\": \"0.083\", \"Measurement Information\": null, \"Use of X-ray Monochromator\": \"No\", \"Excitation Energy\": \"other source\", \"X-ray Energy\": \"110\", \"Overal Energy Resolution (eV)\": \"\", \"Calibration\": \"\", \"Charge Reference\": \"Element\", \"Energy Scale Evalution\": \"Reliable (reported energy within 300 eV of a reference energy)\", \"Specimen Information\": null, \"Specimen\": \"reacted, vapor deposited and heated, wafer\", \"Method of Determining Specimen Composition\": \"\", \"Method of Determining Specimen Crystallinity\": \"Low-energy Electron Diffraction\", \"Specimen Temperature (K)\": \"300\", \"Sample Quality\": \"Good\", \"Comment\": null, \"Notes\": \"~ 3ML Bi were deposited onto Si(111) and annealed to 603 K. LEED pattern was (1x1). The Si wafer was cleaned by flashing to ~ 1273 K. Branching ratio = 0.50. The spectra were recorded at normal emission and 33 degrees. The thickness was measured using a q\"}', 'resource_type': 'record', 'scroll_id': 28824, 'source_name': 'nist_xps_db', 'title': 'NIST XPS DB - bismuth/silicon'}}, {'mdf': {'collection': 'NIST XPS DB', 'composition': 'Bi/Si', 'description': '~ 3ML Bi were deposited onto Si(111) and annealed to 603 K. LEED pattern was (1x1). The Si wafer was cleaned by flashing to ~ 1273 K. Branching ratio = 0.50. The spectra were recorded at normal emission and 33 degrees. The thickness was measured using a q', 'elements': ['Bi', 'Si'], 'ingest_date': '2017-07-10T14:08:10.186168Z', 'links': {'landing_page': 'https://srdata.nist.gov/xps/XPSDetailPage.aspx?AllDataNo=93872', 'parent_id': '5963890fd0a0d303397e2d34'}, 'mdf-id': '59638a4ad0a0d303397e9dce', 'metadata_version': '0.3.0', 'raw': '{\"General\": null, \"Element\": \"Si\", \"Formula\": \"Bi/Si\", \"XPS Formula\": \"\", \"Name\": \"bismuth/silicon\", \"CAS Registry No\": \"7440-21-3\", \"Classes\": \"element\", \"Citation\": null, \"Author Name(s)\": \"Herman G.S., Woicik J.C., Andrews A.B., Erskine J.L.\", \"Journal\": \"Surf. Sci. 290, L643 (1993)\", \"Data Processing\": null, \"Data Type\": \"Doublet Separation for Photoelectron Lines\", \"Line Designation\": \"DS-2p\", \"Quality of Data\": \"Adequate\", \">Separation Energy (eV)\": \"0.600\", \"Energy Uncertainty\": \"\", \"Background Subtraction Method\": \"other\", \"Peak Location Method\": \"mixed Gaussian/Lorentzian\", \"Full Width at Half-maximum Intensity (eV)\": \"\", \"Gaussian Width (eV)\": \"\", \"Lorentzian Width (eV)\": \"\", \"Measurement Information\": null, \"Use of X-ray Monochromator\": \"No\", \"Excitation Energy\": \"other source\", \"X-ray Energy\": \"110, 130\", \"Overal Energy Resolution (eV)\": \"\", \"Calibration\": \"\", \"Charge Reference\": \"Element\", \"Energy Scale Evalution\": \"Reliable (reported energy within 300 eV of a reference energy)\", \"Specimen Information\": null, \"Specimen\": \"reacted, vapor deposited and heated, wafer\", \"Method of Determining Specimen Composition\": \"\", \"Method of Determining Specimen Crystallinity\": \"Low-energy Electron Diffraction\", \"Specimen Temperature (K)\": \"300\", \"Sample Quality\": \"Good\", \"Comment\": null, \"Notes\": \"~ 3ML Bi were deposited onto Si(111) and annealed to 603 K. LEED pattern was (1x1). The Si wafer was cleaned by flashing to ~ 1273 K. Branching ratio = 0.50. The spectra were recorded at normal emission and 33 degrees. The thickness was measured using a q\"}', 'resource_type': 'record', 'scroll_id': 28826, 'source_name': 'nist_xps_db', 'title': 'NIST XPS DB - bismuth/silicon'}}, {'mdf': {'collection': 'NIST XPS DB', 'composition': 'C28H12CuN12', 'description': 'FAT mode.', 'elements': ['H', 'C', 'Cu', 'N'], 'ingest_date': '2017-07-10T14:06:52.683001Z', 'links': {'landing_page': 'https://srdata.nist.gov/xps/XPSDetailPage.aspx?AllDataNo=66595', 'parent_id': '5963890fd0a0d303397e2d34'}, 'mdf-id': '596389fcd0a0d303397e8530', 'metadata_version': '0.3.0', 'raw': '{\"General\": null, \"Element\": \"N\", \"Formula\": \"C28H12CuN12\", \"XPS Formula\": \"all nitrogen atoms\", \"Name\": \"[29H,31H-tetrapyrido[3,4-b;3\\',4\\'-g;3\\\\\",4\\\\\"-l:3\\'\\'\\',4\\'\\'\\'-q]porphyrazinato-N29,N30,N31,N32]copper\", \"CAS Registry No\": \"15275-52-2\", \"Classes\": \"nitrogen, organometallic, other ring, superconductor\", \"Citation\": null, \"Author Name(s)\": \"Carniato S., Roulet H., Dufour G., Palacin S., Barraud A., Millie P., et al.\", \"Journal\": \"J. Phys. Chem. 96, 7072 (1992)\", \"Data Processing\": null, \"Data Type\": \"Photoelectron Line\", \"Line Designation\": \"1s\", \"Quality of Data\": \"Adequate\", \"Binding Energy (eV)\": \"398.6\", \"Energy Uncertainty\": \"\", \"Background Subtraction Method\": \"Shirley\", \"Peak Location Method\": \"data\", \"Full Width at Half-maximum Intensity (eV)\": \"\", \"Gaussian Width (eV)\": \"\", \"Lorentzian Width (eV)\": \"\", \"Measurement Information\": null, \"Use of X-ray Monochromator\": \"No\", \"Excitation Energy\": \"Mg\", \"X-ray Energy\": \"\", \"Overal Energy Resolution (eV)\": \"\", \"Calibration\": \"\", \"Charge Reference\": \"Adventitious carbon\", \"Energy Scale Evalution\": \"Reliable, with one-point correction of energy scale\", \"Specimen Information\": null, \"Specimen\": \"amorphous\", \"Method of Determining Specimen Composition\": \"\", \"Method of Determining Specimen Crystallinity\": \"\", \"Specimen Temperature (K)\": \"300\", \"Sample Quality\": \"Adequate\", \"Comment\": null, \"Notes\": \"FAT mode.\"}', 'resource_type': 'record', 'scroll_id': 22524, 'source_name': 'nist_xps_db', 'title': 'NIST XPS DB - [29H,31H-tetrapyrido[3,4-b;3\\',4\\'-g;3\",4\"-l:3\\'\\'\\',4\\'\\'\\'-q]porphyrazinato-N29,N30,N31,N32]copper'}}, {'mdf': {'collection': 'NIST XPS DB', 'composition': 'C100H160Br4CuN12/Si', 'description': 'Langmuir - Blodgett film, amorphous phase. The relative intensity was 0.69. FAT mode.', 'elements': ['H', 'Si', 'Br', 'N', 'C', 'Cu'], 'ingest_date': '2017-07-10T14:06:52.738855Z', 'links': {'landing_page': 'https://srdata.nist.gov/xps/XPSDetailPage.aspx?AllDataNo=66597', 'parent_id': '5963890fd0a0d303397e2d34'}, 'mdf-id': '596389fcd0a0d303397e8532', 'metadata_version': '0.3.0', 'raw': '{\"General\": null, \"Element\": \"N\", \"Formula\": \"C100H160Br4CuN12/Si\", \"XPS Formula\": \"quaternized nitrogen atoms\", \"Name\": \"2,9,16,23-tetraoctadecyl-29H,31H-tetrapyridol[3,4-b:3\\',4\\'-g:3\\\\\",4\\\\\"-l:3\\'\\'\\',4\\'\\'\\'-q]porphyraziniumatocopper tetrabromide/silicon\", \"CAS Registry No\": \"104574-70-1\", \"Classes\": \"bromide, nitrogen, organometallic, other ring, superconductor\", \"Citation\": null, \"Author Name(s)\": \"Carniato S., Roulet H., Dufour G., Palacin S., Barraud A., Millie P., et al.\", \"Journal\": \"J. Phys. Chem. 96, 7072 (1992)\", \"Data Processing\": null, \"Data Type\": \"Photoelectron Line\", \"Line Designation\": \"1s\", \"Quality of Data\": \"Adequate\", \"Binding Energy (eV)\": \"400.4\", \"Energy Uncertainty\": \"\", \"Background Subtraction Method\": \"Shirley\", \"Peak Location Method\": \"data\", \"Full Width at Half-maximum Intensity (eV)\": \"\", \"Gaussian Width (eV)\": \"\", \"Lorentzian Width (eV)\": \"\", \"Measurement Information\": null, \"Use of X-ray Monochromator\": \"No\", \"Excitation Energy\": \"Mg\", \"X-ray Energy\": \"\", \"Overal Energy Resolution (eV)\": \"\", \"Calibration\": \"\", \"Charge Reference\": \"Adventitious carbon\", \"Energy Scale Evalution\": \"Reliable, with one-point correction of energy scale\", \"Specimen Information\": null, \"Specimen\": \"amorphous\", \"Method of Determining Specimen Composition\": \"\", \"Method of Determining Specimen Crystallinity\": \"\", \"Specimen Temperature (K)\": \"300\", \"Sample Quality\": \"Adequate\", \"Comment\": null, \"Notes\": \"Langmuir - Blodgett film, amorphous phase. The relative intensity was 0.69. FAT mode.\"}', 'resource_type': 'record', 'scroll_id': 22526, 'source_name': 'nist_xps_db', 'title': 'NIST XPS DB - 2,9,16,23-tetraoctadecyl-29H,31H-tetrapyridol[3,4-b:3\\',4\\'-g:3\",4\"-l:3\\'\\'\\',4\\'\\'\\'-q]porphyraziniumatocopper tetrabromide/silicon'}}]\n"
     ]
    }
   ],
   "source": [
    "query1 = {\n",
    "    \"q\": \"nist\",        # Fulltext search term\n",
    "    \"advanced\": False,  # Not using advanced query structure\n",
    "    \"limit\": 10         # Max number of results to return\n",
    "}\n",
    "search_result1 = client.search(query1)\n",
    "cleaned_search_result1 = gmeta_pop(search_result1)\n",
    "print(len(cleaned_search_result1))\n",
    "print(cleaned_search_result1)"
   ]
  },
  {
   "cell_type": "code",
   "execution_count": 4,
   "metadata": {
    "collapsed": false,
    "deletable": true,
    "editable": true
   },
   "outputs": [
    {
     "name": "stdout",
     "output_type": "stream",
     "text": [
      "10\n",
      "[\n",
      "    {\n",
      "        \"mdf\": {\n",
      "            \"collection\": \"Harvard Organic Photovoltaic Dataset\",\n",
      "            \"composition\": \"CN1c2ccccc2C(=C2c3ccc(-c4cccs4)cc3N(C)C2=O)C1=O\",\n",
      "            \"ingest_date\": \"2017-07-10T13:58:26.432034Z\",\n",
      "            \"links\": {\n",
      "                \"landing_page\": \"https://figshare.com/articles/HOPV15_Dataset/1610063/4#2\",\n",
      "                \"molecule\": {\n",
      "                    \"globus_endpoint\": \"82f1b5c6-6e9b-11e5-ba47-22000b92c6ec\",\n",
      "                    \"http_host\": \"https://data.materialsdatafacility.org\",\n",
      "                    \"path\": \"/collections/hopv/hopv_2.txt\"\n",
      "                },\n",
      "                \"original\": {\n",
      "                    \"globus_endpoint\": \"82f1b5c6-6e9b-11e5-ba47-22000b92c6ec\",\n",
      "                    \"http_host\": \"https://data.materialsdatafacility.org\",\n",
      "                    \"path\": \"/collections/hopv/HOPV_15_revised_2.data\"\n",
      "                },\n",
      "                \"parent_id\": \"59638801d0a0d30327e29128\"\n",
      "            },\n",
      "            \"mdf-id\": \"59638802d0a0d30327e2912a\",\n",
      "            \"metadata_version\": \"0.3.0\",\n",
      "            \"resource_type\": \"record\",\n",
      "            \"scroll_id\": 2,\n",
      "            \"source_name\": \"hopv\",\n",
      "            \"title\": \"HOPV - CN1c2ccccc2C(=C2c3ccc(-c4cccs4)cc3N(C)C2=O)C1=O\"\n",
      "        }\n",
      "    },\n",
      "    {\n",
      "        \"mdf\": {\n",
      "            \"collection\": \"Harvard Organic Photovoltaic Dataset\",\n",
      "            \"composition\": \"Cc1cc(-c2cc3c4nsnc4c(-c4cc(C)c(-c5cccs5)s4)cc3c3nsnc32)sc1-c1cccs1\",\n",
      "            \"ingest_date\": \"2017-07-10T13:58:26.472126Z\",\n",
      "            \"links\": {\n",
      "                \"landing_page\": \"https://figshare.com/articles/HOPV15_Dataset/1610063/4#3\",\n",
      "                \"molecule\": {\n",
      "                    \"globus_endpoint\": \"82f1b5c6-6e9b-11e5-ba47-22000b92c6ec\",\n",
      "                    \"http_host\": \"https://data.materialsdatafacility.org\",\n",
      "                    \"path\": \"/collections/hopv/hopv_3.txt\"\n",
      "                },\n",
      "                \"original\": {\n",
      "                    \"globus_endpoint\": \"82f1b5c6-6e9b-11e5-ba47-22000b92c6ec\",\n",
      "                    \"http_host\": \"https://data.materialsdatafacility.org\",\n",
      "                    \"path\": \"/collections/hopv/HOPV_15_revised_2.data\"\n",
      "                },\n",
      "                \"parent_id\": \"59638801d0a0d30327e29128\"\n",
      "            },\n",
      "            \"mdf-id\": \"59638802d0a0d30327e2912b\",\n",
      "            \"metadata_version\": \"0.3.0\",\n",
      "            \"resource_type\": \"record\",\n",
      "            \"scroll_id\": 3,\n",
      "            \"source_name\": \"hopv\",\n",
      "            \"title\": \"HOPV - Cc1cc(-c2cc3c4nsnc4c(-c4cc(C)c(-c5cccs5)s4)cc3c3nsnc32)sc1-c1cccs1\"\n",
      "        }\n",
      "    },\n",
      "    {\n",
      "        \"mdf\": {\n",
      "            \"collection\": \"Harvard Organic Photovoltaic Dataset\",\n",
      "            \"composition\": \"Cn1c2ccccc2c2ccc(-c3ccc(-c4ccc(C5=C(c6ccccc6)C(c6ccccc6)=C(c6ccc(-c7cccs7)s6)[Si]5(C)C)s4)s3)cc21\",\n",
      "            \"ingest_date\": \"2017-07-10T13:58:26.529407Z\",\n",
      "            \"links\": {\n",
      "                \"landing_page\": \"https://figshare.com/articles/HOPV15_Dataset/1610063/4#4\",\n",
      "                \"molecule\": {\n",
      "                    \"globus_endpoint\": \"82f1b5c6-6e9b-11e5-ba47-22000b92c6ec\",\n",
      "                    \"http_host\": \"https://data.materialsdatafacility.org\",\n",
      "                    \"path\": \"/collections/hopv/hopv_4.txt\"\n",
      "                },\n",
      "                \"original\": {\n",
      "                    \"globus_endpoint\": \"82f1b5c6-6e9b-11e5-ba47-22000b92c6ec\",\n",
      "                    \"http_host\": \"https://data.materialsdatafacility.org\",\n",
      "                    \"path\": \"/collections/hopv/HOPV_15_revised_2.data\"\n",
      "                },\n",
      "                \"parent_id\": \"59638801d0a0d30327e29128\"\n",
      "            },\n",
      "            \"mdf-id\": \"59638802d0a0d30327e2912c\",\n",
      "            \"metadata_version\": \"0.3.0\",\n",
      "            \"resource_type\": \"record\",\n",
      "            \"scroll_id\": 4,\n",
      "            \"source_name\": \"hopv\",\n",
      "            \"title\": \"HOPV - Cn1c2ccccc2c2ccc(-c3ccc(-c4ccc(C5=C(c6ccccc6)C(c6ccccc6)=C(c6ccc(-c7cccs7)s6)[Si]5(C)C)s4)s3)cc21\"\n",
      "        }\n",
      "    },\n",
      "    {\n",
      "        \"mdf\": {\n",
      "            \"collection\": \"Harvard Organic Photovoltaic Dataset\",\n",
      "            \"composition\": \"CC1=CC(c2cc(C)c(-c3ccc(-c4sc(-c5nc(C)c(-c6cccs6)s5)nc4C)s3)s2)=S=C1\",\n",
      "            \"ingest_date\": \"2017-07-10T13:58:26.756410Z\",\n",
      "            \"links\": {\n",
      "                \"landing_page\": \"https://figshare.com/articles/HOPV15_Dataset/1610063/4#8\",\n",
      "                \"molecule\": {\n",
      "                    \"globus_endpoint\": \"82f1b5c6-6e9b-11e5-ba47-22000b92c6ec\",\n",
      "                    \"http_host\": \"https://data.materialsdatafacility.org\",\n",
      "                    \"path\": \"/collections/hopv/hopv_8.txt\"\n",
      "                },\n",
      "                \"original\": {\n",
      "                    \"globus_endpoint\": \"82f1b5c6-6e9b-11e5-ba47-22000b92c6ec\",\n",
      "                    \"http_host\": \"https://data.materialsdatafacility.org\",\n",
      "                    \"path\": \"/collections/hopv/HOPV_15_revised_2.data\"\n",
      "                },\n",
      "                \"parent_id\": \"59638801d0a0d30327e29128\"\n",
      "            },\n",
      "            \"mdf-id\": \"59638802d0a0d30327e29130\",\n",
      "            \"metadata_version\": \"0.3.0\",\n",
      "            \"resource_type\": \"record\",\n",
      "            \"scroll_id\": 8,\n",
      "            \"source_name\": \"hopv\",\n",
      "            \"title\": \"HOPV - CC1=CC(c2cc(C)c(-c3ccc(-c4sc(-c5nc(C)c(-c6cccs6)s5)nc4C)s3)s2)=S=C1\"\n",
      "        }\n",
      "    },\n",
      "    {\n",
      "        \"mdf\": {\n",
      "            \"collection\": \"Harvard Organic Photovoltaic Dataset\",\n",
      "            \"composition\": \"CN1C(=O)C2=C(c3ccc(-c4ccc(C(F)(F)F)cc4)s3)N(C)C(=O)C2=C1c1ccc(-c2ccc(C(F)(F)F)cc2)s1\",\n",
      "            \"ingest_date\": \"2017-07-10T13:58:26.798640Z\",\n",
      "            \"links\": {\n",
      "                \"landing_page\": \"https://figshare.com/articles/HOPV15_Dataset/1610063/4#9\",\n",
      "                \"molecule\": {\n",
      "                    \"globus_endpoint\": \"82f1b5c6-6e9b-11e5-ba47-22000b92c6ec\",\n",
      "                    \"http_host\": \"https://data.materialsdatafacility.org\",\n",
      "                    \"path\": \"/collections/hopv/hopv_9.txt\"\n",
      "                },\n",
      "                \"original\": {\n",
      "                    \"globus_endpoint\": \"82f1b5c6-6e9b-11e5-ba47-22000b92c6ec\",\n",
      "                    \"http_host\": \"https://data.materialsdatafacility.org\",\n",
      "                    \"path\": \"/collections/hopv/HOPV_15_revised_2.data\"\n",
      "                },\n",
      "                \"parent_id\": \"59638801d0a0d30327e29128\"\n",
      "            },\n",
      "            \"mdf-id\": \"59638802d0a0d30327e29131\",\n",
      "            \"metadata_version\": \"0.3.0\",\n",
      "            \"resource_type\": \"record\",\n",
      "            \"scroll_id\": 9,\n",
      "            \"source_name\": \"hopv\",\n",
      "            \"title\": \"HOPV - CN1C(=O)C2=C(c3ccc(-c4ccc(C(F)(F)F)cc4)s3)N(C)C(=O)C2=C1c1ccc(-c2ccc(C(F)(F)F)cc2)s1\"\n",
      "        }\n",
      "    },\n",
      "    {\n",
      "        \"mdf\": {\n",
      "            \"collection\": \"Harvard Organic Photovoltaic Dataset\",\n",
      "            \"composition\": \"N#CC(=Cc1ccc(-c2ccc(-c3ccc(N(c4ccccc4)c4ccccc4)cc3)s2)s1)C(=O)O\",\n",
      "            \"ingest_date\": \"2017-07-10T13:58:26.938593Z\",\n",
      "            \"links\": {\n",
      "                \"landing_page\": \"https://figshare.com/articles/HOPV15_Dataset/1610063/4#12\",\n",
      "                \"molecule\": {\n",
      "                    \"globus_endpoint\": \"82f1b5c6-6e9b-11e5-ba47-22000b92c6ec\",\n",
      "                    \"http_host\": \"https://data.materialsdatafacility.org\",\n",
      "                    \"path\": \"/collections/hopv/hopv_12.txt\"\n",
      "                },\n",
      "                \"original\": {\n",
      "                    \"globus_endpoint\": \"82f1b5c6-6e9b-11e5-ba47-22000b92c6ec\",\n",
      "                    \"http_host\": \"https://data.materialsdatafacility.org\",\n",
      "                    \"path\": \"/collections/hopv/HOPV_15_revised_2.data\"\n",
      "                },\n",
      "                \"parent_id\": \"59638801d0a0d30327e29128\"\n",
      "            },\n",
      "            \"mdf-id\": \"59638802d0a0d30327e29134\",\n",
      "            \"metadata_version\": \"0.3.0\",\n",
      "            \"resource_type\": \"record\",\n",
      "            \"scroll_id\": 12,\n",
      "            \"source_name\": \"hopv\",\n",
      "            \"title\": \"HOPV - N#CC(=Cc1ccc(-c2ccc(-c3ccc(N(c4ccccc4)c4ccccc4)cc3)s2)s1)C(=O)O\"\n",
      "        }\n",
      "    },\n",
      "    {\n",
      "        \"mdf\": {\n",
      "            \"collection\": \"Harvard Organic Photovoltaic Dataset\",\n",
      "            \"composition\": \"Cc1nc(-c2nc(C)c(-c3ccc(C4=S=C5c6cc7c(cc6C(C)(C)C5=C4)-c4sccc4C7(C)C)s3)s2)sc1-c1cccs1\",\n",
      "            \"ingest_date\": \"2017-07-10T13:58:26.987063Z\",\n",
      "            \"links\": {\n",
      "                \"landing_page\": \"https://figshare.com/articles/HOPV15_Dataset/1610063/4#14\",\n",
      "                \"molecule\": {\n",
      "                    \"globus_endpoint\": \"82f1b5c6-6e9b-11e5-ba47-22000b92c6ec\",\n",
      "                    \"http_host\": \"https://data.materialsdatafacility.org\",\n",
      "                    \"path\": \"/collections/hopv/hopv_14.txt\"\n",
      "                },\n",
      "                \"original\": {\n",
      "                    \"globus_endpoint\": \"82f1b5c6-6e9b-11e5-ba47-22000b92c6ec\",\n",
      "                    \"http_host\": \"https://data.materialsdatafacility.org\",\n",
      "                    \"path\": \"/collections/hopv/HOPV_15_revised_2.data\"\n",
      "                },\n",
      "                \"parent_id\": \"59638801d0a0d30327e29128\"\n",
      "            },\n",
      "            \"mdf-id\": \"59638802d0a0d30327e29136\",\n",
      "            \"metadata_version\": \"0.3.0\",\n",
      "            \"resource_type\": \"record\",\n",
      "            \"scroll_id\": 14,\n",
      "            \"source_name\": \"hopv\",\n",
      "            \"title\": \"HOPV - Cc1nc(-c2nc(C)c(-c3ccc(C4=S=C5c6cc7c(cc6C(C)(C)C5=C4)-c4sccc4C7(C)C)s3)s2)sc1-c1cccs1\"\n",
      "        }\n",
      "    },\n",
      "    {\n",
      "        \"mdf\": {\n",
      "            \"collection\": \"Harvard Organic Photovoltaic Dataset\",\n",
      "            \"composition\": \"Cc1ccc(C2(c3ccc(C)cc3)c3ccsc3-c3cc4c(cc32)-c2sc(-c3ccc(-c5ccc(-c6ccc(-c7ccc(-c8cccs8)s7)c7nsnc76)s5)s3)cc2C4(c2ccc(C)cc2)c2ccc(C)cc2)cc1\",\n",
      "            \"ingest_date\": \"2017-07-10T13:58:27.046778Z\",\n",
      "            \"links\": {\n",
      "                \"landing_page\": \"https://figshare.com/articles/HOPV15_Dataset/1610063/4#15\",\n",
      "                \"molecule\": {\n",
      "                    \"globus_endpoint\": \"82f1b5c6-6e9b-11e5-ba47-22000b92c6ec\",\n",
      "                    \"http_host\": \"https://data.materialsdatafacility.org\",\n",
      "                    \"path\": \"/collections/hopv/hopv_15.txt\"\n",
      "                },\n",
      "                \"original\": {\n",
      "                    \"globus_endpoint\": \"82f1b5c6-6e9b-11e5-ba47-22000b92c6ec\",\n",
      "                    \"http_host\": \"https://data.materialsdatafacility.org\",\n",
      "                    \"path\": \"/collections/hopv/HOPV_15_revised_2.data\"\n",
      "                },\n",
      "                \"parent_id\": \"59638801d0a0d30327e29128\"\n",
      "            },\n",
      "            \"mdf-id\": \"59638803d0a0d30327e29137\",\n",
      "            \"metadata_version\": \"0.3.0\",\n",
      "            \"resource_type\": \"record\",\n",
      "            \"scroll_id\": 15,\n",
      "            \"source_name\": \"hopv\",\n",
      "            \"title\": \"HOPV - Cc1ccc(C2(c3ccc(C)cc3)c3ccsc3-c3cc4c(cc32)-c2sc(-c3ccc(-c5ccc(-c6ccc(-c7ccc(-c8cccs8)s7)c7nsnc76)s5)s3)cc2C4(c2ccc(C)cc2)c2ccc(C)cc2)cc1\"\n",
      "        }\n",
      "    },\n",
      "    {\n",
      "        \"mdf\": {\n",
      "            \"collection\": \"Harvard Organic Photovoltaic Dataset\",\n",
      "            \"composition\": \"COc1cccc(-c2nc3c(-c4cccs4)ccc(-c4ccc(-c5cc6c(s5)c(-c5ccc(C)s5)c5ccsc5c6-c5ccc(C)s5)s4)c3nc2-c2cccc(OC)c2)c1\",\n",
      "            \"ingest_date\": \"2017-07-10T13:58:27.221594Z\",\n",
      "            \"links\": {\n",
      "                \"landing_page\": \"https://figshare.com/articles/HOPV15_Dataset/1610063/4#17\",\n",
      "                \"molecule\": {\n",
      "                    \"globus_endpoint\": \"82f1b5c6-6e9b-11e5-ba47-22000b92c6ec\",\n",
      "                    \"http_host\": \"https://data.materialsdatafacility.org\",\n",
      "                    \"path\": \"/collections/hopv/hopv_17.txt\"\n",
      "                },\n",
      "                \"original\": {\n",
      "                    \"globus_endpoint\": \"82f1b5c6-6e9b-11e5-ba47-22000b92c6ec\",\n",
      "                    \"http_host\": \"https://data.materialsdatafacility.org\",\n",
      "                    \"path\": \"/collections/hopv/HOPV_15_revised_2.data\"\n",
      "                },\n",
      "                \"parent_id\": \"59638801d0a0d30327e29128\"\n",
      "            },\n",
      "            \"mdf-id\": \"59638803d0a0d30327e29139\",\n",
      "            \"metadata_version\": \"0.3.0\",\n",
      "            \"resource_type\": \"record\",\n",
      "            \"scroll_id\": 17,\n",
      "            \"source_name\": \"hopv\",\n",
      "            \"title\": \"HOPV - COc1cccc(-c2nc3c(-c4cccs4)ccc(-c4ccc(-c5cc6c(s5)c(-c5ccc(C)s5)c5ccsc5c6-c5ccc(C)s5)s4)c3nc2-c2cccc(OC)c2)c1\"\n",
      "        }\n",
      "    },\n",
      "    {\n",
      "        \"mdf\": {\n",
      "            \"collection\": \"Harvard Organic Photovoltaic Dataset\",\n",
      "            \"composition\": \"Cc1csc(C=Cc2cccc3nsnc32)c1C\",\n",
      "            \"ingest_date\": \"2017-07-10T13:58:27.296787Z\",\n",
      "            \"links\": {\n",
      "                \"landing_page\": \"https://figshare.com/articles/HOPV15_Dataset/1610063/4#18\",\n",
      "                \"molecule\": {\n",
      "                    \"globus_endpoint\": \"82f1b5c6-6e9b-11e5-ba47-22000b92c6ec\",\n",
      "                    \"http_host\": \"https://data.materialsdatafacility.org\",\n",
      "                    \"path\": \"/collections/hopv/hopv_18.txt\"\n",
      "                },\n",
      "                \"original\": {\n",
      "                    \"globus_endpoint\": \"82f1b5c6-6e9b-11e5-ba47-22000b92c6ec\",\n",
      "                    \"http_host\": \"https://data.materialsdatafacility.org\",\n",
      "                    \"path\": \"/collections/hopv/HOPV_15_revised_2.data\"\n",
      "                },\n",
      "                \"parent_id\": \"59638801d0a0d30327e29128\"\n",
      "            },\n",
      "            \"mdf-id\": \"59638803d0a0d30327e2913a\",\n",
      "            \"metadata_version\": \"0.3.0\",\n",
      "            \"resource_type\": \"record\",\n",
      "            \"scroll_id\": 18,\n",
      "            \"source_name\": \"hopv\",\n",
      "            \"title\": \"HOPV - Cc1csc(C=Cc2cccc3nsnc32)c1C\"\n",
      "        }\n",
      "    }\n",
      "]\n"
     ]
    }
   ],
   "source": [
    "query2 = {\n",
    "    \"q\": \"mdf.source_name:hopv\",  # Specific field search\n",
    "    \"advanced\": True,                    # Using advanced/structured query\n",
    "    \"limit\": 10                          # Max number of results to return\n",
    "}\n",
    "search_result2 = client.structured_search(query2)\n",
    "cleaned_search_result2 = gmeta_pop(search_result2)\n",
    "print(len(cleaned_search_result2))\n",
    "print(json.dumps(cleaned_search_result2, sort_keys=True, indent=4, separators=(',', ': ')))"
   ]
  },
  {
   "cell_type": "markdown",
   "metadata": {
    "deletable": true,
    "editable": true
   },
   "source": [
    "# Search for specific elements"
   ]
  },
  {
   "cell_type": "code",
   "execution_count": 5,
   "metadata": {
    "collapsed": true,
    "deletable": true,
    "editable": true
   },
   "outputs": [],
   "source": [
    "all_elements = {\"Actinium\": \"Ac\", \"Silver\": \"Ag\", \"Aluminum\": \"Al\", \"Americium\": \"Am\", \"Argon\": \"Ar\", \"Arsenic\": \"As\", \"Astatine\": \"At\", \"Gold\": \"Au\", \"Boron\": \"B\", \"Barium\": \"Ba\", \"Beryllium\": \"Be\", \"Bohrium\": \"Bh\", \"Bismuth\": \"Bi\", \"Berkelium\": \"Bk\", \"Brom    ine\": \"Br\", \"Carbon\": \"C\", \"Calcium\": \"Ca\", \"Cadmium\": \"Cd\", \"Cerium\": \"Ce\", \"Californium\": \"Cf\", \"Chlorine\": \"Cl\", \"Curium\": \"Cm\", \"Copernicium\": \"Cn\", \"Cobalt\": \"Co\", \"Chromium\": \"Cr\", \"Cesium\": \"Cs\", \"Copper\": \"Cu\", \"Dubnium\": \"Db\", \"Darmstadtium\": \"Ds\", \"Dyspros    ium\": \"Dy\", \"Erbium\": \"Er\", \"Einsteinium\": \"Es\", \"Europium\": \"Eu\", \"Fluorine\": \"F\", \"Iron\": \"Fe\", \"Flerovium\": \"Fl\", \"Fermium\": \"Fm\", \"Francium\": \"Fr\", \"Gallium\": \"Ga\", \"Gadolinium\": \"Gd\", \"Germanium\": \"Ge\", \"Hydrogen\": \"H\", \"Helium\": \"He\", \"Hafnium\": \"Hf\", \"Mercury\": \"Hg\", \"Holmium\": \"Ho\", \"Hassium\": \"Hs\", \"Iodine\": \"I\", \"Indium\": \"In\", \"Iridium\": \"Ir\", \"Potassium\": \"K\", \"Krypton\": \"Kr\", \"Lanthanum\": \"La\", \"Lithium\": \"Li\", \"Lawrencium\": \"Lr\", \"Lutetium\": \"Lu\", \"Livermorium\": \"Lv\", \"Mendelevium\": \"Md\", \"Magnesium\": \"Mg\", \"Mang    anese\": \"Mn\", \"Molybdenum\": \"Mo\", \"Meitnerium\": \"Mt\", \"Nitrogen\": \"N\", \"Sodium\": \"Na\", \"Niobium\": \"Nb\", \"Neodymium\": \"Nd\", \"Neon\": \"Ne\", \"Nickel\": \"Ni\", \"Nobelium\": \"No\", \"Neptunium\": \"Np\", \"Oxygen\": \"O\", \"Osmium\": \"Os\", \"Phosphorus\": \"P\", \"Protactinium\": \"Pa\", \"Lea    d\": \"Pb\", \"Palladium\": \"Pd\", \"Promethium\": \"Pm\", \"Polonium\": \"Po\", \"Praseodymium\": \"Pr\", \"Platinum\": \"Pt\", \"Plutonium\": \"Pu\", \"Radium\": \"Ra\", \"Rubidium\": \"Rb\", \"Rhenium\": \"Re\", \"Rutherfordium\": \"Rf\", \"Roentgenium\": \"Rg\", \"Rhodium\": \"Rh\", \"Radon\": \"Rn\", \"Ruthenium\":     \"Ru\", \"Sulfur\": \"S\", \"Antimony\": \"Sb\", \"Scandium\": \"Sc\", \"Selenium\": \"Se\", \"Seaborgium\": \"Sg\", \"Silicon\": \"Si\", \"Samarium\": \"Sm\", \"Tin\": \"Sn\", \"Strontium\": \"Sr\", \"Tantalum\": \"Ta\", \"Terbium\": \"Tb\", \"Technetium\": \"Tc\", \"Tellurium\": \"Te\", \"Thorium\": \"Th\", \"Titanium\": \"Ti\", \"Thallium\": \"Tl\", \"Thulium\": \"Tm\", \"Uranium\": \"U\", \"Ununoctium\": \"Uuo\", \"Ununpentium\": \"Uup\", \"Ununseptium\": \"Uus\", \"Ununtrium\": \"Uut\", \"Vanadium\": \"V\", \"Tungsten\": \"W\", \"Xenon\": \"Xe\", \"Yttrium\": \"Y\", \"Ytterbium\": \"Yb\", \"Zinc\": \"Zn\", \"Zirconium\": \"Zr\"}"
   ]
  },
  {
   "cell_type": "code",
   "execution_count": 6,
   "metadata": {
    "collapsed": false,
    "deletable": true,
    "editable": true
   },
   "outputs": [],
   "source": [
    "elems = all_elements.values()"
   ]
  },
  {
   "cell_type": "code",
   "execution_count": 13,
   "metadata": {
    "collapsed": false,
    "deletable": true,
    "editable": true
   },
   "outputs": [],
   "source": [
    "query = {\n",
    "    \"q\": \"mdf.source_name:khazana_polymer AND mdf.resource_type:record\",\n",
    "    \"advanced\": True,\n",
    "    \"limit\": 2\n",
    "}\n",
    "must = [\"H\", \"Cl\"]\n",
    "query2 = {\n",
    "    \"q\": \"\",\n",
    "    \"advanced\": True,\n",
    "    \"limit\": 9999\n",
    "}\n",
    "for elem in elems:\n",
    "    if elem in must:\n",
    "        query2[\"q\"] += \" AND elements:\" + elem\n",
    "    else:\n",
    "        query2[\"q\"] += \" AND NOT elements:\" + elem\n",
    "if query2[\"q\"].startswith(\" AND \"):\n",
    "    query2[\"q\"] = query2[\"q\"].replace(\" AND \", \"\", 1)\n",
    "else:\n",
    "    print(\"No replace\")"
   ]
  },
  {
   "cell_type": "code",
   "execution_count": 14,
   "metadata": {
    "collapsed": false,
    "deletable": true,
    "editable": true
   },
   "outputs": [],
   "source": [
    "#search_res = gmeta_pop(client.structured_search(query))\n",
    "raw_res = client.structured_search(query)\n",
    "#raw_res2 = client.structured_search(query2)\n",
    "search_res = gmeta_pop(raw_res)\n",
    "#search_res2 = gmeta_pop(raw_res2)"
   ]
  },
  {
   "cell_type": "code",
   "execution_count": 15,
   "metadata": {
    "collapsed": false,
    "deletable": true,
    "editable": true
   },
   "outputs": [
    {
     "name": "stdout",
     "output_type": "stream",
     "text": [
      "0\n",
      "0\n"
     ]
    },
    {
     "ename": "IndexError",
     "evalue": "list index out of range",
     "output_type": "error",
     "traceback": [
      "\u001b[0;31m---------------------------------------------------------------------------\u001b[0m",
      "\u001b[0;31mIndexError\u001b[0m                                Traceback (most recent call last)",
      "\u001b[0;32m<ipython-input-15-c1c22f84cc2f>\u001b[0m in \u001b[0;36m<module>\u001b[0;34m()\u001b[0m\n\u001b[1;32m      3\u001b[0m \u001b[0mprint\u001b[0m\u001b[0;34m(\u001b[0m\u001b[0mlen\u001b[0m\u001b[0;34m(\u001b[0m\u001b[0msearch_res\u001b[0m\u001b[0;34m)\u001b[0m\u001b[0;34m)\u001b[0m\u001b[0;34m\u001b[0m\u001b[0m\n\u001b[1;32m      4\u001b[0m \u001b[0;31m#print(raw_res)\u001b[0m\u001b[0;34m\u001b[0m\u001b[0;34m\u001b[0m\u001b[0m\n\u001b[0;32m----> 5\u001b[0;31m \u001b[0msearch_res\u001b[0m\u001b[0;34m[\u001b[0m\u001b[0;36m0\u001b[0m\u001b[0;34m]\u001b[0m\u001b[0;34m\u001b[0m\u001b[0m\n\u001b[0m",
      "\u001b[0;31mIndexError\u001b[0m: list index out of range"
     ]
    }
   ],
   "source": [
    "print(raw_res[\"total\"])\n",
    "#print(raw_res2[\"total\"])\n",
    "print(len(search_res))\n",
    "#print(raw_res)\n",
    "search_res[0]"
   ]
  },
  {
   "cell_type": "code",
   "execution_count": null,
   "metadata": {
    "collapsed": false,
    "deletable": true,
    "editable": true
   },
   "outputs": [],
   "source": [
    "#elements = set()\n",
    "#for res in search_res:\n",
    "#    for elem in res.get(\"http://globus.org/publication-schemas/mdf-base/0.1#elements\", []):\n",
    "#        elements.add(elem)\n",
    "elements2 = set()\n",
    "for res2 in search_res2:\n",
    "    for elem2 in res2.get(\"mdf-elements\", []):\n",
    "        elements2.add(elem2)"
   ]
  },
  {
   "cell_type": "code",
   "execution_count": null,
   "metadata": {
    "collapsed": false,
    "deletable": true,
    "editable": true
   },
   "outputs": [],
   "source": [
    "print((\"Al\" not in elements))\n",
    "print((\"Al\" in elements2))\n",
    "print((\"Cu\" not in elements2))\n",
    "#print(str(elements))\n",
    "print(str(elements2))"
   ]
  },
  {
   "cell_type": "code",
   "execution_count": null,
   "metadata": {
    "collapsed": false,
    "deletable": true,
    "editable": true
   },
   "outputs": [],
   "source": [
    "search_res2[0]"
   ]
  },
  {
   "cell_type": "markdown",
   "metadata": {
    "collapsed": false,
    "deletable": true,
    "editable": true
   },
   "source": [
    "# Search for >10k records"
   ]
  },
  {
   "cell_type": "code",
   "execution_count": 7,
   "metadata": {
    "collapsed": false,
    "deletable": true,
    "editable": true
   },
   "outputs": [
    {
     "name": "stdout",
     "output_type": "stream",
     "text": [
      "9999\n",
      "10000\n",
      "9190\n",
      "0\n"
     ]
    }
   ],
   "source": [
    "count = 0\n",
    "saved = 0\n",
    "while True:\n",
    "    query = {\n",
    "        \"q\": (\"mdf.source_name:nist_xps_db AND \"\n",
    "        \"mdf.scroll_id:(>=\" + str(count) + \" AND <\" + str(count + 10000) + \")\"),\n",
    "        \"advanced\": True,\n",
    "        \"limit\": 10000\n",
    "    }\n",
    "    raw_res = client.structured_search(query)\n",
    "    num_ret = len(gmeta_pop(raw_res))\n",
    "    print(num_ret)\n",
    "    if num_ret:\n",
    "        saved += num_ret\n",
    "        count += 10000\n",
    "    else:\n",
    "        break"
   ]
  },
  {
   "cell_type": "code",
   "execution_count": null,
   "metadata": {
    "collapsed": false,
    "deletable": true,
    "editable": true
   },
   "outputs": [],
   "source": [
    "print(saved)"
   ]
  },
  {
   "cell_type": "code",
   "execution_count": null,
   "metadata": {
    "collapsed": true,
    "deletable": true,
    "editable": true
   },
   "outputs": [],
   "source": []
  },
  {
   "cell_type": "markdown",
   "metadata": {
    "deletable": true,
    "editable": true
   },
   "source": [
    "# Get GMeta"
   ]
  },
  {
   "cell_type": "code",
   "execution_count": null,
   "metadata": {
    "collapsed": false,
    "deletable": true,
    "editable": true
   },
   "outputs": [],
   "source": [
    "feed_path = \"/Volumes/Seagate Backup Plus Drive/mdf_data/feedstock/hopv_all.json\"\n",
    "out_path = \"/Users/jonathongaff/Downloads/records.gmeta\"\n",
    "with open(feed_path) as feedstock:\n",
    "    glist = []\n",
    "    for line in feedstock:\n",
    "        glist.append(format_gmeta(json.loads(line)))\n",
    "gmeta = format_gmeta(glist)\n",
    "#print(gmeta)\n",
    "with open(out_path, \"w\") as outfile:\n",
    "    json.dump(gmeta, outfile)"
   ]
  }
 ],
 "metadata": {
  "kernelspec": {
   "display_name": "Python 3",
   "language": "python",
   "name": "python3"
  },
  "language_info": {
   "codemirror_mode": {
    "name": "ipython",
    "version": 3
   },
   "file_extension": ".py",
   "mimetype": "text/x-python",
   "name": "python",
   "nbconvert_exporter": "python",
   "pygments_lexer": "ipython3",
   "version": "3.6.0"
  }
 },
 "nbformat": 4,
 "nbformat_minor": 2
}
